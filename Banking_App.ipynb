{
  "nbformat": 4,
  "nbformat_minor": 0,
  "metadata": {
    "colab": {
      "provenance": []
    },
    "kernelspec": {
      "name": "python3",
      "display_name": "Python 3"
    },
    "language_info": {
      "name": "python"
    }
  },
  "cells": [
    {
      "cell_type": "markdown",
      "source": [
        "# **Problem Statement**:\n",
        "\n",
        "\n",
        "***Build a small banking interface where a user can login himself and check his balance, last 5 transactions and withdraw or deposit money. Every user should have a different username and password. Create a directory for storing all the data. In this directory, one .txt file contains the credentials of each users. For each user, there is a .txt file which contains the transactional data continuously getting stored in it.***"
      ],
      "metadata": {
        "id": "oqo0Iqtr8fjh"
      }
    },
    {
      "cell_type": "code",
      "execution_count": 1,
      "metadata": {
        "id": "600GxQd-P57Z"
      },
      "outputs": [],
      "source": [
        "import os\n",
        "import datetime"
      ]
    },
    {
      "cell_type": "code",
      "source": [
        "#Creating the directory for Saving detail\n",
        "directory = 'Bank'\n",
        "os.mkdir(directory)\n",
        "f = open(\"./Bank/credential\",'w')\n",
        "f.close()"
      ],
      "metadata": {
        "id": "WWnXrCMWQFFk"
      },
      "execution_count": 2,
      "outputs": []
    },
    {
      "cell_type": "code",
      "source": [
        "def isfloat(num):\n",
        "  try:\n",
        "      float(num)\n",
        "      return True\n",
        "  except ValueError:\n",
        "      return False"
      ],
      "metadata": {
        "id": "NZwCEs98QFB-"
      },
      "execution_count": 3,
      "outputs": []
    },
    {
      "cell_type": "code",
      "source": [
        "def num_in_sen(str1):\n",
        "    s = str1.split(' ')\n",
        "    l = [i for i in s if isfloat(i)]\n",
        "    l1 = float(l[1])\n",
        "    return l1"
      ],
      "metadata": {
        "id": "zn0nvgJpQMzA"
      },
      "execution_count": 4,
      "outputs": []
    },
    {
      "cell_type": "code",
      "source": [
        "def Check_user(user):\n",
        "    f = open(\"./Bank/credential\",'r')\n",
        "    str1 = 'user : ' + user + '\\n'\n",
        "    check = 0\n",
        "    l1 = ''\n",
        "    for myline in f:\n",
        "        l1 = myline\n",
        "        if l1 == str1:\n",
        "          check = 1\n",
        "          break\n",
        "    f.close()\n",
        "    return check"
      ],
      "metadata": {
        "id": "Eov7KO3LQMw9"
      },
      "execution_count": 5,
      "outputs": []
    },
    {
      "cell_type": "code",
      "source": [
        "def Check_credential(user, password):\n",
        "    f = open(\"./Bank/credential\",'r')\n",
        "    str1 = 'user : ' + user + '\\n'\n",
        "    str2 = 'password : ' + password + '\\n'\n",
        "    check, flag2, count = 0, 0, 1\n",
        "    l1 = ''\n",
        "    for myline in f:\n",
        "        l1 = myline\n",
        "        count += 1\n",
        "        if l1 == str1:\n",
        "          flag2 = count\n",
        "        if flag2 + 1 == count:\n",
        "          if l1 == str2:\n",
        "            check = 1\n",
        "          else:\n",
        "            check = 0\n",
        "          break\n",
        "\n",
        "    f.close()\n",
        "    return check"
      ],
      "metadata": {
        "id": "ONqoCDPRQMtb"
      },
      "execution_count": 6,
      "outputs": []
    },
    {
      "cell_type": "code",
      "source": [
        "def create_account(user, password):\n",
        "    f = open(\"./Bank/credential\",'a+')\n",
        "    str1 = 'user : ' + user + '\\n'\n",
        "    str2 = 'password : ' + password + '\\n'\n",
        "    f.write(str1)\n",
        "    f.write(str2)\n",
        "    f.close()\n",
        "\n",
        "    str1 = \"./Bank/\" + user + ' Transaction'\n",
        "    f = open(str1, 'a+')\n",
        "\n",
        "    ct = datetime.datetime.now()\n",
        "    year = ct.strftime(\"%Y\")\n",
        "    month = ct.strftime(\"%m\")\n",
        "    day = ct.strftime(\"%d\")\n",
        "    time = ct.strftime(\"%H:%M:%S\")\n",
        "\n",
        "    mistake = 1\n",
        "    while(mistake):\n",
        "      Amount = input(\"Enter the amount: \")\n",
        "      try:\n",
        "        Amount = float(Amount)\n",
        "        mistake = 0\n",
        "      except:\n",
        "        print(\"You have to input valid number\")\n",
        "\n",
        "    str2 = 'Deposite : '+str(Amount)+' time = ' + year + '/'+ month +'/'+ day + ' ' + time + ' Total Available = '+ str(Amount)+'\\n'\n",
        "    f.write(str2)\n",
        "    f.close()"
      ],
      "metadata": {
        "id": "cfTfQFsJQMqx"
      },
      "execution_count": 7,
      "outputs": []
    },
    {
      "cell_type": "code",
      "source": [
        "def SeeTransaction(user):\n",
        "    str1 = \"./Bank/\" + user + ' Transaction'\n",
        "    f = open(str1, 'r')\n",
        "    l1 = ''\n",
        "    for myline in (f.readlines() [-5:]):\n",
        "        l1 = myline\n",
        "        print(l1)\n",
        "    if l1 == '':\n",
        "        print(\"No transaction to show\")\n",
        "    f.close()"
      ],
      "metadata": {
        "id": "BYmd338QQMoA"
      },
      "execution_count": 20,
      "outputs": []
    },
    {
      "cell_type": "code",
      "source": [
        "def Transaction_Deposite(user, Amount):\n",
        "    str1 = \"./Bank/\" + user + ' Transaction'\n",
        "    f = open(str1, 'r')\n",
        "    l1 = ''\n",
        "    for myline in f:\n",
        "        l1 = myline\n",
        "    if l1 == '':\n",
        "        l = 0\n",
        "    else:\n",
        "        l = num_in_sen(l1)\n",
        "    f.close()\n",
        "\n",
        "    if l >= Amount:\n",
        "        f = open(str1, 'a+')\n",
        "        ct = datetime.datetime.now()\n",
        "        year = ct.strftime(\"%Y\")\n",
        "        month = ct.strftime(\"%m\")\n",
        "        day = ct.strftime(\"%d\")\n",
        "        time = ct.strftime(\"%H:%M:%S\")\n",
        "\n",
        "        str2 = 'Deposite : '+str(Amount)+' time = ' + year + '/'+ month +'/'+ day + ' ' + time + ' Total Available = '+ str(Amount + l)+'\\n'\n",
        "        print(\"Total Available balance : \", Amount + l)\n",
        "        f.write(str2)\n",
        "        f.close()\n",
        "    else:\n",
        "        print(\"You have not enough balance\")"
      ],
      "metadata": {
        "id": "-LRe_jwiQh2i"
      },
      "execution_count": 9,
      "outputs": []
    },
    {
      "cell_type": "code",
      "source": [
        "def Transaction_Withdrawl(user, Amount):\n",
        "    str1 = \"./Bank/\" + user + ' Transaction'\n",
        "    f = open(str1, 'r')\n",
        "    l1 = ''\n",
        "    for myline in f:\n",
        "        l1 = myline\n",
        "    if l1 == '':\n",
        "        l = 0\n",
        "    else:\n",
        "        l = num_in_sen(l1)\n",
        "    f.close()\n",
        "\n",
        "    f = open(str1, 'a+')\n",
        "    ct = datetime.datetime.now()\n",
        "    year = ct.strftime(\"%Y\")\n",
        "    month = ct.strftime(\"%m\")\n",
        "    day = ct.strftime(\"%d\")\n",
        "    time = ct.strftime(\"%H:%M:%S\")\n",
        "\n",
        "    str2 = 'Withdrawl : '+str(Amount)+' time = ' + year + '/'+ month +'/'+ day + ' ' + time + ' Total Available = '+ str(l - Amount)+'\\n'\n",
        "    print(\"Total Available balance : \", l - Amount)\n",
        "    f.write(str2)\n",
        "    f.close()"
      ],
      "metadata": {
        "id": "MKcQQ-TKQhpi"
      },
      "execution_count": 10,
      "outputs": []
    },
    {
      "cell_type": "code",
      "source": [],
      "metadata": {
        "id": "RUN-L9mYYaMT"
      },
      "execution_count": 10,
      "outputs": []
    },
    {
      "cell_type": "code",
      "source": [
        "#User Interface\n",
        "while(1):\n",
        "  print(\"=====Welcome to the Bank=====\")\n",
        "\n",
        "  mistake = 1\n",
        "  while(mistake):\n",
        "    a = input(\"Select any index\\n1. Create Account\\n2. Login to account\\n3. Exit\\n\")\n",
        "    try:\n",
        "      a = int(a)\n",
        "      mistake = 0\n",
        "    except:\n",
        "      print(\"You have to input valid number\")\n",
        "\n",
        "  if 1 == a:\n",
        "    b = 1\n",
        "    while(b):\n",
        "      user = input(\"Provide user id:\")\n",
        "      d = Check_user(user)\n",
        "      if 1 == d:\n",
        "        mistake = 1\n",
        "        while(mistake):\n",
        "          b = input(\"User already present. To provide another id press 1. If you want to exit press 0: \")\n",
        "          try:\n",
        "            b = int(b)\n",
        "            mistake = 0\n",
        "          except:\n",
        "            print(\"You have to input valid number\")\n",
        "        if 0 == b:\n",
        "          break\n",
        "        else:\n",
        "          print(\"Invalid input\")\n",
        "      elif 0 == d:\n",
        "        password = input(\"Provide password:\")\n",
        "        create_account(user, password)\n",
        "        b = 0\n",
        "\n",
        "  elif 2 == a:\n",
        "    user = input(\"Provide your user id:\")\n",
        "    password = input(\"Provide your password:\")\n",
        "    #Checking of user and password\n",
        "    flag = Check_credential(user, password)\n",
        "    if 0 == flag:\n",
        "      print(\"Invalid Credential\")\n",
        "    while(flag):\n",
        "      flag = 0\n",
        "      mistake = 1\n",
        "      while(mistake):\n",
        "        b = int(input(\" 1. See Last 5 Transaction\\n 2. Deposite\\n 3. Withdrawn\\n 4. Go to Home\\nYour Choice:\"))\n",
        "        try:\n",
        "          b = int(b)\n",
        "          mistake = 0\n",
        "        except:\n",
        "          print(\"You have to input valid number\")\n",
        "      if 1 == b:\n",
        "        SeeTransaction(user)\n",
        "\n",
        "      elif 2 == b:\n",
        "        mistake = 1\n",
        "        valid = 0\n",
        "        while(mistake):\n",
        "          amount = input(\"Enter the amount: \")\n",
        "          try:\n",
        "            amount = float(amount)\n",
        "            mistake = 0\n",
        "            valid = 1\n",
        "          except:\n",
        "            cancel = input(\"You have to input valid number. Enter 0 to cancel deposite or press any other key to provide amount:\")\n",
        "            try:\n",
        "              cancel = int(cancel)\n",
        "              if 0 == cancel:\n",
        "                mistake = 0\n",
        "            except:\n",
        "              mistake = 1\n",
        "        if 1 == valid:\n",
        "            Transaction_Deposite(user, amount)\n",
        "\n",
        "      elif 3 == b:\n",
        "        mistake = 1\n",
        "        valid = 0\n",
        "        while(mistake):\n",
        "          amount = input(\"Enter the amount: \")\n",
        "          try:\n",
        "            amount = float(amount)\n",
        "            mistake = 0\n",
        "            valid = 1\n",
        "          except:\n",
        "            cancel = input(\"You have to input valid number. Enter 0 to cancel withdrawl or press any other key to provide amount:\")\n",
        "            try:\n",
        "              cancel = int(cancel)\n",
        "              if 0 == cancel:\n",
        "                mistake = 0\n",
        "            except:\n",
        "              mistake = 1\n",
        "        if 1 == valid:\n",
        "            Transaction_Withdrawl(user, amount)\n",
        "\n",
        "      elif 4 == b:\n",
        "        a = 0\n",
        "\n",
        "      else:\n",
        "        print(\"Invalid input\")\n",
        "        flag = 1\n",
        "\n",
        "  elif 3 == a:\n",
        "    print(\"====Thank you for Banking. Visit Again====\")\n",
        "    break\n",
        "\n",
        "  else:\n",
        "    print(\"Invalid input\")"
      ],
      "metadata": {
        "colab": {
          "base_uri": "https://localhost:8080/"
        },
        "id": "GCusoGXtQE8y",
        "outputId": "7f3014db-3dae-4218-c0b2-fe8757c23d86"
      },
      "execution_count": 22,
      "outputs": [
        {
          "output_type": "stream",
          "name": "stdout",
          "text": [
            "=====Welcome to the Bank=====\n",
            "Select any index\n",
            "1. Create Account\n",
            "2. Login to account\n",
            "3. Exit\n",
            "2\n",
            "Provide your user id:user\n",
            "Provide your password:pass\n",
            " 1. See Last 5 Transaction\n",
            " 2. Deposite\n",
            " 3. Withdrawn\n",
            " 4. Go to Home\n",
            "Your Choice:1\n",
            "Deposite : 0.0 time = 2023/08/19 17:26:09 Total Available = 6000.0\n",
            "\n",
            "Withdrawl : 2000.0 time = 2023/08/19 17:26:35 Total Available = 4000.0\n",
            "\n",
            "Deposite : 3000.0 time = 2023/08/19 17:39:07 Total Available = 7000.0\n",
            "\n",
            "Deposite : 202.0 time = 2023/08/19 17:44:03 Total Available = 7202.0\n",
            "\n",
            "Withdrawl : 108.5 time = 2023/08/19 17:44:53 Total Available = 7093.5\n",
            "\n",
            "=====Welcome to the Bank=====\n",
            "Select any index\n",
            "1. Create Account\n",
            "2. Login to account\n",
            "3. Exit\n",
            "2\n",
            "Provide your user id:user1\n",
            "Provide your password:pass1\n",
            " 1. See Last 5 Transaction\n",
            " 2. Deposite\n",
            " 3. Withdrawn\n",
            " 4. Go to Home\n",
            "Your Choice:1\n",
            "Deposite : 500.0 time = 2023/08/19 17:24:39 Total Available = 500.0\n",
            "\n",
            "=====Welcome to the Bank=====\n",
            "Select any index\n",
            "1. Create Account\n",
            "2. Login to account\n",
            "3. Exit\n",
            "3\n",
            "====Thank you for Banking. Visit Again====\n"
          ]
        }
      ]
    },
    {
      "cell_type": "code",
      "source": [],
      "metadata": {
        "id": "rpINI40Z6kMY"
      },
      "execution_count": null,
      "outputs": []
    }
  ]
}