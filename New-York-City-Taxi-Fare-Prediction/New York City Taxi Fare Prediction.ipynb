{
 "cells": [
  {
   "cell_type": "code",
   "execution_count": 1,
   "metadata": {
    "executionInfo": {
     "elapsed": 407,
     "status": "ok",
     "timestamp": 1666501827598,
     "user": {
      "displayName": "Debprasad Kundu",
      "userId": "13893367320446695825"
     },
     "user_tz": -330
    },
    "id": "MHY_1JGhOSAe"
   },
   "outputs": [],
   "source": [
    "# Load libraries\n",
    "import os\n",
    "import pandas as pd\n",
    "import numpy as np\n",
    "from sklearn.metrics import r2_score\n",
    "from fancyimpute import KNN\n",
    "from sklearn.metrics import mean_squared_error\n",
    "import matplotlib.pyplot as plt\n",
    "import seaborn as sns\n",
    "from scipy import stats\n",
    "from sklearn.model_selection import train_test_split\n",
    "from sklearn.metrics import mean_squared_error\n",
    "from sklearn import metrics\n",
    "from sklearn.linear_model import LinearRegression,Ridge,Lasso\n",
    "from sklearn.model_selection import GridSearchCV\n",
    "from sklearn.model_selection import RandomizedSearchCV\n",
    "from sklearn.model_selection import cross_val_score\n",
    "from sklearn.ensemble import RandomForestRegressor\n",
    "from sklearn.tree import DecisionTreeRegressor\n",
    "from xgboost import XGBRegressor\n",
    "import xgboost as xgb\n",
    "import joblib \n",
    "%matplotlib inline"
   ]
  },
  {
   "cell_type": "code",
   "execution_count": 2,
   "metadata": {
    "colab": {
     "base_uri": "https://localhost:8080/",
     "height": 17
    },
    "executionInfo": {
     "elapsed": 42,
     "status": "ok",
     "timestamp": 1666501828585,
     "user": {
      "displayName": "Debprasad Kundu",
      "userId": "13893367320446695825"
     },
     "user_tz": -330
    },
    "id": "s59yCnBjOSAh",
    "outputId": "f5552f47-6306-4196-90fe-7957971334ca"
   },
   "outputs": [
    {
     "data": {
      "text/html": [
       "<style>.container { width:100% !important; }</style>"
      ],
      "text/plain": [
       "<IPython.core.display.HTML object>"
      ]
     },
     "metadata": {},
     "output_type": "display_data"
    }
   ],
   "source": [
    "# For maximizing Cell width of Jupyter Notebook Cells\n",
    "from IPython.core.display import display, HTML\n",
    "display(HTML(\"<style>.container { width:100% !important; }</style>\"))"
   ]
  },
  
  {
   "cell_type": "code",
   "execution_count": 4,
   "metadata": {
    "executionInfo": {
     "elapsed": 41,
     "status": "ok",
     "timestamp": 1666501828588,
     "user": {
      "displayName": "Debprasad Kundu",
      "userId": "13893367320446695825"
     },
     "user_tz": -330
    },
    "id": "4WLtcqLoOSAj"
   },
   "outputs": [],
   "source": [
    "# For Not Displaying warnings\n",
    "import warnings\n",
    "warnings.filterwarnings('ignore')"
   ]
  },
  {
   "cell_type": "markdown",
   "metadata": {
    "id": "1aAWgCntOSAk"
   },
   "source": [
    "#### Problem Statement​ -\n",
    "You are a cab rental start-up company. You have successfully run the pilot project and now want to launch your cab service across the country. You have collected the historical data from your pilot project and now have a requirement to apply analytics forfare prediction. You need to design a system that predicts the fare amount for a cab ride in the city."
   ]
  },
  {
   "cell_type": "markdown",
   "metadata": {},
   "source": [
    "# Data is available on https://www.kaggle.com/competitions/new-york-city-taxi-fare-prediction/data"
   ]
  },
  {
   "cell_type": "code",
   "execution_count": 5,
   "metadata": {
    "executionInfo": {
     "elapsed": 42,
     "status": "ok",
     "timestamp": 1666501828589,
     "user": {
      "displayName": "Debprasad Kundu",
      "userId": "13893367320446695825"
     },
     "user_tz": -330
    },
    "id": "4h5S4ZzYOSAm"
   },
   "outputs": [],
   "source": [
    "# Load data\n",
    "car_df_train = pd.read_csv(r\"D:\\projects\\Self Project\\New York City Taxi Fare Prediction\\dataset\\train_cab.csv\", na_values={'fare_amount':'430-'})\n",
    "car_df_test = pd.read_csv(\"D:\\\\projects\\\\Self Project\\\\New York City Taxi Fare Prediction\\\\dataset\\\\test.csv\")"
   ]
  },
  {
   "cell_type": "code",
   "execution_count": 6,
   "metadata": {
    "colab": {
     "base_uri": "https://localhost:8080/"
    },
    "executionInfo": {
     "elapsed": 42,
     "status": "ok",
     "timestamp": 1666501828590,
     "user": {
      "displayName": "Debprasad Kundu",
      "userId": "13893367320446695825"
     },
     "user_tz": -330
    },
    "id": "pZlDZg2OOSAm",
    "outputId": "c7005917-529a-4756-c3b3-d0c0e8efecf0"
   },
   "outputs": [
    {
     "data": {
      "text/plain": [
       "((16067, 7), (9914, 6))"
      ]
     },
     "execution_count": 6,
     "metadata": {},
     "output_type": "execute_result"
    }
   ],
   "source": [
    "# Display Shape of dataframe (Rows, Columns)\n",
    "car_df_train.shape , car_df_test.shape"
   ]
  },
  {
   "cell_type": "code",
   "execution_count": 7,
   "metadata": {
    "colab": {
     "base_uri": "https://localhost:8080/",
     "height": 206
    },
    "executionInfo": {
     "elapsed": 38,
     "status": "ok",
     "timestamp": 1666501828591,
     "user": {
      "displayName": "Debprasad Kundu",
      "userId": "13893367320446695825"
     },
     "user_tz": -330
    },
    "id": "u1Y6q7nIOSAn",
    "outputId": "cbdccf3a-2021-437e-e9b8-97dc2ea736cf"
   },
   "outputs": [
    {
     "data": {
      "text/html": [
       "<div>\n",
       "<style scoped>\n",
       "    .dataframe tbody tr th:only-of-type {\n",
       "        vertical-align: middle;\n",
       "    }\n",
       "\n",
       "    .dataframe tbody tr th {\n",
       "        vertical-align: top;\n",
       "    }\n",
       "\n",
       "    .dataframe thead th {\n",
       "        text-align: right;\n",
       "    }\n",
       "</style>\n",
       "<table border=\"1\" class=\"dataframe\">\n",
       "  <thead>\n",
       "    <tr style=\"text-align: right;\">\n",
       "      <th></th>\n",
       "      <th>fare_amount</th>\n",
       "      <th>pickup_datetime</th>\n",
       "      <th>pickup_longitude</th>\n",
       "      <th>pickup_latitude</th>\n",
       "      <th>dropoff_longitude</th>\n",
       "      <th>dropoff_latitude</th>\n",
       "      <th>passenger_count</th>\n",
       "    </tr>\n",
       "  </thead>\n",
       "  <tbody>\n",
       "    <tr>\n",
       "      <th>0</th>\n",
       "      <td>4.5</td>\n",
       "      <td>2009-06-15 17:26:21 UTC</td>\n",
       "      <td>-73.844311</td>\n",
       "      <td>40.721319</td>\n",
       "      <td>-73.841610</td>\n",
       "      <td>40.712278</td>\n",
       "      <td>1.0</td>\n",
       "    </tr>\n",
       "    <tr>\n",
       "      <th>1</th>\n",
       "      <td>16.9</td>\n",
       "      <td>2010-01-05 16:52:16 UTC</td>\n",
       "      <td>-74.016048</td>\n",
       "      <td>40.711303</td>\n",
       "      <td>-73.979268</td>\n",
       "      <td>40.782004</td>\n",
       "      <td>1.0</td>\n",
       "    </tr>\n",
       "    <tr>\n",
       "      <th>2</th>\n",
       "      <td>5.7</td>\n",
       "      <td>2011-08-18 00:35:00 UTC</td>\n",
       "      <td>-73.982738</td>\n",
       "      <td>40.761270</td>\n",
       "      <td>-73.991242</td>\n",
       "      <td>40.750562</td>\n",
       "      <td>2.0</td>\n",
       "    </tr>\n",
       "    <tr>\n",
       "      <th>3</th>\n",
       "      <td>7.7</td>\n",
       "      <td>2012-04-21 04:30:42 UTC</td>\n",
       "      <td>-73.987130</td>\n",
       "      <td>40.733143</td>\n",
       "      <td>-73.991567</td>\n",
       "      <td>40.758092</td>\n",
       "      <td>1.0</td>\n",
       "    </tr>\n",
       "    <tr>\n",
       "      <th>4</th>\n",
       "      <td>5.3</td>\n",
       "      <td>2010-03-09 07:51:00 UTC</td>\n",
       "      <td>-73.968095</td>\n",
       "      <td>40.768008</td>\n",
       "      <td>-73.956655</td>\n",
       "      <td>40.783762</td>\n",
       "      <td>1.0</td>\n",
       "    </tr>\n",
       "  </tbody>\n",
       "</table>\n",
       "</div>"
      ],
      "text/plain": [
       "   fare_amount          pickup_datetime  pickup_longitude  pickup_latitude  \\\n",
       "0          4.5  2009-06-15 17:26:21 UTC        -73.844311        40.721319   \n",
       "1         16.9  2010-01-05 16:52:16 UTC        -74.016048        40.711303   \n",
       "2          5.7  2011-08-18 00:35:00 UTC        -73.982738        40.761270   \n",
       "3          7.7  2012-04-21 04:30:42 UTC        -73.987130        40.733143   \n",
       "4          5.3  2010-03-09 07:51:00 UTC        -73.968095        40.768008   \n",
       "\n",
       "   dropoff_longitude  dropoff_latitude  passenger_count  \n",
       "0         -73.841610         40.712278              1.0  \n",
       "1         -73.979268         40.782004              1.0  \n",
       "2         -73.991242         40.750562              2.0  \n",
       "3         -73.991567         40.758092              1.0  \n",
       "4         -73.956655         40.783762              1.0  "
      ]
     },
     "execution_count": 7,
     "metadata": {},
     "output_type": "execute_result"
    }
   ],
   "source": [
    "# Display Top 5 rows of dataframe\n",
    "car_df_train.head()"
   ]
  },
  {
   "cell_type": "code",
   "execution_count": 8,
   "metadata": {
    "colab": {
     "base_uri": "https://localhost:8080/"
    },
    "executionInfo": {
     "elapsed": 37,
     "status": "ok",
     "timestamp": 1666501828592,
     "user": {
      "displayName": "Debprasad Kundu",
      "userId": "13893367320446695825"
     },
     "user_tz": -330
    },
    "id": "d5W3PRzNOSAn",
    "outputId": "6a4892f6-ebd7-4916-8e80-964695fdbc9f",
    "scrolled": true
   },
   "outputs": [
    {
     "data": {
      "text/plain": [
       "fare_amount          float64\n",
       "pickup_datetime       object\n",
       "pickup_longitude     float64\n",
       "pickup_latitude      float64\n",
       "dropoff_longitude    float64\n",
       "dropoff_latitude     float64\n",
       "passenger_count      float64\n",
       "dtype: object"
      ]
     },
     "execution_count": 8,
     "metadata": {},
     "output_type": "execute_result"
    }
   ],
   "source": [
    "# Check Datatypes of all the columns present in the dataset\n",
    "car_df_train.dtypes"
   ]
  },
  {
   "cell_type": "markdown",
   "metadata": {
    "id": "1hCe1n39OSAo"
   },
   "source": [
    "The details of data attributes in the dataset are as follows:\n",
    "-  pickup_datetime - timestamp value indicating when the cab ride started.\n",
    "-  pickup_longitude - float for longitude coordinate of where the cab ride started.\n",
    "-  pickup_latitude - float for latitude coordinate of where the cab ride started.\n",
    "-  dropoff_longitude - float for longitude coordinate of where the cab ride ended.\n",
    "-  dropoff_latitude - float for latitude coordinate of where the cab ride ended.\n",
    "-  passenger_count - an integer indicating the number of passengers in the cab ride."
   ]
  },
  {
   "cell_type": "code",
   "execution_count": 9,
   "metadata": {
    "colab": {
     "base_uri": "https://localhost:8080/"
    },
    "executionInfo": {
     "elapsed": 34,
     "status": "ok",
     "timestamp": 1666501828593,
     "user": {
      "displayName": "Debprasad Kundu",
      "userId": "13893367320446695825"
     },
     "user_tz": -330
    },
    "id": "0z0T4a9iOSAp",
    "outputId": "e22bdba2-7cb8-4f2e-bca1-7032fcac9756"
   },
   "outputs": [
    {
     "data": {
      "text/plain": [
       "fare_amount            467\n",
       "pickup_datetime      16021\n",
       "pickup_longitude     13789\n",
       "pickup_latitude      14241\n",
       "dropoff_longitude    13887\n",
       "dropoff_latitude     14263\n",
       "passenger_count         27\n",
       "dtype: int64"
      ]
     },
     "execution_count": 9,
     "metadata": {},
     "output_type": "execute_result"
    }
   ],
   "source": [
    "# Check Number of Unique values present in each variable\n",
    "car_df_train.nunique()"
   ]
  },
  {
   "cell_type": "code",
   "execution_count": 10,
   "metadata": {
    "colab": {
     "base_uri": "https://localhost:8080/",
     "height": 300
    },
    "executionInfo": {
     "elapsed": 30,
     "status": "ok",
     "timestamp": 1666501828595,
     "user": {
      "displayName": "Debprasad Kundu",
      "userId": "13893367320446695825"
     },
     "user_tz": -330
    },
    "id": "lI3ifJebOSAp",
    "outputId": "6f59d690-5db8-43f8-aa84-157a68b68e13"
   },
   "outputs": [
    {
     "data": {
      "text/html": [
       "<div>\n",
       "<style scoped>\n",
       "    .dataframe tbody tr th:only-of-type {\n",
       "        vertical-align: middle;\n",
       "    }\n",
       "\n",
       "    .dataframe tbody tr th {\n",
       "        vertical-align: top;\n",
       "    }\n",
       "\n",
       "    .dataframe thead th {\n",
       "        text-align: right;\n",
       "    }\n",
       "</style>\n",
       "<table border=\"1\" class=\"dataframe\">\n",
       "  <thead>\n",
       "    <tr style=\"text-align: right;\">\n",
       "      <th></th>\n",
       "      <th>fare_amount</th>\n",
       "      <th>pickup_longitude</th>\n",
       "      <th>pickup_latitude</th>\n",
       "      <th>dropoff_longitude</th>\n",
       "      <th>dropoff_latitude</th>\n",
       "      <th>passenger_count</th>\n",
       "    </tr>\n",
       "  </thead>\n",
       "  <tbody>\n",
       "    <tr>\n",
       "      <th>count</th>\n",
       "      <td>16042.000000</td>\n",
       "      <td>16067.000000</td>\n",
       "      <td>16067.000000</td>\n",
       "      <td>16067.000000</td>\n",
       "      <td>16067.000000</td>\n",
       "      <td>16012.000000</td>\n",
       "    </tr>\n",
       "    <tr>\n",
       "      <th>mean</th>\n",
       "      <td>15.015004</td>\n",
       "      <td>-72.462787</td>\n",
       "      <td>39.914725</td>\n",
       "      <td>-72.462328</td>\n",
       "      <td>39.897906</td>\n",
       "      <td>2.625070</td>\n",
       "    </tr>\n",
       "    <tr>\n",
       "      <th>std</th>\n",
       "      <td>430.460945</td>\n",
       "      <td>10.578384</td>\n",
       "      <td>6.826587</td>\n",
       "      <td>10.575062</td>\n",
       "      <td>6.187087</td>\n",
       "      <td>60.844122</td>\n",
       "    </tr>\n",
       "    <tr>\n",
       "      <th>min</th>\n",
       "      <td>-3.000000</td>\n",
       "      <td>-74.438233</td>\n",
       "      <td>-74.006893</td>\n",
       "      <td>-74.429332</td>\n",
       "      <td>-74.006377</td>\n",
       "      <td>0.000000</td>\n",
       "    </tr>\n",
       "    <tr>\n",
       "      <th>25%</th>\n",
       "      <td>6.000000</td>\n",
       "      <td>-73.992156</td>\n",
       "      <td>40.734927</td>\n",
       "      <td>-73.991182</td>\n",
       "      <td>40.734651</td>\n",
       "      <td>1.000000</td>\n",
       "    </tr>\n",
       "    <tr>\n",
       "      <th>50%</th>\n",
       "      <td>8.500000</td>\n",
       "      <td>-73.981698</td>\n",
       "      <td>40.752603</td>\n",
       "      <td>-73.980172</td>\n",
       "      <td>40.753567</td>\n",
       "      <td>1.000000</td>\n",
       "    </tr>\n",
       "    <tr>\n",
       "      <th>75%</th>\n",
       "      <td>12.500000</td>\n",
       "      <td>-73.966838</td>\n",
       "      <td>40.767381</td>\n",
       "      <td>-73.963642</td>\n",
       "      <td>40.768014</td>\n",
       "      <td>2.000000</td>\n",
       "    </tr>\n",
       "    <tr>\n",
       "      <th>max</th>\n",
       "      <td>54343.000000</td>\n",
       "      <td>40.766125</td>\n",
       "      <td>401.083332</td>\n",
       "      <td>40.802437</td>\n",
       "      <td>41.366138</td>\n",
       "      <td>5345.000000</td>\n",
       "    </tr>\n",
       "  </tbody>\n",
       "</table>\n",
       "</div>"
      ],
      "text/plain": [
       "        fare_amount  pickup_longitude  pickup_latitude  dropoff_longitude  \\\n",
       "count  16042.000000      16067.000000     16067.000000       16067.000000   \n",
       "mean      15.015004        -72.462787        39.914725         -72.462328   \n",
       "std      430.460945         10.578384         6.826587          10.575062   \n",
       "min       -3.000000        -74.438233       -74.006893         -74.429332   \n",
       "25%        6.000000        -73.992156        40.734927         -73.991182   \n",
       "50%        8.500000        -73.981698        40.752603         -73.980172   \n",
       "75%       12.500000        -73.966838        40.767381         -73.963642   \n",
       "max    54343.000000         40.766125       401.083332          40.802437   \n",
       "\n",
       "       dropoff_latitude  passenger_count  \n",
       "count      16067.000000     16012.000000  \n",
       "mean          39.897906         2.625070  \n",
       "std            6.187087        60.844122  \n",
       "min          -74.006377         0.000000  \n",
       "25%           40.734651         1.000000  \n",
       "50%           40.753567         1.000000  \n",
       "75%           40.768014         2.000000  \n",
       "max           41.366138      5345.000000  "
      ]
     },
     "execution_count": 10,
     "metadata": {},
     "output_type": "execute_result"
    }
   ],
   "source": [
    "# Describe Columns of Dataframe and check mean, std, quartiles, min-max for all variables\n",
    "car_df_train.describe()"
   ]
  },
  {
   "cell_type": "code",
   "execution_count": 11,
   "metadata": {
    "colab": {
     "base_uri": "https://localhost:8080/",
     "height": 806
    },
    "executionInfo": {
     "elapsed": 1014,
     "status": "ok",
     "timestamp": 1666501829581,
     "user": {
      "displayName": "Debprasad Kundu",
      "userId": "13893367320446695825"
     },
     "user_tz": -330
    },
    "id": "QlkGqKxIOSAq",
    "outputId": "b006ed8f-c7a2-44d6-9830-a1766d271570"
   },
   "outputs": [
    {
     "data": {
      "image/png": "[encoded data removed]",
      "text/plain": [
       "<Figure size 432x288 with 1 Axes>"
      ]
     },
     "metadata": {
      "needs_background": "light"
     },
     "output_type": "display_data"
    },
    {
     "data": {
      "image/png": "[encoded data removed]",
      "text/plain": [
       "<Figure size 432x288 with 1 Axes>"
      ]
     },
     "metadata": {
      "needs_background": "light"
     },
     "output_type": "display_data"
    },
    {
     "data": {
      "image/png": "[encoded data removed]",
      "text/plain": [
       "<Figure size 432x288 with 1 Axes>"
      ]
     },
     "metadata": {
      "needs_background": "light"
     },
     "output_type": "display_data"
    }
   ],
   "source": [
    "############################################### Data Visualization ##########################################################\n",
    "continous_column_names = ['pickup_longitude','pickup_latitude','dropoff_longitude']\n",
    "# Histogram - Distribution plot for all continous variables\n",
    "for i,col in enumerate(continous_column_names):\n",
    "    #fig, ax = plt.subplots()\n",
    "    #fig.set_size_inches(11.7, 8.27)\n",
    "    plt.figure(i)\n",
    "    plt.axvline(car_df_train[col].mean(), 0,0.7, color = 'g')\n",
    "    sns.distplot(car_df_train[col], color = 'b')"
   ]
  },
  {
   "cell_type": "code",
   "execution_count": 12,
   "metadata": {
    "colab": {
     "base_uri": "https://localhost:8080/",
     "height": 297
    },
    "executionInfo": {
     "elapsed": 748,
     "status": "ok",
     "timestamp": 1666501830326,
     "user": {
      "displayName": "Debprasad Kundu",
      "userId": "13893367320446695825"
     },
     "user_tz": -330
    },
    "id": "jrLAqz3lOSAr",
    "outputId": "c59759ca-0cd5-4f34-a06b-eed8bf09554f"
   },
   "outputs": [
    {
     "data": {
      "image/png": "[encoded data removed]",
      "text/plain": [
       "<Figure size 576x288 with 1 Axes>"
      ]
     },
     "metadata": {
      "needs_background": "light"
     },
     "output_type": "display_data"
    }
   ],
   "source": [
    "# factorplot for all categorical variables\n",
    "category_column_names = ['passenger_count']\n",
    "for i in category_column_names:\n",
    "    sns.factorplot(data=car_df_train,x=i,kind='count',size=4,aspect=2)"
   ]
  },
  {
   "cell_type": "code",
   "execution_count": 13,
   "metadata": {
    "colab": {
     "base_uri": "https://localhost:8080/",
     "height": 1000
    },
    "executionInfo": {
     "elapsed": 3840,
     "status": "ok",
     "timestamp": 1666501834159,
     "user": {
      "displayName": "Debprasad Kundu",
      "userId": "13893367320446695825"
     },
     "user_tz": -330
    },
    "id": "Ah7jYg23OSAr",
    "outputId": "46b634e6-e076-4c59-aaf7-1fd569b114be"
   },
   "outputs": [
    {
     "data": {
      "image/png": "[encoded data removed]",
      "text/plain": [
       "<Figure size 360x360 with 1 Axes>"
      ]
     },
     "metadata": {
      "needs_background": "light"
     },
     "output_type": "display_data"
    },
    {
     "data": {
      "image/png": "[encoded data removed]",
      "text/plain": [
       "<Figure size 360x360 with 1 Axes>"
      ]
     },
     "metadata": {
      "needs_background": "light"
     },
     "output_type": "display_data"
    },
    {
     "data": {
      "image/png": "[encoded data removed]",
      "text/plain": [
       "<Figure size 360x360 with 1 Axes>"
      ]
     },
     "metadata": {
      "needs_background": "light"
     },
     "output_type": "display_data"
    }
   ],
   "source": [
    "# Bivariate Analysis of all continous variables with Target Variable.\n",
    "for i,col in enumerate(continous_column_names):\n",
    "    sns.lmplot(x=col, y=\"fare_amount\", data=car_df_train)   "
   ]
  },
  {
   "cell_type": "code",
   "execution_count": 14,
   "metadata": {
    "colab": {
     "base_uri": "https://localhost:8080/",
     "height": 441
    },
    "executionInfo": {
     "elapsed": 992,
     "status": "ok",
     "timestamp": 1666501835145,
     "user": {
      "displayName": "Debprasad Kundu",
      "userId": "13893367320446695825"
     },
     "user_tz": -330
    },
    "id": "fC2dH7BBOSAs",
    "outputId": "91627f9c-ab62-430b-aa57-ab7459c26d0f"
   },
   "outputs": [
    {
     "data": {
      "image/png": "[encoded data removed]",
      "text/plain": [
       "<Figure size 864x432 with 1 Axes>"
      ]
     },
     "metadata": {
      "needs_background": "light"
     },
     "output_type": "display_data"
    }
   ],
   "source": [
    "# Bivariate Analysis of all categorical variables with Target Variable.\n",
    "for col in category_column_names:\n",
    "    df_cat = pd.DataFrame(car_df_train.groupby([col], as_index=False).sum())\n",
    "    sns.catplot(x=col, y=\"fare_amount\", data=df_cat.reset_index(), kind=\"point\", height=6, aspect=2)"
   ]
  },
  {
   "cell_type": "code",
   "execution_count": 15,
   "metadata": {
    "colab": {
     "base_uri": "https://localhost:8080/",
     "height": 441
    },
    "executionInfo": {
     "elapsed": 14,
     "status": "ok",
     "timestamp": 1666501835146,
     "user": {
      "displayName": "Debprasad Kundu",
      "userId": "13893367320446695825"
     },
     "user_tz": -330
    },
    "id": "yucSm7X6OSAs",
    "outputId": "0f963582-ede5-4d2f-9aa5-f6f362bfa3bc"
   },
   "outputs": [
    {
     "data": {
      "image/png": "[encoded data removed]",
      "text/plain": [
       "<Figure size 864x432 with 1 Axes>"
      ]
     },
     "metadata": {
      "needs_background": "light"
     },
     "output_type": "display_data"
    }
   ],
   "source": [
    "for col in category_column_names:\n",
    "    df_cat = pd.DataFrame(car_df_train.groupby([col], as_index=False).sum())\n",
    "    sns.catplot(x=col, y=\"fare_amount\", data=df_cat.reset_index(), kind=\"bar\", height=6, aspect=2)"
   ]
  },
  {
   "cell_type": "code",
   "execution_count": 16,
   "metadata": {
    "executionInfo": {
     "elapsed": 1178,
     "status": "ok",
     "timestamp": 1666501836312,
     "user": {
      "displayName": "Debprasad Kundu",
      "userId": "13893367320446695825"
     },
     "user_tz": -330
    },
    "id": "Ydl6WfZ1OSAt"
   },
   "outputs": [],
   "source": [
    "############################################# Exploratory Data Analysis ####################################################\n",
    "\n",
    "#Converting to appropriate datatypes\n",
    "\n",
    "# Converting fare_amount to float and pickup_datetime to datetime format for both train and test dataset\n",
    "\n",
    "complete_data = [car_df_train, car_df_test]\n",
    "for data in complete_data:\n",
    "    data['pickup_datetime']  = pd.to_datetime(data['pickup_datetime'],errors='coerce')\n",
    "\n",
    "car_df_train['fare_amount'] =  car_df_train['fare_amount'].astype('float')\n"
   ]
  },
  {
   "cell_type": "code",
   "execution_count": 17,
   "metadata": {
    "colab": {
     "base_uri": "https://localhost:8080/"
    },
    "executionInfo": {
     "elapsed": 30,
     "status": "ok",
     "timestamp": 1666501836313,
     "user": {
      "displayName": "Debprasad Kundu",
      "userId": "13893367320446695825"
     },
     "user_tz": -330
    },
    "id": "h378hn0POSAt",
    "outputId": "8104bf7d-a05a-48d0-e524-f371d674de0d"
   },
   "outputs": [
    {
     "data": {
      "text/plain": [
       "fare_amount                      float64\n",
       "pickup_datetime      datetime64[ns, UTC]\n",
       "pickup_longitude                 float64\n",
       "pickup_latitude                  float64\n",
       "dropoff_longitude                float64\n",
       "dropoff_latitude                 float64\n",
       "passenger_count                  float64\n",
       "dtype: object"
      ]
     },
     "execution_count": 17,
     "metadata": {},
     "output_type": "execute_result"
    }
   ],
   "source": [
    "### Checking datatypes of train data\n",
    "car_df_train.dtypes"
   ]
  },
  {
   "cell_type": "code",
   "execution_count": 18,
   "metadata": {
    "colab": {
     "base_uri": "https://localhost:8080/"
    },
    "executionInfo": {
     "elapsed": 28,
     "status": "ok",
     "timestamp": 1666501836314,
     "user": {
      "displayName": "Debprasad Kundu",
      "userId": "13893367320446695825"
     },
     "user_tz": -330
    },
    "id": "DhSqelHWOSAu",
    "outputId": "6250a676-8e0c-46b4-8b9a-3a217277b196"
   },
   "outputs": [
    {
     "data": {
      "text/plain": [
       "pickup_datetime      datetime64[ns, UTC]\n",
       "pickup_longitude                 float64\n",
       "pickup_latitude                  float64\n",
       "dropoff_longitude                float64\n",
       "dropoff_latitude                 float64\n",
       "passenger_count                    int64\n",
       "dtype: object"
      ]
     },
     "execution_count": 18,
     "metadata": {},
     "output_type": "execute_result"
    }
   ],
   "source": [
    "### Checking datatypes of test data\n",
    "car_df_test.dtypes"
   ]
  },
  {
   "cell_type": "code",
   "execution_count": 19,
   "metadata": {
    "colab": {
     "base_uri": "https://localhost:8080/"
    },
    "executionInfo": {
     "elapsed": 23,
     "status": "ok",
     "timestamp": 1666501836314,
     "user": {
      "displayName": "Debprasad Kundu",
      "userId": "13893367320446695825"
     },
     "user_tz": -330
    },
    "id": "IiGkGaiaOSAu",
    "outputId": "bd798966-e44b-42b4-b498-ce37d15c38a2"
   },
   "outputs": [
    {
     "name": "stdout",
     "output_type": "stream",
     "text": [
      "passenger_count above : 4 = 1367 \n",
      "passenger_count above : 5 = 322 \n",
      "passenger_count above : 6 = 20 \n",
      "passenger_count above : 7 = 20 \n",
      "passenger_count above : 8 = 20 \n",
      "passenger_count above : 9 = 20 \n",
      "passenger_count above : 10 = 20 \n"
     ]
    }
   ],
   "source": [
    "# Eliminating values from variables which do not follow standards depending on \n",
    "    # basic understanding of the problem statement\n",
    "\n",
    "# 1. Passenger count of any vehicle (i.e a Car can reach upto max 7, hence any \n",
    "    # number of passengers more than 7 is an outlier and should be removed)\n",
    "for i in range(4,11):\n",
    "    print('passenger_count above : ' +str(i)+' = {} '.format(sum(car_df_train['passenger_count']>i)))\n",
    "    \n",
    "# Consistently Passenger count more than 6 are 20, we should check whether passenger_count\n",
    "    # more than 6 exists in Test Set or not for verification"
   ]
  },
  {
   "cell_type": "code",
   "execution_count": 20,
   "metadata": {
    "colab": {
     "base_uri": "https://localhost:8080/"
    },
    "executionInfo": {
     "elapsed": 19,
     "status": "ok",
     "timestamp": 1666501836315,
     "user": {
      "displayName": "Debprasad Kundu",
      "userId": "13893367320446695825"
     },
     "user_tz": -330
    },
    "id": "5xfTAe_qOSAv",
    "outputId": "35ef5ae0-6de8-4720-b456-6e10657e1a76"
   },
   "outputs": [
    {
     "name": "stdout",
     "output_type": "stream",
     "text": [
      "Passenger count less than 1 : 58\n"
     ]
    }
   ],
   "source": [
    "# Also Passenger_count cannot be 0 or less than 1, we need to check that also:\n",
    "\n",
    "print('Passenger count less than 1 : '+str(sum(car_df_train['passenger_count']<1)))"
   ]
  },
  {
   "cell_type": "code",
   "execution_count": 21,
   "metadata": {
    "colab": {
     "base_uri": "https://localhost:8080/"
    },
    "executionInfo": {
     "elapsed": 14,
     "status": "ok",
     "timestamp": 1666501836315,
     "user": {
      "displayName": "Debprasad Kundu",
      "userId": "13893367320446695825"
     },
     "user_tz": -330
    },
    "id": "L19bf2HDOSAv",
    "outputId": "55118359-9356-4d8e-b755-3d7474fd99c0"
   },
   "outputs": [
    {
     "name": "stdout",
     "output_type": "stream",
     "text": [
      "passenger_count more than 6 or less than 1  : 78\n"
     ]
    }
   ],
   "source": [
    "print(\"passenger_count more than 6 or less than 1  : \"+str(len(car_df_train[(car_df_train['passenger_count']>6) | \\\n",
    "                                                                            (car_df_train['passenger_count']<1)])))"
   ]
  },
  {
   "cell_type": "code",
   "execution_count": 22,
   "metadata": {
    "colab": {
     "base_uri": "https://localhost:8080/"
    },
    "executionInfo": {
     "elapsed": 11,
     "status": "ok",
     "timestamp": 1666501836316,
     "user": {
      "displayName": "Debprasad Kundu",
      "userId": "13893367320446695825"
     },
     "user_tz": -330
    },
    "id": "LdSaoOZ0OSAv",
    "outputId": "814da4d7-b307-410f-fb81-5e0a846da102"
   },
   "outputs": [
    {
     "data": {
      "text/plain": [
       "array([1, 2, 3, 4, 5, 6], dtype=int64)"
      ]
     },
     "execution_count": 22,
     "metadata": {},
     "output_type": "execute_result"
    }
   ],
   "source": [
    "# Checking whether passenger_count more than 6 exists in Test Set or not\n",
    "car_df_test['passenger_count'].unique()\n",
    "\n",
    "# As observed, Passenger Count in Test set only consists upto 6 passengers, hence observations can be removed from training set"
   ]
  },
  {
   "cell_type": "code",
   "execution_count": 23,
   "metadata": {
    "executionInfo": {
     "elapsed": 689,
     "status": "ok",
     "timestamp": 1666501836997,
     "user": {
      "displayName": "Debprasad Kundu",
      "userId": "13893367320446695825"
     },
     "user_tz": -330
    },
    "id": "5iCVatYZOSAv"
   },
   "outputs": [],
   "source": [
    "car_df_train = car_df_train.drop(car_df_train[car_df_train['passenger_count']>6].index, axis=0)\n",
    "car_df_train = car_df_train.drop(car_df_train[car_df_train['passenger_count']<1].index, axis=0)"
   ]
  },
  {
   "cell_type": "code",
   "execution_count": 24,
   "metadata": {
    "colab": {
     "base_uri": "https://localhost:8080/"
    },
    "executionInfo": {
     "elapsed": 54,
     "status": "ok",
     "timestamp": 1666501836998,
     "user": {
      "displayName": "Debprasad Kundu",
      "userId": "13893367320446695825"
     },
     "user_tz": -330
    },
    "id": "FuicnkOeOSAw",
    "outputId": "f3496331-c571-4c11-881c-65576aa34dc8"
   },
   "outputs": [
    {
     "name": "stdout",
     "output_type": "stream",
     "text": [
      "passenger_count more than 6 or less than 1 after updating : 0\n"
     ]
    }
   ],
   "source": [
    "# Display records with passenger_count more than 6 or less than 1 \n",
    "print(\"passenger_count more than 6 or less than 1 after updating : \"+str(len(car_df_train[(car_df_train['passenger_count']>6) | \n",
    "                                                                                          (car_df_train['passenger_count']<1)])))"
   ]
  },
  {
   "cell_type": "code",
   "execution_count": 25,
   "metadata": {
    "colab": {
     "base_uri": "https://localhost:8080/"
    },
    "executionInfo": {
     "elapsed": 52,
     "status": "ok",
     "timestamp": 1666501836999,
     "user": {
      "displayName": "Debprasad Kundu",
      "userId": "13893367320446695825"
     },
     "user_tz": -330
    },
    "id": "R5gkZvZBOSAw",
    "outputId": "a6154623-cd30-450f-b6e3-143cd5cafe2e"
   },
   "outputs": [
    {
     "name": "stdout",
     "output_type": "stream",
     "text": [
      "fare_amount less than 1  : 5\n"
     ]
    }
   ],
   "source": [
    "# 2. Fare_Amount cannot be negative or less than 1\n",
    "print(\"fare_amount less than 1  : \"+str(len(car_df_train[(car_df_train['fare_amount']<1)])))"
   ]
  },
  {
   "cell_type": "code",
   "execution_count": 26,
   "metadata": {
    "colab": {
     "base_uri": "https://localhost:8080/",
     "height": 206
    },
    "executionInfo": {
     "elapsed": 48,
     "status": "ok",
     "timestamp": 1666501837000,
     "user": {
      "displayName": "Debprasad Kundu",
      "userId": "13893367320446695825"
     },
     "user_tz": -330
    },
    "id": "tlsmv3WwOSAw",
    "outputId": "fa9e4694-8ee8-48a5-d038-35e78584360f"
   },
   "outputs": [
    {
     "data": {
      "text/html": [
       "<div>\n",
       "<style scoped>\n",
       "    .dataframe tbody tr th:only-of-type {\n",
       "        vertical-align: middle;\n",
       "    }\n",
       "\n",
       "    .dataframe tbody tr th {\n",
       "        vertical-align: top;\n",
       "    }\n",
       "\n",
       "    .dataframe thead th {\n",
       "        text-align: right;\n",
       "    }\n",
       "</style>\n",
       "<table border=\"1\" class=\"dataframe\">\n",
       "  <thead>\n",
       "    <tr style=\"text-align: right;\">\n",
       "      <th></th>\n",
       "      <th>fare_amount</th>\n",
       "      <th>pickup_datetime</th>\n",
       "      <th>pickup_longitude</th>\n",
       "      <th>pickup_latitude</th>\n",
       "      <th>dropoff_longitude</th>\n",
       "      <th>dropoff_latitude</th>\n",
       "      <th>passenger_count</th>\n",
       "    </tr>\n",
       "  </thead>\n",
       "  <tbody>\n",
       "    <tr>\n",
       "      <th>2039</th>\n",
       "      <td>-2.90</td>\n",
       "      <td>2010-03-09 23:37:10+00:00</td>\n",
       "      <td>-73.789450</td>\n",
       "      <td>40.643498</td>\n",
       "      <td>-73.788665</td>\n",
       "      <td>40.641952</td>\n",
       "      <td>1.0</td>\n",
       "    </tr>\n",
       "    <tr>\n",
       "      <th>2486</th>\n",
       "      <td>-2.50</td>\n",
       "      <td>2015-03-22 05:14:27+00:00</td>\n",
       "      <td>-74.000031</td>\n",
       "      <td>40.720631</td>\n",
       "      <td>-73.999809</td>\n",
       "      <td>40.720539</td>\n",
       "      <td>1.0</td>\n",
       "    </tr>\n",
       "    <tr>\n",
       "      <th>2780</th>\n",
       "      <td>0.01</td>\n",
       "      <td>2015-05-01 15:38:41+00:00</td>\n",
       "      <td>-73.939041</td>\n",
       "      <td>40.713963</td>\n",
       "      <td>-73.941673</td>\n",
       "      <td>40.713997</td>\n",
       "      <td>1.0</td>\n",
       "    </tr>\n",
       "    <tr>\n",
       "      <th>10002</th>\n",
       "      <td>0.00</td>\n",
       "      <td>2010-02-15 14:26:01+00:00</td>\n",
       "      <td>-73.987115</td>\n",
       "      <td>40.738808</td>\n",
       "      <td>-74.005911</td>\n",
       "      <td>40.713960</td>\n",
       "      <td>1.0</td>\n",
       "    </tr>\n",
       "    <tr>\n",
       "      <th>13032</th>\n",
       "      <td>-3.00</td>\n",
       "      <td>2013-08-30 08:57:10+00:00</td>\n",
       "      <td>-73.995062</td>\n",
       "      <td>40.740755</td>\n",
       "      <td>-73.995885</td>\n",
       "      <td>40.741357</td>\n",
       "      <td>4.0</td>\n",
       "    </tr>\n",
       "  </tbody>\n",
       "</table>\n",
       "</div>"
      ],
      "text/plain": [
       "       fare_amount           pickup_datetime  pickup_longitude  \\\n",
       "2039         -2.90 2010-03-09 23:37:10+00:00        -73.789450   \n",
       "2486         -2.50 2015-03-22 05:14:27+00:00        -74.000031   \n",
       "2780          0.01 2015-05-01 15:38:41+00:00        -73.939041   \n",
       "10002         0.00 2010-02-15 14:26:01+00:00        -73.987115   \n",
       "13032        -3.00 2013-08-30 08:57:10+00:00        -73.995062   \n",
       "\n",
       "       pickup_latitude  dropoff_longitude  dropoff_latitude  passenger_count  \n",
       "2039         40.643498         -73.788665         40.641952              1.0  \n",
       "2486         40.720631         -73.999809         40.720539              1.0  \n",
       "2780         40.713963         -73.941673         40.713997              1.0  \n",
       "10002        40.738808         -74.005911         40.713960              1.0  \n",
       "13032        40.740755         -73.995885         40.741357              4.0  "
      ]
     },
     "execution_count": 26,
     "metadata": {},
     "output_type": "execute_result"
    }
   ],
   "source": [
    "car_df_train[(car_df_train['fare_amount']<1)]"
   ]
  },
  {
   "cell_type": "code",
   "execution_count": 27,
   "metadata": {
    "executionInfo": {
     "elapsed": 46,
     "status": "ok",
     "timestamp": 1666501837001,
     "user": {
      "displayName": "Debprasad Kundu",
      "userId": "13893367320446695825"
     },
     "user_tz": -330
    },
    "id": "3VC8_OlEOSAx"
   },
   "outputs": [],
   "source": [
    "## Removing observations with less that 1 as fare_amount from training set\n",
    "car_df_train = car_df_train.drop(car_df_train[car_df_train['fare_amount']<1].index, axis=0)"
   ]
  },
  {
   "cell_type": "code",
   "execution_count": 28,
   "metadata": {
    "colab": {
     "base_uri": "https://localhost:8080/"
    },
    "executionInfo": {
     "elapsed": 46,
     "status": "ok",
     "timestamp": 1666501837002,
     "user": {
      "displayName": "Debprasad Kundu",
      "userId": "13893367320446695825"
     },
     "user_tz": -330
    },
    "id": "eLgb95qNOSAx",
    "outputId": "e415ca83-3ddd-4974-8ea6-9ab1a7c79513"
   },
   "outputs": [
    {
     "name": "stdout",
     "output_type": "stream",
     "text": [
      "fare_amount less than 1 after updating  : 0\n"
     ]
    }
   ],
   "source": [
    "print(\"fare_amount less than 1 after updating  : \"+str(len(car_df_train[(car_df_train['fare_amount']<1)])))"
   ]
  },
  {
   "cell_type": "code",
   "execution_count": 29,
   "metadata": {
    "colab": {
     "base_uri": "https://localhost:8080/"
    },
    "executionInfo": {
     "elapsed": 43,
     "status": "ok",
     "timestamp": 1666501837003,
     "user": {
      "displayName": "Debprasad Kundu",
      "userId": "13893367320446695825"
     },
     "user_tz": -330
    },
    "id": "BBAk87SmOSAx",
    "outputId": "3230f6bd-1c4e-4336-cdcc-68ccb8e65265"
   },
   "outputs": [
    {
     "name": "stdout",
     "output_type": "stream",
     "text": [
      "pickup_longitude equal to 0 = 311 \n",
      "pickup_latitude equal to 0 = 311 \n",
      "dropoff_longitude equal to 0 = 312 \n",
      "dropoff_latitude equal to 0 = 310 \n"
     ]
    }
   ],
   "source": [
    "# 3. Longitude and Latitude cannot be 0\n",
    "for i in ['pickup_longitude','pickup_latitude','dropoff_longitude','dropoff_latitude']:\n",
    "    print(i,'equal to 0 = {} '.format(sum(car_df_train[i]==0)))"
   ]
  },
  {
   "cell_type": "code",
   "execution_count": 30,
   "metadata": {
    "executionInfo": {
     "elapsed": 41,
     "status": "ok",
     "timestamp": 1666501837005,
     "user": {
      "displayName": "Debprasad Kundu",
      "userId": "13893367320446695825"
     },
     "user_tz": -330
    },
    "id": "C4vk879ROSAy"
   },
   "outputs": [],
   "source": [
    "### Removing variables with longitude or latitude as 0\n",
    "for i in ['pickup_longitude','pickup_latitude','dropoff_longitude','dropoff_latitude']:\n",
    "    car_df_train = car_df_train.drop(car_df_train[car_df_train[i]==0].index, axis=0)"
   ]
  },
  {
   "cell_type": "code",
   "execution_count": 31,
   "metadata": {
    "colab": {
     "base_uri": "https://localhost:8080/"
    },
    "executionInfo": {
     "elapsed": 41,
     "status": "ok",
     "timestamp": 1666501837006,
     "user": {
      "displayName": "Debprasad Kundu",
      "userId": "13893367320446695825"
     },
     "user_tz": -330
    },
    "id": "JZU2L3gQOSAy",
    "outputId": "edaa09b3-6ab5-47b1-cfc7-241f71364132"
   },
   "outputs": [
    {
     "data": {
      "text/plain": [
       "(15662, 7)"
      ]
     },
     "execution_count": 31,
     "metadata": {},
     "output_type": "execute_result"
    }
   ],
   "source": [
    "car_df_train.shape"
   ]
  },
  {
   "cell_type": "code",
   "execution_count": 32,
   "metadata": {
    "executionInfo": {
     "elapsed": 37,
     "status": "ok",
     "timestamp": 1666501837007,
     "user": {
      "displayName": "Debprasad Kundu",
      "userId": "13893367320446695825"
     },
     "user_tz": -330
    },
    "id": "R3X5lp8yOSAy"
   },
   "outputs": [],
   "source": [
    "#Make a copy of dataframe\n",
    "df = car_df_train.copy()"
   ]
  },
  {
   "cell_type": "code",
   "execution_count": 33,
   "metadata": {
    "colab": {
     "base_uri": "https://localhost:8080/",
     "height": 269
    },
    "executionInfo": {
     "elapsed": 37,
     "status": "ok",
     "timestamp": 1666501837008,
     "user": {
      "displayName": "Debprasad Kundu",
      "userId": "13893367320446695825"
     },
     "user_tz": -330
    },
    "id": "HOUtj85AOSAy",
    "outputId": "72bf9cb6-1890-451a-beb7-b893d4ae6c97"
   },
   "outputs": [
    {
     "data": {
      "text/html": [
       "<div>\n",
       "<style scoped>\n",
       "    .dataframe tbody tr th:only-of-type {\n",
       "        vertical-align: middle;\n",
       "    }\n",
       "\n",
       "    .dataframe tbody tr th {\n",
       "        vertical-align: top;\n",
       "    }\n",
       "\n",
       "    .dataframe thead th {\n",
       "        text-align: right;\n",
       "    }\n",
       "</style>\n",
       "<table border=\"1\" class=\"dataframe\">\n",
       "  <thead>\n",
       "    <tr style=\"text-align: right;\">\n",
       "      <th></th>\n",
       "      <th>index</th>\n",
       "      <th>0</th>\n",
       "    </tr>\n",
       "  </thead>\n",
       "  <tbody>\n",
       "    <tr>\n",
       "      <th>0</th>\n",
       "      <td>fare_amount</td>\n",
       "      <td>22</td>\n",
       "    </tr>\n",
       "    <tr>\n",
       "      <th>1</th>\n",
       "      <td>pickup_datetime</td>\n",
       "      <td>1</td>\n",
       "    </tr>\n",
       "    <tr>\n",
       "      <th>2</th>\n",
       "      <td>pickup_longitude</td>\n",
       "      <td>0</td>\n",
       "    </tr>\n",
       "    <tr>\n",
       "      <th>3</th>\n",
       "      <td>pickup_latitude</td>\n",
       "      <td>0</td>\n",
       "    </tr>\n",
       "    <tr>\n",
       "      <th>4</th>\n",
       "      <td>dropoff_longitude</td>\n",
       "      <td>0</td>\n",
       "    </tr>\n",
       "    <tr>\n",
       "      <th>5</th>\n",
       "      <td>dropoff_latitude</td>\n",
       "      <td>0</td>\n",
       "    </tr>\n",
       "    <tr>\n",
       "      <th>6</th>\n",
       "      <td>passenger_count</td>\n",
       "      <td>55</td>\n",
       "    </tr>\n",
       "  </tbody>\n",
       "</table>\n",
       "</div>"
      ],
      "text/plain": [
       "               index   0\n",
       "0        fare_amount  22\n",
       "1    pickup_datetime   1\n",
       "2   pickup_longitude   0\n",
       "3    pickup_latitude   0\n",
       "4  dropoff_longitude   0\n",
       "5   dropoff_latitude   0\n",
       "6    passenger_count  55"
      ]
     },
     "execution_count": 33,
     "metadata": {},
     "output_type": "execute_result"
    }
   ],
   "source": [
    "#Creating dataframe with number of missing values\n",
    "missing_val = pd.DataFrame(df.isnull().sum())\n",
    "\n",
    "#Reset the index to get row names as columns\n",
    "missing_val = missing_val.reset_index()\n",
    "\n",
    "missing_val"
   ]
  },
  {
   "cell_type": "code",
   "execution_count": 34,
   "metadata": {
    "colab": {
     "base_uri": "https://localhost:8080/",
     "height": 269
    },
    "executionInfo": {
     "elapsed": 36,
     "status": "ok",
     "timestamp": 1666501837009,
     "user": {
      "displayName": "Debprasad Kundu",
      "userId": "13893367320446695825"
     },
     "user_tz": -330
    },
    "id": "KGlqq_qxOSAz",
    "outputId": "00d1fc66-3c4e-43a1-8792-4fa9cf0805be"
   },
   "outputs": [
    {
     "data": {
      "text/html": [
       "<div>\n",
       "<style scoped>\n",
       "    .dataframe tbody tr th:only-of-type {\n",
       "        vertical-align: middle;\n",
       "    }\n",
       "\n",
       "    .dataframe tbody tr th {\n",
       "        vertical-align: top;\n",
       "    }\n",
       "\n",
       "    .dataframe thead th {\n",
       "        text-align: right;\n",
       "    }\n",
       "</style>\n",
       "<table border=\"1\" class=\"dataframe\">\n",
       "  <thead>\n",
       "    <tr style=\"text-align: right;\">\n",
       "      <th></th>\n",
       "      <th>Variables</th>\n",
       "      <th>Missing_percentage</th>\n",
       "    </tr>\n",
       "  </thead>\n",
       "  <tbody>\n",
       "    <tr>\n",
       "      <th>0</th>\n",
       "      <td>passenger_count</td>\n",
       "      <td>0.351168</td>\n",
       "    </tr>\n",
       "    <tr>\n",
       "      <th>1</th>\n",
       "      <td>fare_amount</td>\n",
       "      <td>0.140467</td>\n",
       "    </tr>\n",
       "    <tr>\n",
       "      <th>2</th>\n",
       "      <td>pickup_datetime</td>\n",
       "      <td>0.006385</td>\n",
       "    </tr>\n",
       "    <tr>\n",
       "      <th>3</th>\n",
       "      <td>pickup_longitude</td>\n",
       "      <td>0.000000</td>\n",
       "    </tr>\n",
       "    <tr>\n",
       "      <th>4</th>\n",
       "      <td>pickup_latitude</td>\n",
       "      <td>0.000000</td>\n",
       "    </tr>\n",
       "    <tr>\n",
       "      <th>5</th>\n",
       "      <td>dropoff_longitude</td>\n",
       "      <td>0.000000</td>\n",
       "    </tr>\n",
       "    <tr>\n",
       "      <th>6</th>\n",
       "      <td>dropoff_latitude</td>\n",
       "      <td>0.000000</td>\n",
       "    </tr>\n",
       "  </tbody>\n",
       "</table>\n",
       "</div>"
      ],
      "text/plain": [
       "           Variables  Missing_percentage\n",
       "0    passenger_count            0.351168\n",
       "1        fare_amount            0.140467\n",
       "2    pickup_datetime            0.006385\n",
       "3   pickup_longitude            0.000000\n",
       "4    pickup_latitude            0.000000\n",
       "5  dropoff_longitude            0.000000\n",
       "6   dropoff_latitude            0.000000"
      ]
     },
     "execution_count": 34,
     "metadata": {},
     "output_type": "execute_result"
    }
   ],
   "source": [
    "#Rename the columns\n",
    "missing_val = missing_val.rename(columns = {'index': 'Variables', 0: 'Missing_percentage'})\n",
    "\n",
    "#Calculate percentage\n",
    "missing_val['Missing_percentage'] = (missing_val['Missing_percentage']/len(df))*100\n",
    "\n",
    "#Sort the rows according to decreasing missing percentage\n",
    "missing_val = missing_val.sort_values('Missing_percentage', ascending = False).reset_index(drop = True)\n",
    "\n",
    "#Save output to csv file\n",
    "missing_val.to_csv(\"Missing_percentage.csv\", index = False)\n",
    "\n",
    "missing_val"
   ]
  },
  {
   "cell_type": "code",
   "execution_count": 35,
   "metadata": {
    "executionInfo": {
     "elapsed": 35,
     "status": "ok",
     "timestamp": 1666501837010,
     "user": {
      "displayName": "Debprasad Kundu",
      "userId": "13893367320446695825"
     },
     "user_tz": -330
    },
    "id": "cYfKFQS3OSAz"
   },
   "outputs": [],
   "source": [
    "## Since pickup_datetime contains only 1 missing value, we will drop that observation after imputing other missing values\n",
    "\n",
    "pickup_datetime = pd.DataFrame(df['pickup_datetime'])\n",
    "pickup_datetime = pickup_datetime.dropna()\n",
    "\n",
    "## We will keep the pickup_datetime separate for feature engineering"
   ]
  },
  {
   "cell_type": "markdown",
   "metadata": {
    "id": "WjTEpnNJOSA0"
   },
   "source": [
    "# Impute missing values\n"
   ]
  },
  {
   "cell_type": "code",
   "execution_count": 36,
   "metadata": {
    "colab": {
     "base_uri": "https://localhost:8080/"
    },
    "executionInfo": {
     "elapsed": 35,
     "status": "ok",
     "timestamp": 1666501837011,
     "user": {
      "displayName": "Debprasad Kundu",
      "userId": "13893367320446695825"
     },
     "user_tz": -330
    },
    "id": "G5RVc0ndOSA0",
    "outputId": "61f643c2-475e-4536-d5f3-1a16ca7772f5"
   },
   "outputs": [
    {
     "name": "stdout",
     "output_type": "stream",
     "text": [
      "1.0\n"
     ]
    }
   ],
   "source": [
    "#Actual value = 1\n",
    "#Mean = 1.65\n",
    "#Median = 1.0\n",
    "#KNN = 1\n",
    "print(df['passenger_count'].loc[110])\n",
    "\n",
    "#Set the value of first row in Body mass index as NAN\n",
    "#create missing value\n",
    "df['passenger_count'].loc[110] = np.nan"
   ]
  },
  {
   "cell_type": "code",
   "execution_count": 37,
   "metadata": {
    "colab": {
     "base_uri": "https://localhost:8080/"
    },
    "executionInfo": {
     "elapsed": 37276,
     "status": "ok",
     "timestamp": 1666501874257,
     "user": {
      "displayName": "Debprasad Kundu",
      "userId": "13893367320446695825"
     },
     "user_tz": -330
    },
    "id": "RS623T62OSA0",
    "outputId": "fe7114a4-3c41-4fcb-bec1-7172f385e2c4"
   },
   "outputs": [
    {
     "name": "stdout",
     "output_type": "stream",
     "text": [
      "Imputing row 1/15662 with 0 missing, elapsed time: 68.763\n",
      "Imputing row 101/15662 with 0 missing, elapsed time: 68.982\n",
      "Imputing row 201/15662 with 0 missing, elapsed time: 68.982\n",
      "Imputing row 301/15662 with 0 missing, elapsed time: 68.998\n",
      "Imputing row 401/15662 with 0 missing, elapsed time: 68.998\n",
      "Imputing row 501/15662 with 0 missing, elapsed time: 68.998\n",
      "Imputing row 601/15662 with 0 missing, elapsed time: 69.014\n",
      "Imputing row 701/15662 with 0 missing, elapsed time: 69.014\n",
      "Imputing row 801/15662 with 0 missing, elapsed time: 69.029\n",
      "Imputing row 901/15662 with 0 missing, elapsed time: 69.029\n",
      "Imputing row 1001/15662 with 0 missing, elapsed time: 69.029\n",
      "Imputing row 1101/15662 with 0 missing, elapsed time: 69.029\n",
      "Imputing row 1201/15662 with 0 missing, elapsed time: 69.029\n",
      "Imputing row 1301/15662 with 0 missing, elapsed time: 69.045\n",
      "Imputing row 1401/15662 with 0 missing, elapsed time: 69.045\n",
      "Imputing row 1501/15662 with 0 missing, elapsed time: 69.045\n",
      "Imputing row 1601/15662 with 0 missing, elapsed time: 69.060\n",
      "Imputing row 1701/15662 with 0 missing, elapsed time: 69.060\n",
      "Imputing row 1801/15662 with 0 missing, elapsed time: 69.060\n",
      "Imputing row 1901/15662 with 0 missing, elapsed time: 69.076\n",
      "Imputing row 2001/15662 with 0 missing, elapsed time: 69.076\n",
      "Imputing row 2101/15662 with 0 missing, elapsed time: 69.076\n",
      "Imputing row 2201/15662 with 0 missing, elapsed time: 69.076\n",
      "Imputing row 2301/15662 with 0 missing, elapsed time: 69.076\n",
      "Imputing row 2401/15662 with 0 missing, elapsed time: 69.076\n",
      "Imputing row 2501/15662 with 0 missing, elapsed time: 69.076\n",
      "Imputing row 2601/15662 with 0 missing, elapsed time: 69.076\n",
      "Imputing row 2701/15662 with 0 missing, elapsed time: 69.092\n",
      "Imputing row 2801/15662 with 0 missing, elapsed time: 69.092\n",
      "Imputing row 2901/15662 with 0 missing, elapsed time: 69.092\n",
      "Imputing row 3001/15662 with 0 missing, elapsed time: 69.092\n",
      "Imputing row 3101/15662 with 0 missing, elapsed time: 69.092\n",
      "Imputing row 3201/15662 with 0 missing, elapsed time: 69.092\n",
      "Imputing row 3301/15662 with 0 missing, elapsed time: 69.092\n",
      "Imputing row 3401/15662 with 0 missing, elapsed time: 69.092\n",
      "Imputing row 3501/15662 with 0 missing, elapsed time: 69.092\n",
      "Imputing row 3601/15662 with 0 missing, elapsed time: 69.092\n",
      "Imputing row 3701/15662 with 0 missing, elapsed time: 69.092\n",
      "Imputing row 3801/15662 with 0 missing, elapsed time: 69.092\n",
      "Imputing row 3901/15662 with 0 missing, elapsed time: 69.107\n",
      "Imputing row 4001/15662 with 0 missing, elapsed time: 69.107\n",
      "Imputing row 4101/15662 with 0 missing, elapsed time: 69.107\n",
      "Imputing row 4201/15662 with 0 missing, elapsed time: 69.107\n",
      "Imputing row 4301/15662 with 0 missing, elapsed time: 69.107\n",
      "Imputing row 4401/15662 with 0 missing, elapsed time: 69.107\n",
      "Imputing row 4501/15662 with 0 missing, elapsed time: 69.107\n",
      "Imputing row 4601/15662 with 0 missing, elapsed time: 69.107\n",
      "Imputing row 4701/15662 with 0 missing, elapsed time: 69.107\n",
      "Imputing row 4801/15662 with 0 missing, elapsed time: 69.107\n",
      "Imputing row 4901/15662 with 0 missing, elapsed time: 69.123\n",
      "Imputing row 5001/15662 with 0 missing, elapsed time: 69.123\n",
      "Imputing row 5101/15662 with 0 missing, elapsed time: 69.123\n",
      "Imputing row 5201/15662 with 0 missing, elapsed time: 69.123\n",
      "Imputing row 5301/15662 with 0 missing, elapsed time: 69.123\n",
      "Imputing row 5401/15662 with 0 missing, elapsed time: 69.123\n",
      "Imputing row 5501/15662 with 0 missing, elapsed time: 69.123\n",
      "Imputing row 5601/15662 with 0 missing, elapsed time: 69.123\n",
      "Imputing row 5701/15662 with 0 missing, elapsed time: 69.123\n",
      "Imputing row 5801/15662 with 0 missing, elapsed time: 69.123\n",
      "Imputing row 5901/15662 with 0 missing, elapsed time: 69.123\n",
      "Imputing row 6001/15662 with 0 missing, elapsed time: 69.123\n",
      "Imputing row 6101/15662 with 0 missing, elapsed time: 69.123\n",
      "Imputing row 6201/15662 with 0 missing, elapsed time: 69.123\n",
      "Imputing row 6301/15662 with 0 missing, elapsed time: 69.123\n",
      "Imputing row 6401/15662 with 0 missing, elapsed time: 69.123\n",
      "Imputing row 6501/15662 with 0 missing, elapsed time: 69.154\n",
      "Imputing row 6601/15662 with 0 missing, elapsed time: 69.186\n",
      "Imputing row 6701/15662 with 0 missing, elapsed time: 69.186\n",
      "Imputing row 6801/15662 with 0 missing, elapsed time: 69.186\n",
      "Imputing row 6901/15662 with 0 missing, elapsed time: 69.186\n",
      "Imputing row 7001/15662 with 0 missing, elapsed time: 69.186\n",
      "Imputing row 7101/15662 with 0 missing, elapsed time: 69.186\n",
      "Imputing row 7201/15662 with 0 missing, elapsed time: 69.186\n",
      "Imputing row 7301/15662 with 0 missing, elapsed time: 69.186\n",
      "Imputing row 7401/15662 with 0 missing, elapsed time: 69.186\n",
      "Imputing row 7501/15662 with 0 missing, elapsed time: 69.186\n",
      "Imputing row 7601/15662 with 0 missing, elapsed time: 69.201\n",
      "Imputing row 7701/15662 with 0 missing, elapsed time: 69.201\n",
      "Imputing row 7801/15662 with 0 missing, elapsed time: 69.217\n",
      "Imputing row 7901/15662 with 0 missing, elapsed time: 69.217\n",
      "Imputing row 8001/15662 with 0 missing, elapsed time: 69.217\n",
      "Imputing row 8101/15662 with 0 missing, elapsed time: 69.217\n",
      "Imputing row 8201/15662 with 0 missing, elapsed time: 69.217\n",
      "Imputing row 8301/15662 with 0 missing, elapsed time: 69.217\n",
      "Imputing row 8401/15662 with 0 missing, elapsed time: 69.217\n",
      "Imputing row 8501/15662 with 0 missing, elapsed time: 69.217\n",
      "Imputing row 8601/15662 with 0 missing, elapsed time: 69.217\n",
      "Imputing row 8701/15662 with 0 missing, elapsed time: 69.217\n",
      "Imputing row 8801/15662 with 0 missing, elapsed time: 69.217\n",
      "Imputing row 8901/15662 with 0 missing, elapsed time: 69.232\n",
      "Imputing row 9001/15662 with 0 missing, elapsed time: 69.232\n",
      "Imputing row 9101/15662 with 0 missing, elapsed time: 69.232\n",
      "Imputing row 9201/15662 with 0 missing, elapsed time: 69.232\n",
      "Imputing row 9301/15662 with 0 missing, elapsed time: 69.232\n",
      "Imputing row 9401/15662 with 0 missing, elapsed time: 69.232\n",
      "Imputing row 9501/15662 with 0 missing, elapsed time: 69.232\n",
      "Imputing row 9601/15662 with 0 missing, elapsed time: 69.232\n",
      "Imputing row 9701/15662 with 0 missing, elapsed time: 69.232\n",
      "Imputing row 9801/15662 with 0 missing, elapsed time: 69.232\n",
      "Imputing row 9901/15662 with 0 missing, elapsed time: 69.232\n",
      "Imputing row 10001/15662 with 0 missing, elapsed time: 69.232\n",
      "Imputing row 10101/15662 with 0 missing, elapsed time: 69.232\n",
      "Imputing row 10201/15662 with 0 missing, elapsed time: 69.232\n",
      "Imputing row 10301/15662 with 0 missing, elapsed time: 69.232\n",
      "Imputing row 10401/15662 with 0 missing, elapsed time: 69.232\n",
      "Imputing row 10501/15662 with 0 missing, elapsed time: 69.232\n",
      "Imputing row 10601/15662 with 0 missing, elapsed time: 69.248\n",
      "Imputing row 10701/15662 with 0 missing, elapsed time: 69.248\n",
      "Imputing row 10801/15662 with 0 missing, elapsed time: 69.248\n",
      "Imputing row 10901/15662 with 0 missing, elapsed time: 69.248\n",
      "Imputing row 11001/15662 with 0 missing, elapsed time: 69.248\n",
      "Imputing row 11101/15662 with 0 missing, elapsed time: 69.248\n",
      "Imputing row 11201/15662 with 0 missing, elapsed time: 69.248\n",
      "Imputing row 11301/15662 with 0 missing, elapsed time: 69.248\n",
      "Imputing row 11401/15662 with 0 missing, elapsed time: 69.248\n",
      "Imputing row 11501/15662 with 0 missing, elapsed time: 69.248\n",
      "Imputing row 11601/15662 with 0 missing, elapsed time: 69.258\n",
      "Imputing row 11701/15662 with 0 missing, elapsed time: 69.258\n",
      "Imputing row 11801/15662 with 0 missing, elapsed time: 69.258\n",
      "Imputing row 11901/15662 with 0 missing, elapsed time: 69.258\n",
      "Imputing row 12001/15662 with 0 missing, elapsed time: 69.258\n",
      "Imputing row 12101/15662 with 0 missing, elapsed time: 69.258\n",
      "Imputing row 12201/15662 with 0 missing, elapsed time: 69.258\n",
      "Imputing row 12301/15662 with 0 missing, elapsed time: 69.258\n",
      "Imputing row 12401/15662 with 0 missing, elapsed time: 69.258\n",
      "Imputing row 12501/15662 with 0 missing, elapsed time: 69.266\n",
      "Imputing row 12601/15662 with 0 missing, elapsed time: 69.266\n",
      "Imputing row 12701/15662 with 0 missing, elapsed time: 69.266\n",
      "Imputing row 12801/15662 with 0 missing, elapsed time: 69.266\n",
      "Imputing row 12901/15662 with 0 missing, elapsed time: 69.266\n",
      "Imputing row 13001/15662 with 0 missing, elapsed time: 69.266\n",
      "Imputing row 13101/15662 with 0 missing, elapsed time: 69.266\n",
      "Imputing row 13201/15662 with 0 missing, elapsed time: 69.266\n",
      "Imputing row 13301/15662 with 0 missing, elapsed time: 69.266\n",
      "Imputing row 13401/15662 with 0 missing, elapsed time: 69.266\n",
      "Imputing row 13501/15662 with 0 missing, elapsed time: 69.274\n",
      "Imputing row 13601/15662 with 0 missing, elapsed time: 69.274\n",
      "Imputing row 13701/15662 with 0 missing, elapsed time: 69.274\n",
      "Imputing row 13801/15662 with 0 missing, elapsed time: 69.274\n",
      "Imputing row 13901/15662 with 0 missing, elapsed time: 69.274\n",
      "Imputing row 14001/15662 with 0 missing, elapsed time: 69.274\n",
      "Imputing row 14101/15662 with 0 missing, elapsed time: 69.274\n",
      "Imputing row 14201/15662 with 0 missing, elapsed time: 69.274\n",
      "Imputing row 14301/15662 with 0 missing, elapsed time: 69.274\n",
      "Imputing row 14401/15662 with 0 missing, elapsed time: 69.282\n",
      "Imputing row 14501/15662 with 0 missing, elapsed time: 69.282\n",
      "Imputing row 14601/15662 with 0 missing, elapsed time: 69.282\n",
      "Imputing row 14701/15662 with 0 missing, elapsed time: 69.282\n",
      "Imputing row 14801/15662 with 0 missing, elapsed time: 69.282\n",
      "Imputing row 14901/15662 with 0 missing, elapsed time: 69.282\n",
      "Imputing row 15001/15662 with 0 missing, elapsed time: 69.282\n",
      "Imputing row 15101/15662 with 0 missing, elapsed time: 69.282\n",
      "Imputing row 15201/15662 with 0 missing, elapsed time: 69.282\n",
      "Imputing row 15301/15662 with 0 missing, elapsed time: 69.290\n",
      "Imputing row 15401/15662 with 0 missing, elapsed time: 69.290\n",
      "Imputing row 15501/15662 with 0 missing, elapsed time: 69.290\n",
      "Imputing row 15601/15662 with 0 missing, elapsed time: 69.290\n"
     ]
    }
   ],
   "source": [
    "#Impute with mean\n",
    "#df['passenger_count'] = df['passenger_count'].fillna(df['passenger_count'].mean())\n",
    "\n",
    "#Impute with median\n",
    "#df['passenger_count'] = df['passenger_count'].fillna(df['passenger_count'].median())\n",
    "\n",
    "#Impute with KNN\n",
    "df = df.drop('pickup_datetime',axis=1)\n",
    "df = pd.DataFrame(KNN(k = 19).fit_transform(df), columns = df.columns)"
   ]
  },
  {
   "cell_type": "code",
   "execution_count": 38,
   "metadata": {
    "colab": {
     "base_uri": "https://localhost:8080/"
    },
    "executionInfo": {
     "elapsed": 54,
     "status": "ok",
     "timestamp": 1666501874257,
     "user": {
      "displayName": "Debprasad Kundu",
      "userId": "13893367320446695825"
     },
     "user_tz": -330
    },
    "id": "mUnLIJy3OSA0",
    "outputId": "381f044c-b6d6-492f-c221-f72f4d432740"
   },
   "outputs": [
    {
     "data": {
      "text/plain": [
       "fare_amount          0\n",
       "pickup_longitude     0\n",
       "pickup_latitude      0\n",
       "dropoff_longitude    0\n",
       "dropoff_latitude     0\n",
       "passenger_count      0\n",
       "dtype: int64"
      ]
     },
     "execution_count": 38,
     "metadata": {},
     "output_type": "execute_result"
    }
   ],
   "source": [
    "# Checking Missing values\n",
    "df.isnull().sum()"
   ]
  },
  {
   "cell_type": "code",
   "execution_count": 39,
   "metadata": {
    "colab": {
     "base_uri": "https://localhost:8080/"
    },
    "executionInfo": {
     "elapsed": 51,
     "status": "ok",
     "timestamp": 1666501874258,
     "user": {
      "displayName": "Debprasad Kundu",
      "userId": "13893367320446695825"
     },
     "user_tz": -330
    },
    "id": "BN3aedaZOSA1",
    "outputId": "fe8c7f77-0ffd-49f1-abe1-b3952e1bab35"
   },
   "outputs": [
    {
     "data": {
      "text/plain": [
       "fare_amount           float64\n",
       "pickup_longitude      float64\n",
       "pickup_latitude       float64\n",
       "dropoff_longitude     float64\n",
       "dropoff_latitude      float64\n",
       "passenger_count      category\n",
       "dtype: object"
      ]
     },
     "execution_count": 39,
     "metadata": {},
     "output_type": "execute_result"
    }
   ],
   "source": [
    "df['passenger_count']=df['passenger_count'].round().astype('object').astype('category')\n",
    "df.dtypes"
   ]
  },
  {
   "cell_type": "code",
   "execution_count": 40,
   "metadata": {
    "colab": {
     "base_uri": "https://localhost:8080/"
    },
    "executionInfo": {
     "elapsed": 45,
     "status": "ok",
     "timestamp": 1666501874258,
     "user": {
      "displayName": "Debprasad Kundu",
      "userId": "13893367320446695825"
     },
     "user_tz": -330
    },
    "id": "LbG50eFOOSA1",
    "outputId": "312b8e3d-4e3c-4c95-eec4-1505d4bb10fa"
   },
   "outputs": [
    {
     "data": {
      "text/plain": [
       "pickup_datetime    0\n",
       "dtype: int64"
      ]
     },
     "execution_count": 40,
     "metadata": {},
     "output_type": "execute_result"
    }
   ],
   "source": [
    "pickup_datetime.isnull().sum()"
   ]
  },
  {
   "cell_type": "markdown",
   "metadata": {
    "id": "GkJ-eeOxOSA1"
   },
   "source": [
    "# Feature Engineering ################################## "
   ]
  },
  {
   "cell_type": "code",
   "execution_count": 41,
   "metadata": {
    "colab": {
     "base_uri": "https://localhost:8080/"
    },
    "executionInfo": {
     "elapsed": 41,
     "status": "ok",
     "timestamp": 1666501874259,
     "user": {
      "displayName": "Debprasad Kundu",
      "userId": "13893367320446695825"
     },
     "user_tz": -330
    },
    "id": "x_NbbV3UOSA1",
    "outputId": "03c12820-13fb-4f64-a668-a0153cfba91d"
   },
   "outputs": [
    {
     "data": {
      "text/plain": [
       "pickup_datetime      datetime64[ns, UTC]\n",
       "fare_amount                      float64\n",
       "pickup_longitude                 float64\n",
       "pickup_latitude                  float64\n",
       "dropoff_longitude                float64\n",
       "dropoff_latitude                 float64\n",
       "passenger_count                 category\n",
       "dtype: object"
      ]
     },
     "execution_count": 41,
     "metadata": {},
     "output_type": "execute_result"
    }
   ],
   "source": [
    "# Joining both datetime and train dataset\n",
    "df = pd.merge(pickup_datetime,df,right_index=True,left_index=True)\n",
    "df.dtypes"
   ]
  },
  {
   "cell_type": "code",
   "execution_count": 42,
   "metadata": {
    "executionInfo": {
     "elapsed": 37,
     "status": "ok",
     "timestamp": 1666501874259,
     "user": {
      "displayName": "Debprasad Kundu",
      "userId": "13893367320446695825"
     },
     "user_tz": -330
    },
    "id": "cEao7Vv2OSA2"
   },
   "outputs": [],
   "source": [
    "## Deriving new values like year, month, day_of_the_week, hour, session, season, week from pickup_datetime\n",
    "complete_data = [df, car_df_test]\n",
    "\n",
    "for data in complete_data:\n",
    "    data[\"year\"] = data[\"pickup_datetime\"].apply(lambda row: row.year)\n",
    "    data[\"month\"] = data[\"pickup_datetime\"].apply(lambda row: row.month)\n",
    "    data[\"day_of_week\"] = data[\"pickup_datetime\"].apply(lambda row: row.dayofweek)\n",
    "    data[\"hour\"] = data[\"pickup_datetime\"].apply(lambda row: row.hour)"
   ]
  },
  {
   "cell_type": "code",
   "execution_count": 43,
   "metadata": {
    "executionInfo": {
     "elapsed": 37,
     "status": "ok",
     "timestamp": 1666501874260,
     "user": {
      "displayName": "Debprasad Kundu",
      "userId": "13893367320446695825"
     },
     "user_tz": -330
    },
    "id": "iSGF-Pf_OSA2"
   },
   "outputs": [],
   "source": [
    "##### Functions for getting session and seasons, week from pickup_datetime\n",
    "\n",
    "def sessions(x):\n",
    "    ''' for sessions in a day using hour column '''\n",
    "    if (x >=5) and (x <= 11):\n",
    "        return 'morning'\n",
    "    elif (x >=12) and (x <=16 ):\n",
    "        return 'afternoon'\n",
    "    elif (x >= 17) and (x <= 20):\n",
    "        return'evening'\n",
    "    elif (x >=21) and (x <= 23) :\n",
    "        return 'night_PM'\n",
    "    elif (x >=0) and (x <=4):\n",
    "        return'night_AM'\n",
    "\n",
    "def seasons(x):\n",
    "    ''' for seasons in a year using month column'''\n",
    "    if (x >=3) and (x <= 5):\n",
    "        return 'spring'\n",
    "    elif (x >=6) and (x <=8 ):\n",
    "        return 'summer'\n",
    "    elif (x >= 9) and (x <= 11):\n",
    "        return'fall'\n",
    "    elif (x >=12)|(x <= 2) :\n",
    "        return 'winter'\n",
    "\n",
    "def week(x):\n",
    "    ''' for week:weekday/weekend in a day_of_week column '''\n",
    "    if (x >=0) and (x <= 4):\n",
    "        return 'weekday'\n",
    "    elif (x >=5) and (x <=6 ):\n",
    "        return 'weekend'"
   ]
  },
  {
   "cell_type": "code",
   "execution_count": 44,
   "metadata": {
    "executionInfo": {
     "elapsed": 37,
     "status": "ok",
     "timestamp": 1666501874260,
     "user": {
      "displayName": "Debprasad Kundu",
      "userId": "13893367320446695825"
     },
     "user_tz": -330
    },
    "id": "wLlbiBCvOSA2"
   },
   "outputs": [],
   "source": [
    "for data in complete_data:\n",
    "    data['session'] = data['hour'].apply(sessions)\n",
    "    data['seasons'] = data['month'].apply(seasons)\n",
    "    data['week'] = data['day_of_week'].apply(week)"
   ]
  },
  {
   "cell_type": "code",
   "execution_count": 45,
   "metadata": {
    "colab": {
     "base_uri": "https://localhost:8080/"
    },
    "executionInfo": {
     "elapsed": 37,
     "status": "ok",
     "timestamp": 1666501874261,
     "user": {
      "displayName": "Debprasad Kundu",
      "userId": "13893367320446695825"
     },
     "user_tz": -330
    },
    "id": "HTF2X1ToOSA3",
    "outputId": "7b8c78cb-f7e5-4f66-dc03-0150397bfbba"
   },
   "outputs": [
    {
     "data": {
      "text/plain": [
       "Index(['pickup_datetime', 'fare_amount', 'pickup_longitude', 'pickup_latitude',\n",
       "       'dropoff_longitude', 'dropoff_latitude', 'passenger_count', 'year',\n",
       "       'month', 'day_of_week', 'hour', 'session', 'seasons', 'week'],\n",
       "      dtype='object')"
      ]
     },
     "execution_count": 45,
     "metadata": {},
     "output_type": "execute_result"
    }
   ],
   "source": [
    "df.columns"
   ]
  },
  {
   "cell_type": "code",
   "execution_count": 46,
   "metadata": {
    "executionInfo": {
     "elapsed": 33,
     "status": "ok",
     "timestamp": 1666501874261,
     "user": {
      "displayName": "Debprasad Kundu",
      "userId": "13893367320446695825"
     },
     "user_tz": -330
    },
    "id": "bnWYPlPwOSA3"
   },
   "outputs": [],
   "source": [
    "## Getting Dummy Variables for all the categorical variables\n",
    "\n",
    "### Change if required!\n",
    "categorical_variables = ['passenger_count', 'year', 'month', 'day_of_week', 'hour', 'session', 'seasons', 'week']\n",
    "df = pd.get_dummies(data = df, columns = categorical_variables)\n",
    "car_df_test = pd.get_dummies(data = car_df_test, columns = categorical_variables)"
   ]
  },
  {
   "cell_type": "code",
   "execution_count": 47,
   "metadata": {
    "colab": {
     "base_uri": "https://localhost:8080/"
    },
    "executionInfo": {
     "elapsed": 33,
     "status": "ok",
     "timestamp": 1666501874262,
     "user": {
      "displayName": "Debprasad Kundu",
      "userId": "13893367320446695825"
     },
     "user_tz": -330
    },
    "id": "FG9Jf7EwOSA3",
    "outputId": "2fff41ce-74ea-4a3d-9091-5de567ada6c7"
   },
   "outputs": [
    {
     "data": {
      "text/plain": [
       "Index(['pickup_datetime', 'fare_amount', 'pickup_longitude', 'pickup_latitude',\n",
       "       'dropoff_longitude', 'dropoff_latitude', 'passenger_count_1.0',\n",
       "       'passenger_count_2.0', 'passenger_count_3.0', 'passenger_count_4.0',\n",
       "       'passenger_count_5.0', 'passenger_count_6.0', 'year_2009', 'year_2010',\n",
       "       'year_2011', 'year_2012', 'year_2013', 'year_2014', 'year_2015',\n",
       "       'month_1', 'month_2', 'month_3', 'month_4', 'month_5', 'month_6',\n",
       "       'month_7', 'month_8', 'month_9', 'month_10', 'month_11', 'month_12',\n",
       "       'day_of_week_0', 'day_of_week_1', 'day_of_week_2', 'day_of_week_3',\n",
       "       'day_of_week_4', 'day_of_week_5', 'day_of_week_6', 'hour_0', 'hour_1',\n",
       "       'hour_2', 'hour_3', 'hour_4', 'hour_5', 'hour_6', 'hour_7', 'hour_8',\n",
       "       'hour_9', 'hour_10', 'hour_11', 'hour_12', 'hour_13', 'hour_14',\n",
       "       'hour_15', 'hour_16', 'hour_17', 'hour_18', 'hour_19', 'hour_20',\n",
       "       'hour_21', 'hour_22', 'hour_23', 'session_afternoon', 'session_evening',\n",
       "       'session_morning', 'session_night_AM', 'session_night_PM',\n",
       "       'seasons_fall', 'seasons_spring', 'seasons_summer', 'seasons_winter',\n",
       "       'week_weekday', 'week_weekend'],\n",
       "      dtype='object')"
      ]
     },
     "execution_count": 47,
     "metadata": {},
     "output_type": "execute_result"
    }
   ],
   "source": [
    "df.columns"
   ]
  },
  {
   "cell_type": "code",
   "execution_count": 48,
   "metadata": {
    "executionInfo": {
     "elapsed": 28,
     "status": "ok",
     "timestamp": 1666501874262,
     "user": {
      "displayName": "Debprasad Kundu",
      "userId": "13893367320446695825"
     },
     "user_tz": -330
    },
    "id": "59vWM2AAOSA3"
   },
   "outputs": [],
   "source": [
    "# Avoiding dummy variable trap \n",
    "df = df.drop(['passenger_count_6.0','seasons_winter','week_weekday','session_night_AM',\\\n",
    "              'year_2015','month_12','hour_23','day_of_week_6'],axis=1)\n",
    "car_df_test = car_df_test.drop(['passenger_count_6','seasons_winter','week_weekday',\\\n",
    "                                'session_night_AM','year_2015','month_12','hour_23','day_of_week_6'],axis=1)\n"
   ]
  },
  {
   "cell_type": "code",
   "execution_count": 49,
   "metadata": {
    "executionInfo": {
     "elapsed": 5955,
     "status": "ok",
     "timestamp": 1666501880190,
     "user": {
      "displayName": "Debprasad Kundu",
      "userId": "13893367320446695825"
     },
     "user_tz": -330
    },
    "id": "-hj_w_8AOSA4"
   },
   "outputs": [],
   "source": [
    "# Calculate distance the cab travelled from pickup and dropoff location using great_circle from geopy library\n",
    "from geopy.distance import geodesic\n",
    "from geopy.distance import great_circle\n",
    "df = df.drop(5533)\n",
    "complete_data = [df, car_df_test]\n",
    "for data in complete_data:\n",
    "    data['great_circle']=data.apply(lambda x: great_circle((x['pickup_latitude'],x['pickup_longitude']), (x['dropoff_latitude'],x['dropoff_longitude'])).miles, axis=1)\n",
    "    data['geodesic']=data.apply(lambda x: geodesic((x['pickup_latitude'],x['pickup_longitude']), (x['dropoff_latitude'],x['dropoff_longitude'])).miles, axis=1)"
   ]
  },
  {
   "cell_type": "code",
   "execution_count": 50,
   "metadata": {
    "executionInfo": {
     "elapsed": 25,
     "status": "ok",
     "timestamp": 1666501880191,
     "user": {
      "displayName": "Debprasad Kundu",
      "userId": "13893367320446695825"
     },
     "user_tz": -330
    },
    "id": "jayNPPWTOSA4"
   },
   "outputs": [],
   "source": [
    "## Remove variables from which new variables were created\n",
    "\n",
    "df = df.drop(['pickup_datetime','pickup_longitude', 'pickup_latitude','dropoff_longitude', 'dropoff_latitude'],axis=1)\n",
    "\n",
    "car_df_test = car_df_test.drop(['pickup_datetime','pickup_longitude', 'pickup_latitude','dropoff_longitude', 'dropoff_latitude'],axis=1)"
   ]
  },
  {
   "cell_type": "code",
   "execution_count": 51,
   "metadata": {
    "colab": {
     "base_uri": "https://localhost:8080/"
    },
    "executionInfo": {
     "elapsed": 24,
     "status": "ok",
     "timestamp": 1666501880192,
     "user": {
      "displayName": "Debprasad Kundu",
      "userId": "13893367320446695825"
     },
     "user_tz": -330
    },
    "id": "yt7CddsKOSA4",
    "outputId": "f11584ea-986b-4491-d97a-f05c7270aaa7"
   },
   "outputs": [
    {
     "data": {
      "text/plain": [
       "Index(['fare_amount', 'passenger_count_1.0', 'passenger_count_2.0',\n",
       "       'passenger_count_3.0', 'passenger_count_4.0', 'passenger_count_5.0',\n",
       "       'year_2009', 'year_2010', 'year_2011', 'year_2012', 'year_2013',\n",
       "       'year_2014', 'month_1', 'month_2', 'month_3', 'month_4', 'month_5',\n",
       "       'month_6', 'month_7', 'month_8', 'month_9', 'month_10', 'month_11',\n",
       "       'day_of_week_0', 'day_of_week_1', 'day_of_week_2', 'day_of_week_3',\n",
       "       'day_of_week_4', 'day_of_week_5', 'hour_0', 'hour_1', 'hour_2',\n",
       "       'hour_3', 'hour_4', 'hour_5', 'hour_6', 'hour_7', 'hour_8', 'hour_9',\n",
       "       'hour_10', 'hour_11', 'hour_12', 'hour_13', 'hour_14', 'hour_15',\n",
       "       'hour_16', 'hour_17', 'hour_18', 'hour_19', 'hour_20', 'hour_21',\n",
       "       'hour_22', 'session_afternoon', 'session_evening', 'session_morning',\n",
       "       'session_night_PM', 'seasons_fall', 'seasons_spring', 'seasons_summer',\n",
       "       'week_weekend', 'great_circle', 'geodesic'],\n",
       "      dtype='object')"
      ]
     },
     "execution_count": 51,
     "metadata": {},
     "output_type": "execute_result"
    }
   ],
   "source": [
    "df.columns"
   ]
  },
  {
   "cell_type": "code",
   "execution_count": 52,
   "metadata": {
    "colab": {
     "base_uri": "https://localhost:8080/"
    },
    "executionInfo": {
     "elapsed": 23,
     "status": "ok",
     "timestamp": 1666501880193,
     "user": {
      "displayName": "Debprasad Kundu",
      "userId": "13893367320446695825"
     },
     "user_tz": -330
    },
    "id": "qb4OPD_sOSA5",
    "outputId": "c998d811-664c-43ef-ecd7-383f5a04f506"
   },
   "outputs": [
    {
     "name": "stdout",
     "output_type": "stream",
     "text": [
      "Categorical Columns :  ['passenger_count_1.0', 'passenger_count_2.0', 'passenger_count_3.0', 'passenger_count_4.0', 'passenger_count_5.0', 'year_2009', 'year_2010', 'year_2011', 'year_2012', 'year_2013', 'year_2014', 'month_1', 'month_2', 'month_3', 'month_4', 'month_5', 'month_6', 'month_7', 'month_8', 'month_9', 'month_10', 'month_11', 'day_of_week_0', 'day_of_week_1', 'day_of_week_2', 'day_of_week_3', 'day_of_week_4', 'day_of_week_5', 'hour_0', 'hour_1', 'hour_2', 'hour_3', 'hour_4', 'hour_5', 'hour_6', 'hour_7', 'hour_8', 'hour_9', 'hour_10', 'hour_11', 'hour_12', 'hour_13', 'hour_14', 'hour_15', 'hour_16', 'hour_17', 'hour_18', 'hour_19', 'hour_20', 'hour_21', 'hour_22', 'session_afternoon', 'session_evening', 'session_morning', 'session_night_PM', 'seasons_fall', 'seasons_spring', 'seasons_summer', 'week_weekend']\n",
      "\n",
      "Continous Columns :  ['fare_amount', 'great_circle', 'geodesic']\n"
     ]
    }
   ],
   "source": [
    "######### Categorizing colmnns into categorical and Continous ###########\n",
    "# convert passenger_count into a categorical variable because passenger_count contains unique values.\n",
    "categorical_variables_train = ['passenger_count_1.0', 'passenger_count_2.0',\n",
    "       'passenger_count_3.0', 'passenger_count_4.0', 'passenger_count_5.0',\n",
    "       'year_2009', 'year_2010', 'year_2011', 'year_2012', 'year_2013',\n",
    "       'year_2014', 'month_1', 'month_2', 'month_3', 'month_4', 'month_5',\n",
    "       'month_6', 'month_7', 'month_8', 'month_9', 'month_10', 'month_11',\n",
    "       'day_of_week_0', 'day_of_week_1', 'day_of_week_2', 'day_of_week_3',\n",
    "       'day_of_week_4', 'day_of_week_5', 'hour_0', 'hour_1', 'hour_2',\n",
    "       'hour_3', 'hour_4', 'hour_5', 'hour_6', 'hour_7', 'hour_8', 'hour_9',\n",
    "       'hour_10', 'hour_11', 'hour_12', 'hour_13', 'hour_14', 'hour_15',\n",
    "       'hour_16', 'hour_17', 'hour_18', 'hour_19', 'hour_20', 'hour_21',\n",
    "       'hour_22', 'session_afternoon', 'session_evening', 'session_morning',\n",
    "       'session_night_PM', 'seasons_fall', 'seasons_spring', 'seasons_summer',\n",
    "       'week_weekend']\n",
    "\n",
    "categorical_variables_test = ['passenger_count_1', 'passenger_count_2',\n",
    "       'passenger_count_3', 'passenger_count_4', 'passenger_count_5',\n",
    "       'year_2009', 'year_2010', 'year_2011', 'year_2012', 'year_2013',\n",
    "       'year_2014', 'month_1', 'month_2', 'month_3', 'month_4', 'month_5',\n",
    "       'month_6', 'month_7', 'month_8', 'month_9', 'month_10', 'month_11',\n",
    "       'day_of_week_0', 'day_of_week_1', 'day_of_week_2', 'day_of_week_3',\n",
    "       'day_of_week_4', 'day_of_week_5', 'hour_0', 'hour_1', 'hour_2',\n",
    "       'hour_3', 'hour_4', 'hour_5', 'hour_6', 'hour_7', 'hour_8', 'hour_9',\n",
    "       'hour_10', 'hour_11', 'hour_12', 'hour_13', 'hour_14', 'hour_15',\n",
    "       'hour_16', 'hour_17', 'hour_18', 'hour_19', 'hour_20', 'hour_21',\n",
    "       'hour_22', 'session_afternoon', 'session_evening', 'session_morning',\n",
    "       'session_night_PM', 'seasons_fall', 'seasons_spring', 'seasons_summer',\n",
    "       'week_weekend']\n",
    "    \n",
    "for i in categorical_variables_train:\n",
    "        df[i] = df[i].astype('category')\n",
    "        \n",
    "for i in categorical_variables_test:\n",
    "        car_df_test[i] = car_df_test[i].astype('category')\n",
    "        \n",
    "\n",
    "# Categorizing other variables as continous\n",
    "continous_variables = []\n",
    "for i in df.columns:\n",
    "    if i not in categorical_variables_train:\n",
    "        continous_variables.append(i)\n",
    "        \n",
    "        \n",
    "print(\"Categorical Columns : \",categorical_variables_train)\n",
    "print()\n",
    "print(\"Continous Columns : \",continous_variables)"
   ]
  },
  {
   "cell_type": "code",
   "execution_count": 53,
   "metadata": {
    "colab": {
     "base_uri": "https://localhost:8080/"
    },
    "executionInfo": {
     "elapsed": 17,
     "status": "ok",
     "timestamp": 1666501880194,
     "user": {
      "displayName": "Debprasad Kundu",
      "userId": "13893367320446695825"
     },
     "user_tz": -330
    },
    "id": "dwBCctyqOSA5",
    "outputId": "e48247c1-ba7a-45b6-9e92-a9c0579f4ac0"
   },
   "outputs": [
    {
     "data": {
      "text/plain": [
       "((15266, 62), (9914, 61))"
      ]
     },
     "execution_count": 53,
     "metadata": {},
     "output_type": "execute_result"
    }
   ],
   "source": [
    "car_df_train = df.copy()\n",
    "car_df_train.shape, car_df_test.shape"
   ]
  },
  {
   "cell_type": "code",
   "execution_count": 54,
   "metadata": {
    "colab": {
     "base_uri": "https://localhost:8080/",
     "height": 809
    },
    "executionInfo": {
     "elapsed": 767,
     "status": "ok",
     "timestamp": 1666501880949,
     "user": {
      "displayName": "Debprasad Kundu",
      "userId": "13893367320446695825"
     },
     "user_tz": -330
    },
    "id": "AKCsDxxvOSA5",
    "outputId": "78508146-cc3b-45ba-b0cb-4414c73d54bd"
   },
   "outputs": [
    {
     "data": {
      "image/png": "[encoded data removed]",
      "text/plain": [
       "<Figure size 432x288 with 1 Axes>"
      ]
     },
     "metadata": {
      "needs_background": "light"
     },
     "output_type": "display_data"
    },
    {
     "data": {
      "image/png": "[encoded data removed]",
      "text/plain": [
       "<Figure size 432x288 with 1 Axes>"
      ]
     },
     "metadata": {
      "needs_background": "light"
     },
     "output_type": "display_data"
    },
    {
     "data": {
      "image/png": "[encoded data removed]",
      "text/plain": [
       "<Figure size 432x288 with 1 Axes>"
      ]
     },
     "metadata": {
      "needs_background": "light"
     },
     "output_type": "display_data"
    }
   ],
   "source": [
    "#################### Outlier Analysis #############################\n",
    "\n",
    "### Checking Outliers using Boxplot Method\n",
    "\n",
    "for i,col in enumerate(continous_variables):\n",
    "    plt.figure(i)\n",
    "    plt.title(col)\n",
    "    plt.xlim(0,100)\n",
    "    sns.boxplot(data=df[col], orient=\"h\", palette=\"Set2\")\n",
    "    "
   ]
  },
  {
   "cell_type": "code",
   "execution_count": 55,
   "metadata": {
    "executionInfo": {
     "elapsed": 18,
     "status": "ok",
     "timestamp": 1666501880950,
     "user": {
      "displayName": "Debprasad Kundu",
      "userId": "13893367320446695825"
     },
     "user_tz": -330
    },
    "id": "ON7NgO-jOSA6"
   },
   "outputs": [],
   "source": [
    "#df1 = df.copy()"
   ]
  },
  {
   "cell_type": "code",
   "execution_count": 56,
   "metadata": {
    "colab": {
     "base_uri": "https://localhost:8080/"
    },
    "executionInfo": {
     "elapsed": 69747,
     "status": "ok",
     "timestamp": 1666502002080,
     "user": {
      "displayName": "Debprasad Kundu",
      "userId": "13893367320446695825"
     },
     "user_tz": -330
    },
    "id": "hr1if52LOSA6",
    "outputId": "0b243930-0c42-4c0f-a6ac-c2499b8ef21a"
   },
   "outputs": [
    {
     "name": "stdout",
     "output_type": "stream",
     "text": [
      "Imputing row 1/15266 with 0 missing, elapsed time: 158.199\n",
      "Imputing row 101/15266 with 0 missing, elapsed time: 158.511\n",
      "Imputing row 201/15266 with 0 missing, elapsed time: 158.543\n",
      "Imputing row 301/15266 with 0 missing, elapsed time: 158.590\n",
      "Imputing row 401/15266 with 0 missing, elapsed time: 158.746\n",
      "Imputing row 501/15266 with 0 missing, elapsed time: 158.777\n",
      "Imputing row 601/15266 with 0 missing, elapsed time: 158.808\n",
      "Imputing row 701/15266 with 0 missing, elapsed time: 158.824\n",
      "Imputing row 801/15266 with 0 missing, elapsed time: 158.871\n",
      "Imputing row 901/15266 with 0 missing, elapsed time: 158.902\n",
      "Imputing row 1001/15266 with 0 missing, elapsed time: 158.918\n",
      "Imputing row 1101/15266 with 3 missing, elapsed time: 158.933\n",
      "Imputing row 1201/15266 with 3 missing, elapsed time: 158.949\n",
      "Imputing row 1301/15266 with 0 missing, elapsed time: 158.996\n",
      "Imputing row 1401/15266 with 3 missing, elapsed time: 159.012\n",
      "Imputing row 1501/15266 with 0 missing, elapsed time: 159.027\n",
      "Imputing row 1601/15266 with 0 missing, elapsed time: 159.058\n",
      "Imputing row 1701/15266 with 0 missing, elapsed time: 159.074\n",
      "Imputing row 1801/15266 with 0 missing, elapsed time: 159.090\n",
      "Imputing row 1901/15266 with 0 missing, elapsed time: 159.137\n",
      "Imputing row 2001/15266 with 3 missing, elapsed time: 159.152\n",
      "Imputing row 2101/15266 with 3 missing, elapsed time: 159.199\n",
      "Imputing row 2201/15266 with 0 missing, elapsed time: 159.215\n",
      "Imputing row 2301/15266 with 0 missing, elapsed time: 159.246\n",
      "Imputing row 2401/15266 with 0 missing, elapsed time: 159.262\n",
      "Imputing row 2501/15266 with 0 missing, elapsed time: 159.293\n",
      "Imputing row 2601/15266 with 0 missing, elapsed time: 159.309\n",
      "Imputing row 2701/15266 with 3 missing, elapsed time: 159.324\n",
      "Imputing row 2801/15266 with 0 missing, elapsed time: 159.340\n",
      "Imputing row 2901/15266 with 0 missing, elapsed time: 159.340\n",
      "Imputing row 3001/15266 with 0 missing, elapsed time: 159.355\n",
      "Imputing row 3101/15266 with 0 missing, elapsed time: 159.371\n",
      "Imputing row 3201/15266 with 0 missing, elapsed time: 159.387\n",
      "Imputing row 3301/15266 with 0 missing, elapsed time: 159.387\n",
      "Imputing row 3401/15266 with 0 missing, elapsed time: 159.402\n",
      "Imputing row 3501/15266 with 0 missing, elapsed time: 159.402\n",
      "Imputing row 3601/15266 with 0 missing, elapsed time: 159.418\n",
      "Imputing row 3701/15266 with 0 missing, elapsed time: 159.418\n",
      "Imputing row 3801/15266 with 0 missing, elapsed time: 159.434\n",
      "Imputing row 3901/15266 with 0 missing, elapsed time: 159.434\n",
      "Imputing row 4001/15266 with 0 missing, elapsed time: 159.449\n",
      "Imputing row 4101/15266 with 0 missing, elapsed time: 159.449\n",
      "Imputing row 4201/15266 with 3 missing, elapsed time: 159.465\n",
      "Imputing row 4301/15266 with 0 missing, elapsed time: 159.465\n",
      "Imputing row 4401/15266 with 3 missing, elapsed time: 159.480\n",
      "Imputing row 4501/15266 with 0 missing, elapsed time: 159.480\n",
      "Imputing row 4601/15266 with 0 missing, elapsed time: 159.512\n",
      "Imputing row 4701/15266 with 0 missing, elapsed time: 159.512\n",
      "Imputing row 4801/15266 with 0 missing, elapsed time: 159.527\n",
      "Imputing row 4901/15266 with 3 missing, elapsed time: 159.527\n",
      "Imputing row 5001/15266 with 0 missing, elapsed time: 159.543\n",
      "Imputing row 5101/15266 with 0 missing, elapsed time: 159.543\n",
      "Imputing row 5201/15266 with 1 missing, elapsed time: 159.559\n",
      "Imputing row 5301/15266 with 1 missing, elapsed time: 159.559\n",
      "Imputing row 5401/15266 with 0 missing, elapsed time: 159.574\n",
      "Imputing row 5501/15266 with 0 missing, elapsed time: 159.574\n",
      "Imputing row 5601/15266 with 0 missing, elapsed time: 159.590\n",
      "Imputing row 5701/15266 with 0 missing, elapsed time: 159.590\n",
      "Imputing row 5801/15266 with 0 missing, elapsed time: 159.606\n",
      "Imputing row 5901/15266 with 0 missing, elapsed time: 159.606\n",
      "Imputing row 6001/15266 with 0 missing, elapsed time: 159.621\n",
      "Imputing row 6101/15266 with 0 missing, elapsed time: 159.637\n",
      "Imputing row 6201/15266 with 0 missing, elapsed time: 159.637\n",
      "Imputing row 6301/15266 with 0 missing, elapsed time: 159.652\n",
      "Imputing row 6401/15266 with 0 missing, elapsed time: 159.652\n",
      "Imputing row 6501/15266 with 0 missing, elapsed time: 159.668\n",
      "Imputing row 6601/15266 with 0 missing, elapsed time: 159.668\n",
      "Imputing row 6701/15266 with 0 missing, elapsed time: 159.684\n",
      "Imputing row 6801/15266 with 0 missing, elapsed time: 159.684\n",
      "Imputing row 6901/15266 with 0 missing, elapsed time: 159.699\n",
      "Imputing row 7001/15266 with 0 missing, elapsed time: 159.699\n",
      "Imputing row 7101/15266 with 0 missing, elapsed time: 159.699\n",
      "Imputing row 7201/15266 with 0 missing, elapsed time: 159.715\n",
      "Imputing row 7301/15266 with 0 missing, elapsed time: 159.715\n",
      "Imputing row 7401/15266 with 0 missing, elapsed time: 159.731\n",
      "Imputing row 7501/15266 with 0 missing, elapsed time: 159.731\n",
      "Imputing row 7601/15266 with 0 missing, elapsed time: 159.746\n",
      "Imputing row 7701/15266 with 0 missing, elapsed time: 159.746\n",
      "Imputing row 7801/15266 with 0 missing, elapsed time: 159.762\n",
      "Imputing row 7901/15266 with 0 missing, elapsed time: 159.762\n",
      "Imputing row 8001/15266 with 0 missing, elapsed time: 159.777\n",
      "Imputing row 8101/15266 with 0 missing, elapsed time: 159.777\n",
      "Imputing row 8201/15266 with 0 missing, elapsed time: 159.793\n",
      "Imputing row 8301/15266 with 0 missing, elapsed time: 159.793\n",
      "Imputing row 8401/15266 with 0 missing, elapsed time: 159.793\n",
      "Imputing row 8501/15266 with 0 missing, elapsed time: 159.809\n",
      "Imputing row 8601/15266 with 0 missing, elapsed time: 159.809\n",
      "Imputing row 8701/15266 with 0 missing, elapsed time: 159.824\n",
      "Imputing row 8801/15266 with 0 missing, elapsed time: 159.824\n",
      "Imputing row 8901/15266 with 0 missing, elapsed time: 159.824\n",
      "Imputing row 9001/15266 with 0 missing, elapsed time: 159.840\n",
      "Imputing row 9101/15266 with 0 missing, elapsed time: 159.840\n",
      "Imputing row 9201/15266 with 0 missing, elapsed time: 159.840\n",
      "Imputing row 9301/15266 with 0 missing, elapsed time: 159.840\n",
      "Imputing row 9401/15266 with 0 missing, elapsed time: 159.856\n",
      "Imputing row 9501/15266 with 0 missing, elapsed time: 159.871\n",
      "Imputing row 9601/15266 with 0 missing, elapsed time: 159.871\n",
      "Imputing row 9701/15266 with 0 missing, elapsed time: 159.902\n",
      "Imputing row 9801/15266 with 0 missing, elapsed time: 159.902\n",
      "Imputing row 9901/15266 with 0 missing, elapsed time: 159.902\n",
      "Imputing row 10001/15266 with 0 missing, elapsed time: 159.918\n",
      "Imputing row 10101/15266 with 0 missing, elapsed time: 159.918\n",
      "Imputing row 10201/15266 with 0 missing, elapsed time: 159.934\n",
      "Imputing row 10301/15266 with 0 missing, elapsed time: 159.949\n",
      "Imputing row 10401/15266 with 0 missing, elapsed time: 159.949\n",
      "Imputing row 10501/15266 with 2 missing, elapsed time: 159.949\n",
      "Imputing row 10601/15266 with 0 missing, elapsed time: 159.965\n",
      "Imputing row 10701/15266 with 0 missing, elapsed time: 159.965\n",
      "Imputing row 10801/15266 with 1 missing, elapsed time: 159.981\n",
      "Imputing row 10901/15266 with 0 missing, elapsed time: 159.981\n",
      "Imputing row 11001/15266 with 0 missing, elapsed time: 159.981\n",
      "Imputing row 11101/15266 with 0 missing, elapsed time: 159.996\n",
      "Imputing row 11201/15266 with 0 missing, elapsed time: 159.996\n",
      "Imputing row 11301/15266 with 0 missing, elapsed time: 160.012\n",
      "Imputing row 11401/15266 with 0 missing, elapsed time: 160.012\n",
      "Imputing row 11501/15266 with 0 missing, elapsed time: 160.028\n",
      "Imputing row 11601/15266 with 0 missing, elapsed time: 160.028\n",
      "Imputing row 11701/15266 with 0 missing, elapsed time: 160.043\n",
      "Imputing row 11801/15266 with 0 missing, elapsed time: 160.043\n",
      "Imputing row 11901/15266 with 0 missing, elapsed time: 160.059\n",
      "Imputing row 12001/15266 with 3 missing, elapsed time: 160.059\n",
      "Imputing row 12101/15266 with 0 missing, elapsed time: 160.075\n",
      "Imputing row 12201/15266 with 0 missing, elapsed time: 160.075\n",
      "Imputing row 12301/15266 with 0 missing, elapsed time: 160.075\n",
      "Imputing row 12401/15266 with 0 missing, elapsed time: 160.090\n",
      "Imputing row 12501/15266 with 0 missing, elapsed time: 160.090\n",
      "Imputing row 12601/15266 with 0 missing, elapsed time: 160.106\n",
      "Imputing row 12701/15266 with 2 missing, elapsed time: 160.106\n",
      "Imputing row 12801/15266 with 0 missing, elapsed time: 160.121\n",
      "Imputing row 12901/15266 with 0 missing, elapsed time: 160.121\n",
      "Imputing row 13001/15266 with 0 missing, elapsed time: 160.121\n",
      "Imputing row 13101/15266 with 0 missing, elapsed time: 160.121\n",
      "Imputing row 13201/15266 with 0 missing, elapsed time: 160.137\n"
     ]
    },
    {
     "name": "stdout",
     "output_type": "stream",
     "text": [
      "Imputing row 13301/15266 with 0 missing, elapsed time: 160.137\n",
      "Imputing row 13401/15266 with 0 missing, elapsed time: 160.153\n",
      "Imputing row 13501/15266 with 0 missing, elapsed time: 160.153\n",
      "Imputing row 13601/15266 with 0 missing, elapsed time: 160.153\n",
      "Imputing row 13701/15266 with 0 missing, elapsed time: 160.153\n",
      "Imputing row 13801/15266 with 0 missing, elapsed time: 160.168\n",
      "Imputing row 13901/15266 with 0 missing, elapsed time: 160.168\n",
      "Imputing row 14001/15266 with 0 missing, elapsed time: 160.168\n",
      "Imputing row 14101/15266 with 0 missing, elapsed time: 160.184\n",
      "Imputing row 14201/15266 with 0 missing, elapsed time: 160.184\n",
      "Imputing row 14301/15266 with 0 missing, elapsed time: 160.184\n",
      "Imputing row 14401/15266 with 0 missing, elapsed time: 160.199\n",
      "Imputing row 14501/15266 with 0 missing, elapsed time: 160.199\n",
      "Imputing row 14601/15266 with 3 missing, elapsed time: 160.199\n",
      "Imputing row 14701/15266 with 0 missing, elapsed time: 160.199\n",
      "Imputing row 14801/15266 with 2 missing, elapsed time: 160.215\n",
      "Imputing row 14901/15266 with 0 missing, elapsed time: 160.215\n",
      "Imputing row 15001/15266 with 0 missing, elapsed time: 160.215\n",
      "Imputing row 15101/15266 with 0 missing, elapsed time: 160.231\n",
      "Imputing row 15201/15266 with 0 missing, elapsed time: 160.231\n"
     ]
    },
    {
     "data": {
      "text/plain": [
       "fare_amount            0\n",
       "passenger_count_1.0    0\n",
       "passenger_count_2.0    0\n",
       "passenger_count_3.0    0\n",
       "passenger_count_4.0    0\n",
       "                      ..\n",
       "seasons_spring         0\n",
       "seasons_summer         0\n",
       "week_weekend           0\n",
       "great_circle           0\n",
       "geodesic               0\n",
       "Length: 62, dtype: int64"
      ]
     },
     "execution_count": 56,
     "metadata": {},
     "output_type": "execute_result"
    }
   ],
   "source": [
    "#Check for outliers using boxplots\n",
    "for i in continous_variables:\n",
    "    # Getting 75 and 25 percentile of variable \"i\"\n",
    "    q75, q25 = np.percentile(df[i], [75,25])\n",
    "    \n",
    "    # Calculating Interquartile range\n",
    "    iqr = q75 - q25\n",
    "    \n",
    "    # Calculating upper extream and lower extream\n",
    "    minimum = q25 - (iqr*1.5)\n",
    "    maximum = q75 + (iqr*1.5)\n",
    "    \n",
    "    # Replacing all the outliers value to NA\n",
    "    df.loc[df[i]< minimum,i] = np.nan\n",
    "    df.loc[df[i]> maximum,i] = np.nan\n",
    "\n",
    "\n",
    "# Impute missing values with KNN\n",
    "df = pd.DataFrame(KNN(k = 3).fit_transform(df), columns = df.columns)\n",
    "# Checking if there is any missing value\n",
    "df.isnull().sum()"
   ]
  },
  {
   "cell_type": "code",
   "execution_count": 57,
   "metadata": {
    "colab": {
     "base_uri": "https://localhost:8080/",
     "height": 809
    },
    "executionInfo": {
     "elapsed": 747,
     "status": "ok",
     "timestamp": 1666502015363,
     "user": {
      "displayName": "Debprasad Kundu",
      "userId": "13893367320446695825"
     },
     "user_tz": -330
    },
    "id": "wFIqkgDAOSBA",
    "outputId": "176853c0-c9b4-4a61-8aa2-cb66e20f0ddd"
   },
   "outputs": [
    {
     "data": {
      "image/png": "[encoded data removed]",
      "text/plain": [
       "<Figure size 432x288 with 1 Axes>"
      ]
     },
     "metadata": {
      "needs_background": "light"
     },
     "output_type": "display_data"
    },
    {
     "data": {
      "image/png": "[encoded data removed]",
      "text/plain": [
       "<Figure size 432x288 with 1 Axes>"
      ]
     },
     "metadata": {
      "needs_background": "light"
     },
     "output_type": "display_data"
    },
    {
     "data": {
      "image/png": "[encoded data removed]",
      "text/plain": [
       "<Figure size 432x288 with 1 Axes>"
      ]
     },
     "metadata": {
      "needs_background": "light"
     },
     "output_type": "display_data"
    }
   ],
   "source": [
    "### Checking Outliers using Boxplot Method After updating\n",
    "\n",
    "for i,col in enumerate(continous_variables):\n",
    "    plt.figure(i)\n",
    "    plt.title(col)\n",
    "    plt.xlim(0,100)\n",
    "    sns.boxplot(data=df[col], orient=\"h\", palette=\"Set2\")"
   ]
  },
  {
   "cell_type": "markdown",
   "metadata": {
    "id": "eG0VfPLhOSBB"
   },
   "source": [
    "# Feature Selection"
   ]
  },
  {
   "cell_type": "code",
   "execution_count": 58,
   "metadata": {
    "executionInfo": {
     "elapsed": 413,
     "status": "ok",
     "timestamp": 1666502029025,
     "user": {
      "displayName": "Debprasad Kundu",
      "userId": "13893367320446695825"
     },
     "user_tz": -330
    },
    "id": "KlIZ5XgqOSBC"
   },
   "outputs": [],
   "source": [
    "# Create df from continous variables\n",
    "df_corr = df.loc[:,continous_variables]"
   ]
  },
  {
   "cell_type": "code",
   "execution_count": 59,
   "metadata": {
    "colab": {
     "base_uri": "https://localhost:8080/",
     "height": 581
    },
    "executionInfo": {
     "elapsed": 636,
     "status": "ok",
     "timestamp": 1666502030342,
     "user": {
      "displayName": "Debprasad Kundu",
      "userId": "13893367320446695825"
     },
     "user_tz": -330
    },
    "id": "yMkvDjpcOSBC",
    "outputId": "48ea7204-79a0-4ed3-9379-488656d20b53"
   },
   "outputs": [
    {
     "data": {
      "image/png": "[encoded data removed]",
      "text/plain": [
       "<Figure size 720x720 with 2 Axes>"
      ]
     },
     "metadata": {
      "needs_background": "light"
     },
     "output_type": "display_data"
    }
   ],
   "source": [
    "# Corelation graph for checking Multicollinearity for continous variables\n",
    "f, ax = plt.subplots(figsize=(10, 10))\n",
    "\n",
    "#Generate correlation matrix\n",
    "corr = df_corr.corr()\n",
    "\n",
    "#Plot heatmap using seaborn library\n",
    "mask = np.array(corr)\n",
    "mask[np.tril_indices_from(mask)] = False\n",
    "ax = sns.heatmap(corr, mask=mask, vmax=.8, square=True, annot=True, ax=ax)\n"
   ]
  },
  {
   "cell_type": "code",
   "execution_count": 60,
   "metadata": {
    "colab": {
     "base_uri": "https://localhost:8080/",
     "height": 885
    },
    "executionInfo": {
     "elapsed": 8978,
     "status": "ok",
     "timestamp": 1666502039313,
     "user": {
      "displayName": "Debprasad Kundu",
      "userId": "13893367320446695825"
     },
     "user_tz": -330
    },
    "id": "QGCddjIQOSBD",
    "outputId": "357eddf9-fae7-413a-be91-6b471c571d72"
   },
   "outputs": [
    {
     "data": {
      "text/plain": [
       "<seaborn.axisgrid.PairGrid at 0x232832f2b80>"
      ]
     },
     "execution_count": 60,
     "metadata": {},
     "output_type": "execute_result"
    },
    {
     "data": {
      "image/png": "[encoded data removed]",
      "text/plain": [
       "<Figure size 864x864 with 12 Axes>"
      ]
     },
     "metadata": {
      "needs_background": "light"
     },
     "output_type": "display_data"
    }
   ],
   "source": [
    "sns.pairplot(df_corr[continous_variables], height = 4, kind=\"reg\")"
   ]
  },
  {
   "cell_type": "code",
   "execution_count": 61,
   "metadata": {
    "executionInfo": {
     "elapsed": 19,
     "status": "ok",
     "timestamp": 1666502039314,
     "user": {
      "displayName": "Debprasad Kundu",
      "userId": "13893367320446695825"
     },
     "user_tz": -330
    },
    "id": "MG6yHUXQOSBE"
   },
   "outputs": [],
   "source": [
    "### As Observed, great_circle and geodesic have high positively correlated values, hence one variable can be removed\n",
    "df = df.drop('great_circle',axis=1)\n",
    "\n",
    "# Updating the Continuous and Categorical Variables\n",
    "continous_variables.remove('great_circle')"
   ]
  },
  {
   "cell_type": "code",
   "execution_count": 62,
   "metadata": {
    "colab": {
     "base_uri": "https://localhost:8080/"
    },
    "executionInfo": {
     "elapsed": 19,
     "status": "ok",
     "timestamp": 1666502039316,
     "user": {
      "displayName": "Debprasad Kundu",
      "userId": "13893367320446695825"
     },
     "user_tz": -330
    },
    "id": "xzLCnVe-OSBE",
    "outputId": "f55ec7b8-7511-4d5c-ef4c-51708d440eba"
   },
   "outputs": [
    {
     "name": "stdout",
     "output_type": "stream",
     "text": [
      "P value for variable passenger_count_1.0 is 0.0\n",
      "P value for variable passenger_count_2.0 is 0.0\n",
      "P value for variable passenger_count_3.0 is 0.0\n",
      "P value for variable passenger_count_4.0 is 0.0\n",
      "P value for variable passenger_count_5.0 is 0.0\n",
      "P value for variable year_2009 is 0.0\n",
      "P value for variable year_2010 is 0.0\n",
      "P value for variable year_2011 is 0.0\n",
      "P value for variable year_2012 is 0.0\n",
      "P value for variable year_2013 is 0.0\n",
      "P value for variable year_2014 is 0.0\n",
      "P value for variable month_1 is 0.0\n",
      "P value for variable month_2 is 0.0\n",
      "P value for variable month_3 is 0.0\n",
      "P value for variable month_4 is 0.0\n",
      "P value for variable month_5 is 0.0\n",
      "P value for variable month_6 is 0.0\n",
      "P value for variable month_7 is 0.0\n",
      "P value for variable month_8 is 0.0\n",
      "P value for variable month_9 is 0.0\n",
      "P value for variable month_10 is 0.0\n",
      "P value for variable month_11 is 0.0\n",
      "P value for variable day_of_week_0 is 0.0\n",
      "P value for variable day_of_week_1 is 0.0\n",
      "P value for variable day_of_week_2 is 0.0\n",
      "P value for variable day_of_week_3 is 0.0\n",
      "P value for variable day_of_week_4 is 0.0\n",
      "P value for variable day_of_week_5 is 0.0\n",
      "P value for variable hour_0 is 0.0\n",
      "P value for variable hour_1 is 0.0\n",
      "P value for variable hour_2 is 0.0\n",
      "P value for variable hour_3 is 0.0\n",
      "P value for variable hour_4 is 0.0\n",
      "P value for variable hour_5 is 0.0\n",
      "P value for variable hour_6 is 0.0\n",
      "P value for variable hour_7 is 0.0\n",
      "P value for variable hour_8 is 0.0\n",
      "P value for variable hour_9 is 0.0\n",
      "P value for variable hour_10 is 0.0\n",
      "P value for variable hour_11 is 0.0\n",
      "P value for variable hour_12 is 0.0\n",
      "P value for variable hour_13 is 0.0\n",
      "P value for variable hour_14 is 0.0\n",
      "P value for variable hour_15 is 0.0\n",
      "P value for variable hour_16 is 0.0\n",
      "P value for variable hour_17 is 0.0\n",
      "P value for variable hour_18 is 0.0\n",
      "P value for variable hour_19 is 0.0\n",
      "P value for variable hour_20 is 0.0\n",
      "P value for variable hour_21 is 0.0\n",
      "P value for variable hour_22 is 0.0\n",
      "P value for variable session_afternoon is 0.0\n",
      "P value for variable session_evening is 0.0\n",
      "P value for variable session_morning is 0.0\n",
      "P value for variable session_night_PM is 0.0\n",
      "P value for variable seasons_fall is 0.0\n",
      "P value for variable seasons_spring is 0.0\n",
      "P value for variable seasons_summer is 0.0\n",
      "P value for variable week_weekend is 0.0\n"
     ]
    }
   ],
   "source": [
    "#loop for ANOVA test Since the target variable is continuous\n",
    "for i in categorical_variables_train:\n",
    "    f, p = stats.f_oneway(df[i], df[\"fare_amount\"])\n",
    "    print(\"P value for variable \"+str(i)+\" is \"+str(p))"
   ]
  },
  {
   "cell_type": "code",
   "execution_count": 63,
   "metadata": {
    "executionInfo": {
     "elapsed": 30,
     "status": "ok",
     "timestamp": 1666502040310,
     "user": {
      "displayName": "Debprasad Kundu",
      "userId": "13893367320446695825"
     },
     "user_tz": -330
    },
    "id": "FDljkDmoOSBE"
   },
   "outputs": [],
   "source": [
    "# #loop for chi square values\n",
    "# from scipy.stats import chi2_contingency\n",
    "\n",
    "# for i in categorical_variables_train:\n",
    "#     for j in categorical_variables_train:\n",
    "#         if(i != j):\n",
    "#             chi2, p, dof, ex = chi2_contingency(pd.crosstab(df[i], df[j]))\n",
    "#             if(p < 0.05):\n",
    "#                 print(i,\"and\",j,\"are dependent on each other with\",p,'----Remove')\n",
    "#             else:\n",
    "#                 print(i,\"and\",j,\"are independent on each other with\",p,'----Keep')"
   ]
  },
  {
   "cell_type": "code",
   "execution_count": 64,
   "metadata": {
    "executionInfo": {
     "elapsed": 29,
     "status": "ok",
     "timestamp": 1666502040311,
     "user": {
      "displayName": "Debprasad Kundu",
      "userId": "13893367320446695825"
     },
     "user_tz": -330
    },
    "id": "urlhM7cXOSBF"
   },
   "outputs": [],
   "source": [
    "#Make a copy of clean data\n",
    "clean_data = df.copy()"
   ]
  },
  {
   "cell_type": "markdown",
   "metadata": {
    "id": "dCuGiT_oOSBF"
   },
   "source": [
    "# Feature Scaling"
   ]
  },
  {
   "cell_type": "code",
   "execution_count": 65,
   "metadata": {
    "colab": {
     "base_uri": "https://localhost:8080/",
     "height": 574
    },
    "executionInfo": {
     "elapsed": 30,
     "status": "ok",
     "timestamp": 1666502040313,
     "user": {
      "displayName": "Debprasad Kundu",
      "userId": "13893367320446695825"
     },
     "user_tz": -330
    },
    "id": "VWe8bahsOSBF",
    "outputId": "e9e1ae4e-290a-4525-a945-8272f8e2f443"
   },
   "outputs": [
    {
     "data": {
      "image/png": "[encoded data removed]",
      "text/plain": [
       "<Figure size 432x288 with 1 Axes>"
      ]
     },
     "metadata": {
      "needs_background": "light"
     },
     "output_type": "display_data"
    },
    {
     "data": {
      "image/png": "[encoded data removed]",
      "text/plain": [
       "<Figure size 432x288 with 1 Axes>"
      ]
     },
     "metadata": {
      "needs_background": "light"
     },
     "output_type": "display_data"
    }
   ],
   "source": [
    "#Normality check\n",
    "for i in continous_variables:\n",
    "    sns.distplot(df[i],bins = 'auto')\n",
    "    plt.title(\"Checking Distribution for Variable \"+str(i))\n",
    "    plt.ylabel(\"Density\")\n",
    "    plt.show()"
   ]
  },
  {
   "cell_type": "code",
   "execution_count": 66,
   "metadata": {
    "executionInfo": {
     "elapsed": 28,
     "status": "ok",
     "timestamp": 1666502040314,
     "user": {
      "displayName": "Debprasad Kundu",
      "userId": "13893367320446695825"
     },
     "user_tz": -330
    },
    "id": "fRsyobkBOSBG"
   },
   "outputs": [],
   "source": [
    "#Normalization of continuous variables\n",
    "df['geodesic'] = (df['geodesic'] - min(df['geodesic']))/(max(df['geodesic']) - min(df['geodesic']))\n",
    "car_df_test['geodesic'] = (car_df_test['geodesic'] - min(car_df_test['geodesic']))/(max(car_df_test['geodesic']) - min(car_df_test['geodesic']))"
   ]
  },
  {
   "cell_type": "markdown",
   "metadata": {
    "id": "JPiJg_20OSBG"
   },
   "source": [
    "## Splitting train into train and validation subsets\n",
    "- X_train y_train--are train subset\n",
    "- X_test y_test--are validation subset"
   ]
  },
  {
   "cell_type": "code",
   "execution_count": 67,
   "metadata": {
    "colab": {
     "base_uri": "https://localhost:8080/"
    },
    "executionInfo": {
     "elapsed": 29,
     "status": "ok",
     "timestamp": 1666502040316,
     "user": {
      "displayName": "Debprasad Kundu",
      "userId": "13893367320446695825"
     },
     "user_tz": -330
    },
    "id": "2Qfy5eWBOSBG",
    "outputId": "387de302-14b5-4e49-ca55-3b208f7f8907"
   },
   "outputs": [
    {
     "name": "stdout",
     "output_type": "stream",
     "text": [
      "(15266, 61) (11449, 60) (3817, 60) (11449,) (3817,)\n"
     ]
    }
   ],
   "source": [
    "X = df.drop('fare_amount',axis=1).values\n",
    "y = df['fare_amount'].values\n",
    "X_train, X_test, y_train, y_test = train_test_split(X, y, test_size = 0.25, random_state=42)\n",
    "print(df.shape, X_train.shape, X_test.shape,y_train.shape,y_test.shape)"
   ]
  },
  {
   "cell_type": "code",
   "execution_count": 68,
   "metadata": {
    "executionInfo": {
     "elapsed": 23,
     "status": "ok",
     "timestamp": 1666502040317,
     "user": {
      "displayName": "Debprasad Kundu",
      "userId": "13893367320446695825"
     },
     "user_tz": -330
    },
    "id": "lDxFg7b0OSBG"
   },
   "outputs": [],
   "source": [
    "def rmsle(y,y_):\n",
    "    log1 = np.nan_to_num(np.array([np.log(v + 1) for v in y]))\n",
    "    log2 = np.nan_to_num(np.array([np.log(v + 1) for v in y_]))\n",
    "    calc = (log1 - log2) ** 2\n",
    "    return np.sqrt(np.mean(calc))\n",
    "def scores(y, y_):\n",
    "    print('r square  ', metrics.r2_score(y, y_))\n",
    "    print('Adjusted r square:{}'.format(1 - (1-metrics.r2_score(y, y_))*(len(y)-1)/(len(y)-X_train.shape[1]-1)))\n",
    "    print('MAPE:{}'.format(np.mean(np.abs((y - y_) / y))*100))\n",
    "    print('MSE:', metrics.mean_squared_error(y, y_))\n",
    "    print('RMSE:', np.sqrt(metrics.mean_squared_error(y, y_))) \n",
    "def test_scores(model):\n",
    "    print('####################### Training Data Score ######################')\n",
    "    print()\n",
    "    #Predicting result on Training data\n",
    "    y_pred = model.predict(X_train)\n",
    "    scores(y_train,y_pred)\n",
    "    print('RMSLE:',rmsle(y_train,y_pred))\n",
    "    print()\n",
    "    print('####################### Testing Data Score ######################')\n",
    "    print()\n",
    "    # Evaluating on Test Set\n",
    "    y_pred = model.predict(X_test)\n",
    "    scores(y_test,y_pred)\n",
    "    print('RMSLE:',rmsle(y_test,y_pred))\n",
    "    \n",
    "    #Comparison Dataframe\n",
    "    model_eval = pd.DataFrame({'predicted':y_pred, 'actual': y_test})\n",
    "    print(model_eval.head())\n",
    "    #Scatter plot of Actual vs Predicted\n",
    "    ax = sns.lmplot(x=\"predicted\", y=\"actual\", data=model_eval)"
   ]
  },
  {
   "cell_type": "markdown",
   "metadata": {
    "id": "gdifhfMLOSBH"
   },
   "source": [
    "## Multiple Linear Regression"
   ]
  },
  {
   "cell_type": "code",
   "execution_count": 69,
   "metadata": {
    "colab": {
     "base_uri": "https://localhost:8080/"
    },
    "executionInfo": {
     "elapsed": 667,
     "status": "ok",
     "timestamp": 1666502040962,
     "user": {
      "displayName": "Debprasad Kundu",
      "userId": "13893367320446695825"
     },
     "user_tz": -330
    },
    "id": "guAt1UW2OSBH",
    "outputId": "5101167f-ca82-4f90-898b-6c0171b6211e"
   },
   "outputs": [
    {
     "name": "stdout",
     "output_type": "stream",
     "text": [
      "Tuned Decision reg Parameters: {'copy_X': True, 'fit_intercept': False}\n",
      "Best score is 0.665144897821143\n"
     ]
    }
   ],
   "source": [
    "# Setup the parameters and distributions to sample from: param_dist\n",
    "param_dist = {'copy_X':[True, False],\n",
    "          'fit_intercept':[True,False]}\n",
    "# Instantiate a Decision reg classifier: reg\n",
    "reg = LinearRegression()\n",
    "\n",
    "# Instantiate the gridSearchCV object: reg_cv\n",
    "reg_cv = GridSearchCV(reg, param_dist, cv=5,scoring='r2')\n",
    "\n",
    "# Fit it to the data\n",
    "reg_cv.fit(X, y)\n",
    "\n",
    "# Print the tuned parameters and score\n",
    "print(\"Tuned Decision reg Parameters: {}\".format(reg_cv.best_params_))\n",
    "print(\"Best score is {}\".format(reg_cv.best_score_))"
   ]
  },
  {
   "cell_type": "code",
   "execution_count": 70,
   "metadata": {
    "colab": {
     "base_uri": "https://localhost:8080/",
     "height": 1000
    },
    "executionInfo": {
     "elapsed": 800,
     "status": "ok",
     "timestamp": 1666502041757,
     "user": {
      "displayName": "Debprasad Kundu",
      "userId": "13893367320446695825"
     },
     "user_tz": -330
    },
    "id": "2nWaXqueOSBI",
    "outputId": "9b04d112-6c23-411d-8439-1d7af4ef07c0",
    "scrolled": false
   },
   "outputs": [
    {
     "name": "stdout",
     "output_type": "stream",
     "text": [
      "R^2: 0.6687902317047233\n",
      "Root Mean Squared Error: 2.3613711623808715\n",
      "####################### Training Data Score ######################\n",
      "\n",
      "r square   0.6675363726908706\n",
      "Adjusted r square:0.6657847202814442\n",
      "MAPE:20.218983154912046\n",
      "MSE: 5.678920123303159\n",
      "RMSE: 2.3830484936952416\n",
      "RMSLE: 0.22648019589050133\n",
      "\n",
      "####################### Testing Data Score ######################\n",
      "\n",
      "r square   0.6687902317047233\n",
      "Adjusted r square:0.6634993408373866\n",
      "MAPE:20.13495596849379\n",
      "MSE: 5.5760737665239875\n",
      "RMSE: 2.3613711623808715\n",
      "RMSLE: 0.22430349579269615\n",
      "   predicted  actual\n",
      "0  11.066406    10.9\n",
      "1   5.742188     5.3\n",
      "2   7.876953     7.3\n",
      "3   7.029297     6.5\n",
      "4   5.658203     5.0\n",
      "                  Names  Coefficients\n",
      "0           fare_amount -6.384859e-01\n",
      "1   passenger_count_1.0 -6.118429e-01\n",
      "2   passenger_count_2.0 -6.563651e-01\n",
      "3   passenger_count_3.0 -4.494499e-01\n",
      "4   passenger_count_4.0 -6.826236e-01\n",
      "5   passenger_count_5.0 -2.693135e-01\n",
      "6             year_2009 -1.394570e-01\n",
      "7             year_2010 -2.541675e-01\n",
      "8             year_2011 -1.901359e-01\n",
      "9             year_2012 -1.546358e-01\n",
      "10            year_2013 -1.476894e-01\n",
      "11            year_2014 -2.275231e-01\n",
      "12              month_1 -1.966858e-01\n",
      "13              month_2  5.822821e+12\n",
      "14              month_3  5.822821e+12\n",
      "15              month_4  5.822821e+12\n",
      "16              month_5 -2.358758e+13\n",
      "17              month_6 -2.358758e+13\n",
      "18              month_7 -2.358758e+13\n",
      "19              month_8  3.767832e+13\n",
      "20              month_9  3.767832e+13\n",
      "21             month_10  3.767832e+13\n",
      "22             month_11 -1.336978e+13\n",
      "23        day_of_week_0 -1.336978e+13\n",
      "24        day_of_week_1 -1.336978e+13\n",
      "25        day_of_week_2 -1.336978e+13\n",
      "26        day_of_week_3 -1.336978e+13\n",
      "27        day_of_week_4 -7.481212e-02\n",
      "28        day_of_week_5  1.782828e+13\n",
      "29               hour_0  1.782828e+13\n",
      "30               hour_1  1.782828e+13\n",
      "31               hour_2  1.782828e+13\n",
      "32               hour_3  1.782828e+13\n",
      "33               hour_4 -5.868510e+13\n",
      "34               hour_5 -5.868510e+13\n",
      "35               hour_6 -5.868510e+13\n",
      "36               hour_7 -5.868510e+13\n",
      "37               hour_8 -5.868510e+13\n",
      "38               hour_9 -5.868510e+13\n",
      "39              hour_10 -5.868510e+13\n",
      "40              hour_11 -2.736950e+12\n",
      "41              hour_12 -2.736950e+12\n",
      "42              hour_13 -2.736950e+12\n",
      "43              hour_14 -2.736950e+12\n",
      "44              hour_15 -2.736950e+12\n",
      "45              hour_16 -1.496173e+13\n",
      "46              hour_17 -1.496173e+13\n",
      "47              hour_18 -1.496173e+13\n",
      "48              hour_19 -1.496173e+13\n",
      "49              hour_20 -9.064462e-02\n",
      "50              hour_21 -2.963723e-01\n",
      "51              hour_22  2.056523e+13\n",
      "52    session_afternoon  3.279001e+13\n",
      "53      session_evening  7.651338e+13\n",
      "54      session_morning  1.782828e+13\n",
      "55     session_night_PM -3.767832e+13\n",
      "56         seasons_fall -5.822821e+12\n",
      "57       seasons_spring  2.358758e+13\n",
      "58       seasons_summer -1.336978e+13\n",
      "59         week_weekend  1.592979e+01\n"
     ]
    },
    {
     "data": {
      "image/png": "[encoded data removed]",
      "text/plain": [
       "<Figure size 360x360 with 1 Axes>"
      ]
     },
     "metadata": {
      "needs_background": "light"
     },
     "output_type": "display_data"
    }
   ],
   "source": [
    "# Create the regressor: reg_all\n",
    "reg_all = LinearRegression(copy_X= True, fit_intercept=True)\n",
    "\n",
    "# Fit the regressor to the training data\n",
    "reg_all.fit(X_train,y_train)\n",
    "\n",
    "# Predict on the test data: y_pred\n",
    "y_pred = reg_all.predict(X_test)\n",
    "\n",
    "# Compute and print R^2 and RMSE\n",
    "print(\"R^2: {}\".format(reg_all.score(X_test, y_test)))\n",
    "rmse = np.sqrt(mean_squared_error(y_test,y_pred))\n",
    "print(\"Root Mean Squared Error: {}\".format(rmse))\n",
    "test_scores(reg_all)\n",
    "\n",
    "# Compute and print the coefficients\n",
    "df_linear_coeff = pd.DataFrame(zip(df.columns, reg_all.coef_.tolist()), columns=['Names', 'Coefficients'])\n",
    "print(df_linear_coeff)\n",
    "\n",
    "\n"
   ]
  },
  {
   "cell_type": "code",
   "execution_count": 71,
   "metadata": {
    "colab": {
     "base_uri": "https://localhost:8080/"
    },
    "executionInfo": {
     "elapsed": 682,
     "status": "ok",
     "timestamp": 1666502042433,
     "user": {
      "displayName": "Debprasad Kundu",
      "userId": "13893367320446695825"
     },
     "user_tz": -330
    },
    "id": "hUBSsRY0OSBI",
    "outputId": "92758e99-9703-4d91-997d-b3ef5ac9649d"
   },
   "outputs": [
    {
     "name": "stdout",
     "output_type": "stream",
     "text": [
      "[-5.56349909 -5.59722802 -5.45267398 -5.92053547 -5.96234121]\n",
      "Average 5-Fold CV Score: -5.699255552513149\n"
     ]
    }
   ],
   "source": [
    "from sklearn.model_selection import cross_val_score\n",
    "# Create a linear regression object: reg\n",
    "reg = LinearRegression()\n",
    "\n",
    "# Compute 5-fold cross-validation scores: cv_scores\n",
    "cv_scores = cross_val_score(reg,X,y,cv=5,scoring='neg_mean_squared_error')\n",
    "\n",
    "# Print the 5-fold cross-validation scores\n",
    "print(cv_scores)\n",
    "\n",
    "print(\"Average 5-Fold CV Score: {}\".format(np.mean(cv_scores)))"
   ]
  },
  {
   "cell_type": "markdown",
   "metadata": {
    "id": "G-Mk7PhVOSBJ"
   },
   "source": [
    "## Ridge Regression"
   ]
  },
  {
   "cell_type": "code",
   "execution_count": 72,
   "metadata": {
    "colab": {
     "base_uri": "https://localhost:8080/"
    },
    "executionInfo": {
     "elapsed": 218914,
     "status": "ok",
     "timestamp": 1666502261343,
     "user": {
      "displayName": "Debprasad Kundu",
      "userId": "13893367320446695825"
     },
     "user_tz": -330
    },
    "id": "ybEzkDGSOSBJ",
    "outputId": "f4a6acad-5cfe-410e-973d-641d78f29bf9"
   },
   "outputs": [
    {
     "name": "stdout",
     "output_type": "stream",
     "text": [
      "Tuned Decision ridge Parameters: {'alpha': 0.0020235896477251557, 'max_iter': 500, 'normalize': True}\n",
      "Best score is 0.6652581554760395\n"
     ]
    }
   ],
   "source": [
    "# Setup the parameters and distributions to sample from: param_dist\n",
    "param_dist = {'alpha':np.logspace(-4, 0, 50),\n",
    "          'normalize':[True,False],\n",
    "             'max_iter':range(500,5000,500)}\n",
    "# Instantiate a Decision ridge classifier: ridge\n",
    "ridge = Ridge()\n",
    "\n",
    "# Instantiate the gridSearchCV object: ridge_cv\n",
    "ridge_cv = GridSearchCV(ridge, param_dist, cv=5,scoring='r2')\n",
    "\n",
    "# Fit it to the data\n",
    "ridge_cv.fit(X, y)\n",
    "\n",
    "# Print the tuned parameters and score\n",
    "print(\"Tuned Decision ridge Parameters: {}\".format(ridge_cv.best_params_))\n",
    "print(\"Best score is {}\".format(ridge_cv.best_score_))"
   ]
  },
  {
   "cell_type": "code",
   "execution_count": 73,
   "metadata": {
    "colab": {
     "base_uri": "https://localhost:8080/",
     "height": 1000
    },
    "executionInfo": {
     "elapsed": 926,
     "status": "ok",
     "timestamp": 1666502262259,
     "user": {
      "displayName": "Debprasad Kundu",
      "userId": "13893367320446695825"
     },
     "user_tz": -330
    },
    "id": "aWT5HpBoOSBK",
    "outputId": "31ddb29d-9378-42da-bbac-a160bf22ada6",
    "scrolled": false
   },
   "outputs": [
    {
     "name": "stdout",
     "output_type": "stream",
     "text": [
      "[-6.13879992e-01 -5.55518715e-01 -5.56407758e-01 -3.67315965e-01\n",
      " -6.19609058e-01 -1.78203683e-01 -1.00981510e-01 -9.02461572e-02\n",
      " -1.24458267e-01 -6.68522454e-02 -4.65801383e-02 -1.46821559e-01\n",
      " -1.34108162e-01 -1.60734758e-02  4.42966120e-04 -1.29514142e-01\n",
      " -1.09218026e-01 -3.75262452e-02 -5.45294309e-02 -1.73381422e-02\n",
      " -6.75177947e-02  5.77930365e-03  6.17333300e-02 -7.65826435e-03\n",
      " -6.53812102e-02  5.86621348e-04 -2.72977121e-02 -8.61910557e-02\n",
      "  1.72354902e-02 -1.69123695e-01 -9.88742213e-03 -9.44069958e-02\n",
      "  1.82719609e-02 -3.88846358e-01  9.47859723e-02 -2.56852611e-02\n",
      "  1.23447876e-01  8.68376091e-02 -9.55843565e-02  3.06440543e-02\n",
      "  1.02154615e-01 -3.31324359e-02 -1.63795665e-01 -5.33329496e-02\n",
      " -4.41905091e-02  7.51462056e-02 -6.55751368e-02 -9.08290416e-02\n",
      "  1.34097553e-01 -8.29083694e-02 -2.80552371e-01 -4.73099050e-02\n",
      "  9.56766528e-03  2.15865546e-02  6.33177308e-02 -3.23840651e-02\n",
      " -6.05857734e-02 -8.50560215e-02  2.64111158e-02  1.58866176e+01]\n",
      "####################### Training Data Score ######################\n",
      "\n",
      "r square   0.6680193146159192\n",
      "Adjusted r square:0.6662702066844963\n",
      "MAPE:20.28741041005445\n",
      "MSE: 5.670670834083936\n",
      "RMSE: 2.3813170377091613\n",
      "RMSLE: 0.22642140134802155\n",
      "\n",
      "####################### Testing Data Score ######################\n",
      "\n",
      "r square   0.6692603719384125\n",
      "Adjusted r square:0.663976991298451\n",
      "MAPE:20.202586729613937\n",
      "MSE: 5.568158732383676\n",
      "RMSE: 2.3596946269345267\n",
      "RMSLE: 0.22435389118626473\n",
      "   predicted  actual\n",
      "0  10.984318    10.9\n",
      "1   5.605686     5.3\n",
      "2   7.948601     7.3\n",
      "3   7.011053     6.5\n",
      "4   5.746542     5.0\n"
     ]
    },
    {
     "data": {
      "image/png": "[encoded data removed]",
      "text/plain": [
       "<Figure size 360x360 with 1 Axes>"
      ]
     },
     "metadata": {
      "needs_background": "light"
     },
     "output_type": "display_data"
    }
   ],
   "source": [
    "# Instantiate a ridge regressor: ridge\n",
    "ridge = Ridge(alpha=0.0005428675439323859, normalize=True,max_iter = 500)\n",
    "\n",
    "# Fit the regressor to the data\n",
    "ridge.fit(X_train,y_train)\n",
    "\n",
    "# Compute and print the coefficients\n",
    "ridge_coef = ridge.coef_\n",
    "print(ridge_coef)\n",
    "\n",
    "test_scores(ridge)"
   ]
  },
  {
   "cell_type": "markdown",
   "metadata": {
    "id": "tEz5LK_zOSBK"
   },
   "source": [
    "lasso can be used feature selection"
   ]
  },
  {
   "cell_type": "markdown",
   "metadata": {
    "id": "cXzO8yLkOSBL"
   },
   "source": [
    "## Lasso Regression"
   ]
  },
  {
   "cell_type": "code",
   "execution_count": 74,
   "metadata": {
    "colab": {
     "base_uri": "https://localhost:8080/"
    },
    "executionInfo": {
     "elapsed": 319551,
     "status": "ok",
     "timestamp": 1666502581802,
     "user": {
      "displayName": "Debprasad Kundu",
      "userId": "13893367320446695825"
     },
     "user_tz": -330
    },
    "id": "1RshJ3hzOSBL",
    "outputId": "d7f26e36-ff47-47d5-e0be-2ebcea741610"
   },
   "outputs": [
    {
     "name": "stdout",
     "output_type": "stream",
     "text": [
      "Tuned Decision lasso Parameters: {'alpha': 0.0004498432668969444, 'max_iter': 500, 'normalize': True}\n",
      "Best score is 0.6660511161391163\n"
     ]
    }
   ],
   "source": [
    "# Setup the parameters and distributions to sample from: param_dist\n",
    "param_dist = {'alpha':np.logspace(-4, 0, 50),\n",
    "          'normalize':[True,False],\n",
    "             'max_iter':range(500,5000,500)}\n",
    "# Instantiate a Decision lasso classifier: lasso\n",
    "lasso = Lasso()\n",
    "\n",
    "# Instantiate the gridSearchCV object: lasso_cv\n",
    "lasso_cv = GridSearchCV(lasso, param_dist, cv=5,scoring='r2')\n",
    "\n",
    "# Fit it to the data\n",
    "lasso_cv.fit(X, y)\n",
    "\n",
    "# Print the tuned parameters and score\n",
    "print(\"Tuned Decision lasso Parameters: {}\".format(lasso_cv.best_params_))\n",
    "print(\"Best score is {}\".format(lasso_cv.best_score_))"
   ]
  },
  {
   "cell_type": "code",
   "execution_count": 75,
   "metadata": {
    "colab": {
     "base_uri": "https://localhost:8080/",
     "height": 1000
    },
    "executionInfo": {
     "elapsed": 1069,
     "status": "ok",
     "timestamp": 1666502582840,
     "user": {
      "displayName": "Debprasad Kundu",
      "userId": "13893367320446695825"
     },
     "user_tz": -330
    },
    "id": "Wi9qR7YXOSBL",
    "outputId": "05b7b754-d727-44f4-d35d-c99f05ff4ee4",
    "scrolled": false
   },
   "outputs": [
    {
     "name": "stdout",
     "output_type": "stream",
     "text": [
      "[-6.64150492e-01 -6.27122242e-01 -6.20969293e-01 -4.46356383e-01\n",
      " -6.92912007e-01 -1.06696401e-01 -7.31112300e-03 -6.03443941e-02\n",
      " -8.84159378e-02  7.97760334e-03 -3.32445592e-02 -6.86848859e-02\n",
      " -1.21793952e-01 -5.34673637e-02  2.23297936e-06 -9.97192200e-02\n",
      " -2.68764249e-02  2.05071548e-05 -2.75160718e-02 -2.42707310e-04\n",
      "  2.88526236e-02  2.93750936e-05  5.29404292e-02 -1.26488135e-04\n",
      " -6.36301391e-02  1.35462527e-04 -5.36723590e-03 -1.20751486e-01\n",
      "  7.65637682e-02 -0.00000000e+00 -1.79602616e-02 -7.09702540e-02\n",
      " -0.00000000e+00 -3.24083779e-01  4.54354956e-02 -0.00000000e+00\n",
      "  8.46777857e-02  1.25668665e-01 -4.15744224e-02  2.10765542e-02\n",
      "  1.65242095e-01  2.74149620e-02 -9.99162758e-02 -0.00000000e+00\n",
      " -7.44006059e-03  1.04790791e-01  0.00000000e+00 -3.02161001e-02\n",
      "  1.61470313e-01 -1.30330277e-01 -2.84571367e-01 -3.43213383e-02\n",
      "  3.82886314e-02  8.00103996e-02  1.76526712e-01  4.39353014e-03\n",
      " -1.93230338e-02 -1.18366027e-01  3.64842081e-02  1.59102201e+01]\n",
      "####################### Training Data Score ######################\n",
      "\n",
      "r square   0.6677835956893974\n",
      "Adjusted r square:0.6660332458247472\n",
      "MAPE:20.21965167094307\n",
      "MSE: 5.674697226282394\n",
      "RMSE: 2.3821623005753394\n",
      "RMSLE: 0.22634504731684998\n",
      "\n",
      "####################### Testing Data Score ######################\n",
      "\n",
      "r square   0.6709608941957512\n",
      "Adjusted r square:0.6657046784480796\n",
      "MAPE:20.08619450425341\n",
      "MSE: 5.53952963247113\n",
      "RMSE: 2.3536205370601118\n",
      "RMSLE: 0.22361802632623073\n",
      "   predicted  actual\n",
      "0  11.007671    10.9\n",
      "1   5.511851     5.3\n",
      "2   7.895706     7.3\n",
      "3   6.869467     6.5\n",
      "4   5.811223     5.0\n"
     ]
    },
    {
     "data": {
      "image/png": "[encoded data removed]",
      "text/plain": [
       "<Figure size 360x360 with 1 Axes>"
      ]
     },
     "metadata": {
      "needs_background": "light"
     },
     "output_type": "display_data"
    }
   ],
   "source": [
    "# Instantiate a lasso regressor: lasso\n",
    "lasso = Lasso(alpha=0.00021209508879201905, normalize=False,max_iter = 500)\n",
    "\n",
    "# Fit the regressor to the data\n",
    "lasso.fit(X,y)\n",
    "\n",
    "# Compute and print the coefficients\n",
    "lasso_coef = lasso.coef_\n",
    "print(lasso_coef)\n",
    "\n",
    "test_scores(lasso)"
   ]
  },
  {
   "cell_type": "markdown",
   "metadata": {
    "id": "ZDRRYxXuOSBM"
   },
   "source": [
    "## Decision Tree Regression"
   ]
  },
  {
   "cell_type": "code",
   "execution_count": 76,
   "metadata": {
    "colab": {
     "base_uri": "https://localhost:8080/"
    },
    "executionInfo": {
     "elapsed": 17477,
     "status": "ok",
     "timestamp": 1666502600307,
     "user": {
      "displayName": "Debprasad Kundu",
      "userId": "13893367320446695825"
     },
     "user_tz": -330
    },
    "id": "oQybWNpoOSBM",
    "outputId": "60742411-d19e-43d1-fbea-b50ee8bcba6a"
   },
   "outputs": [
    {
     "name": "stdout",
     "output_type": "stream",
     "text": [
      "Tuned Decision Tree Parameters: {'max_depth': 4, 'min_samples_split': 2}\n",
      "Best score is 0.6711736683985597\n"
     ]
    }
   ],
   "source": [
    "# Setup the parameters and distributions to sample from: param_dist\n",
    "param_dist = {'max_depth': range(2,16,2),\n",
    "              'min_samples_split': range(2,16,2)}\n",
    "\n",
    "# Instantiate a Decision Tree classifier: tree\n",
    "tree = DecisionTreeRegressor()\n",
    "\n",
    "# Instantiate the gridSearchCV object: tree_cv\n",
    "tree_cv = GridSearchCV(tree, param_dist, cv=5)\n",
    "\n",
    "# Fit it to the data\n",
    "tree_cv.fit(X, y)\n",
    "\n",
    "# Print the tuned parameters and score\n",
    "print(\"Tuned Decision Tree Parameters: {}\".format(tree_cv.best_params_))\n",
    "print(\"Best score is {}\".format(tree_cv.best_score_))"
   ]
  },
  {
   "cell_type": "code",
   "execution_count": 77,
   "metadata": {
    "colab": {
     "base_uri": "https://localhost:8080/",
     "height": 1000
    },
    "executionInfo": {
     "elapsed": 995,
     "status": "ok",
     "timestamp": 1666502601274,
     "user": {
      "displayName": "Debprasad Kundu",
      "userId": "13893367320446695825"
     },
     "user_tz": -330
    },
    "id": "I93P4X1zOSBM",
    "outputId": "e432e3b3-64b5-4516-f9f7-1f3b168643ca",
    "scrolled": false
   },
   "outputs": [
    {
     "name": "stdout",
     "output_type": "stream",
     "text": [
      "[0.00000000e+00 0.00000000e+00 0.00000000e+00 0.00000000e+00\n",
      " 0.00000000e+00 0.00000000e+00 0.00000000e+00 0.00000000e+00\n",
      " 0.00000000e+00 4.08378113e-04 0.00000000e+00 0.00000000e+00\n",
      " 0.00000000e+00 0.00000000e+00 2.76462130e-04 6.56913655e-04\n",
      " 0.00000000e+00 0.00000000e+00 3.54734256e-04 3.29191761e-04\n",
      " 0.00000000e+00 3.52848088e-04 0.00000000e+00 0.00000000e+00\n",
      " 0.00000000e+00 0.00000000e+00 6.98287341e-04 1.41457512e-03\n",
      " 0.00000000e+00 5.78722592e-04 0.00000000e+00 0.00000000e+00\n",
      " 5.98401366e-04 0.00000000e+00 0.00000000e+00 0.00000000e+00\n",
      " 0.00000000e+00 0.00000000e+00 0.00000000e+00 3.84083246e-04\n",
      " 7.26420803e-04 0.00000000e+00 1.01440286e-03 0.00000000e+00\n",
      " 0.00000000e+00 0.00000000e+00 0.00000000e+00 0.00000000e+00\n",
      " 3.42199874e-04 0.00000000e+00 0.00000000e+00 0.00000000e+00\n",
      " 0.00000000e+00 3.09531650e-04 5.29770201e-04 6.23631152e-04\n",
      " 4.64529846e-04 3.67705961e-04 0.00000000e+00 9.89569210e-01]\n",
      "####################### Training Data Score ######################\n",
      "\n",
      "r square   0.6939987317092275\n",
      "Adjusted r square:0.6923865016339337\n",
      "MAPE:19.255714335846168\n",
      "MSE: 5.22690790062567\n",
      "RMSE: 2.286243184927113\n",
      "RMSLE: 0.21542388302315274\n",
      "\n",
      "####################### Testing Data Score ######################\n",
      "\n",
      "r square   0.6629685814685778\n",
      "Adjusted r square:0.657584692993635\n",
      "MAPE:20.15610468403074\n",
      "MSE: 5.674084013403871\n",
      "RMSE: 2.3820335877992718\n",
      "RMSLE: 0.22493463403535902\n",
      "   predicted  actual\n",
      "0  10.903189    10.9\n",
      "1   4.955813     5.3\n",
      "2   8.070595     7.3\n",
      "3   6.644476     6.5\n",
      "4   5.487744     5.0\n"
     ]
    },
    {
     "data": {
      "image/png": "[encoded data removed]",
      "text/plain": [
       "<Figure size 360x360 with 1 Axes>"
      ]
     },
     "metadata": {
      "needs_background": "light"
     },
     "output_type": "display_data"
    }
   ],
   "source": [
    "# Instantiate a tree regressor: tree\n",
    "tree = DecisionTreeRegressor(max_depth= 6, min_samples_split=2)\n",
    "\n",
    "# Fit the regressor to the data\n",
    "tree.fit(X_train,y_train)\n",
    "\n",
    "# Compute and print the coefficients\n",
    "tree_features = tree.feature_importances_\n",
    "print(tree_features)\n",
    "\n",
    "# Make predictions and cal error\n",
    "test_scores(tree)"
   ]
  },
  {
   "cell_type": "markdown",
   "metadata": {
    "id": "DzEroecDOSBN"
   },
   "source": [
    "## Random Forest Regression"
   ]
  },
  {
   "cell_type": "code",
   "execution_count": 78,
   "metadata": {
    "colab": {
     "base_uri": "https://localhost:8080/"
    },
    "executionInfo": {
     "elapsed": 403055,
     "status": "ok",
     "timestamp": 1666503004323,
     "user": {
      "displayName": "Debprasad Kundu",
      "userId": "13893367320446695825"
     },
     "user_tz": -330
    },
    "id": "LudaaVakOSBO",
    "outputId": "d6de97e6-7d25-43b5-f408-1e84a3f02433"
   },
   "outputs": [
    {
     "name": "stdout",
     "output_type": "stream",
     "text": [
      "Tuned Random Forest Parameters: {'n_estimators': 200, 'min_samples_split': 3, 'min_samples_leaf': 4, 'max_features': 'auto', 'max_depth': 5, 'bootstrap': True}\n",
      "Best score is 0.6759011803784765\n"
     ]
    }
   ],
   "source": [
    "# Create the random grid\n",
    "random_grid = {'n_estimators': range(100,500,100),\n",
    "               'max_depth': range(5,20,1),\n",
    "               'min_samples_leaf':range(2,5,1),\n",
    "              'max_features':['auto','sqrt','log2'],\n",
    "              'bootstrap': [True, False],\n",
    "              'min_samples_split': range(2,5,1)}\n",
    "# Instantiate a Decision Forest classifier: Forest\n",
    "Forest = RandomForestRegressor()\n",
    "\n",
    "# Instantiate the gridSearchCV object: Forest_cv\n",
    "Forest_cv = RandomizedSearchCV(Forest, random_grid, cv=5)\n",
    "\n",
    "# Fit it to the data\n",
    "Forest_cv.fit(X, y)\n",
    "\n",
    "# Print the tuned parameters and score\n",
    "print(\"Tuned Random Forest Parameters: {}\".format(Forest_cv.best_params_))\n",
    "print(\"Best score is {}\".format(Forest_cv.best_score_))"
   ]
  },
  {
   "cell_type": "code",
   "execution_count": 79,
   "metadata": {
    "colab": {
     "base_uri": "https://localhost:8080/",
     "height": 1000
    },
    "executionInfo": {
     "elapsed": 3903,
     "status": "ok",
     "timestamp": 1666503008197,
     "user": {
      "displayName": "Debprasad Kundu",
      "userId": "13893367320446695825"
     },
     "user_tz": -330
    },
    "id": "DyibHkynOSBO",
    "outputId": "1168577b-06e2-4409-ce97-3845f57d1eb1",
    "scrolled": false
   },
   "outputs": [
    {
     "name": "stdout",
     "output_type": "stream",
     "text": [
      "[1.78575353e-03 8.06543188e-04 5.69125208e-04 3.50546249e-04\n",
      " 7.57700075e-04 1.48381062e-03 1.34049097e-03 1.15184371e-03\n",
      " 9.83817640e-04 1.04848875e-03 1.28997762e-03 1.00299434e-03\n",
      " 5.05125824e-04 1.06023514e-03 8.71624821e-04 6.90907557e-04\n",
      " 7.53122028e-04 6.60410775e-04 8.83177690e-04 9.00539633e-04\n",
      " 5.13887661e-04 1.06775974e-03 1.36988083e-03 1.01548133e-03\n",
      " 1.05762386e-03 1.27897415e-03 1.40277869e-03 1.99393680e-03\n",
      " 6.70221069e-04 6.78080901e-04 1.89064509e-04 2.82876383e-04\n",
      " 5.74806326e-04 4.93955958e-05 4.03810280e-04 4.42378398e-04\n",
      " 9.48634153e-04 7.20248711e-04 4.75848547e-04 8.57054468e-04\n",
      " 7.63078336e-04 6.50496344e-04 6.64039157e-04 7.43607906e-04\n",
      " 4.95668035e-04 5.35931818e-04 7.51231014e-04 4.84026026e-04\n",
      " 1.08873374e-03 6.46221422e-04 5.95393063e-04 1.30055762e-03\n",
      " 9.07518972e-04 1.43245435e-03 1.38304182e-03 1.50039362e-03\n",
      " 1.58433400e-03 1.32427527e-03 1.45054268e-03 9.46809477e-01]\n",
      "####################### Training Data Score ######################\n",
      "\n",
      "r square   0.7381572953592475\n",
      "Adjusted r square:0.7367777236804237\n",
      "MAPE:18.121798756002946\n",
      "MSE: 4.472621009882312\n",
      "RMSE: 2.114857207917904\n",
      "RMSLE: 0.19987153167585858\n",
      "\n",
      "####################### Testing Data Score ######################\n",
      "\n",
      "r square   0.6691359035723683\n",
      "Adjusted r square:0.6638505346198502\n",
      "MAPE:20.151537138191696\n",
      "MSE: 5.570254216445736\n",
      "RMSE: 2.3601386011092096\n",
      "RMSLE: 0.22435794128026448\n",
      "   predicted  actual\n",
      "0  11.356522    10.9\n",
      "1   5.550708     5.3\n",
      "2   7.673287     7.3\n",
      "3   6.831743     6.5\n",
      "4   5.575807     5.0\n"
     ]
    },
    {
     "data": {
      "image/png": "[encoded data removed]",
      "text/plain": [
       "<Figure size 360x360 with 1 Axes>"
      ]
     },
     "metadata": {
      "needs_background": "light"
     },
     "output_type": "display_data"
    }
   ],
   "source": [
    "# Instantiate a Forest regressor: Forest\n",
    "Forest = RandomForestRegressor(n_estimators=100, min_samples_split= 2, min_samples_leaf=4, \\\n",
    "                               max_features='auto', max_depth=9, bootstrap=True)\n",
    "\n",
    "# Fit the regressor to the data\n",
    "Forest.fit(X_train,y_train)\n",
    "\n",
    "# Compute and print the coefficients\n",
    "Forest_features = Forest.feature_importances_\n",
    "print(Forest_features)\n",
    "\n",
    "test_scores(Forest)"
   ]
  },
  {
   "cell_type": "code",
   "execution_count": 80,
   "metadata": {
    "colab": {
     "base_uri": "https://localhost:8080/"
    },
    "executionInfo": {
     "elapsed": 72896,
     "status": "ok",
     "timestamp": 1666503081087,
     "user": {
      "displayName": "Debprasad Kundu",
      "userId": "13893367320446695825"
     },
     "user_tz": -330
    },
    "id": "JfmptA--OSBP",
    "outputId": "06a8f9c3-e132-4c8e-c690-c5b11edcfe71"
   },
   "outputs": [
    {
     "name": "stdout",
     "output_type": "stream",
     "text": [
      "[-5.51464187 -5.50315857 -5.52313109 -5.77820276 -5.80813268]\n",
      "Average 5-Fold CV Score: -5.625453395106144\n"
     ]
    }
   ],
   "source": [
    "from sklearn.model_selection import cross_val_score\n",
    "# Create a random forest regression object: Forest\n",
    "Forest = RandomForestRegressor(n_estimators=400, min_samples_split= 2, min_samples_leaf=4, \\\n",
    "                               max_features='auto', max_depth=12, bootstrap=True)\n",
    "\n",
    "# Compute 5-fold cross-validation scores: cv_scores\n",
    "cv_scores = cross_val_score(Forest,X,y,cv=5,scoring='neg_mean_squared_error')\n",
    "\n",
    "# Print the 5-fold cross-validation scores\n",
    "print(cv_scores)\n",
    "\n",
    "print(\"Average 5-Fold CV Score: {}\".format(np.mean(cv_scores)))"
   ]
  },
  {
   "cell_type": "markdown",
   "metadata": {
    "id": "dEmlEeN2OSBP"
   },
   "source": [
    "## Improving accuracy using XGBOOST\n",
    "- Improve Accuracy a) Algorithm Tuning b) Ensembles"
   ]
  },
  {
   "cell_type": "code",
   "execution_count": 81,
   "metadata": {
    "executionInfo": {
     "elapsed": 33,
     "status": "ok",
     "timestamp": 1666503081088,
     "user": {
      "displayName": "Debprasad Kundu",
      "userId": "13893367320446695825"
     },
     "user_tz": -330
    },
    "id": "h6Ew9EmaOSBQ"
   },
   "outputs": [],
   "source": [
    "data_dmatrix = xgb.DMatrix(data=X,label=y)\n",
    "dtrain = xgb.DMatrix(X_train, label=y_train)\n",
    "dtest = xgb.DMatrix(X_test)"
   ]
  },
  {
   "cell_type": "code",
   "execution_count": 82,
   "metadata": {
    "colab": {
     "base_uri": "https://localhost:8080/"
    },
    "executionInfo": {
     "elapsed": 31,
     "status": "ok",
     "timestamp": 1666503081089,
     "user": {
      "displayName": "Debprasad Kundu",
      "userId": "13893367320446695825"
     },
     "user_tz": -330
    },
    "id": "rZAN4_nWOSBQ",
    "outputId": "9915ce58-9f5e-4a1e-a12b-bd4d0550e745"
   },
   "outputs": [
    {
     "data": {
      "text/plain": [
       "(<xgboost.core.DMatrix at 0x232868f0be0>,\n",
       " <xgboost.core.DMatrix at 0x2322454f0d0>,\n",
       " <xgboost.core.DMatrix at 0x23284c00d90>)"
      ]
     },
     "execution_count": 82,
     "metadata": {},
     "output_type": "execute_result"
    }
   ],
   "source": [
    "dtrain,dtest,data_dmatrix"
   ]
  },
  {
   "cell_type": "code",
   "execution_count": 83,
   "metadata": {
    "colab": {
     "base_uri": "https://localhost:8080/",
     "height": 293
    },
    "executionInfo": {
     "elapsed": 2647,
     "status": "ok",
     "timestamp": 1666503083708,
     "user": {
      "displayName": "Debprasad Kundu",
      "userId": "13893367320446695825"
     },
     "user_tz": -330
    },
    "id": "yCIPTVxFOSBR",
    "outputId": "291155b5-bcea-443e-b199-cc4c9d280f71",
    "scrolled": true
   },
   "outputs": [
    {
     "name": "stdout",
     "output_type": "stream",
     "text": [
      "[11:43:09] WARNING: C:/Users/administrator/workspace/xgboost-win64_release_1.6.0/src/objective/regression_obj.cu:203: reg:linear is now deprecated in favor of reg:squarederror.\n",
      "[11:43:10] WARNING: C:/Users/administrator/workspace/xgboost-win64_release_1.6.0/src/objective/regression_obj.cu:203: reg:linear is now deprecated in favor of reg:squarederror.\n",
      "[11:43:10] WARNING: C:/Users/administrator/workspace/xgboost-win64_release_1.6.0/src/objective/regression_obj.cu:203: reg:linear is now deprecated in favor of reg:squarederror.\n",
      "[11:43:10] WARNING: C:/Users/administrator/workspace/xgboost-win64_release_1.6.0/src/objective/regression_obj.cu:203: reg:linear is now deprecated in favor of reg:squarederror.\n",
      "[11:43:10] WARNING: C:/Users/administrator/workspace/xgboost-win64_release_1.6.0/src/objective/regression_obj.cu:203: reg:linear is now deprecated in favor of reg:squarederror.\n"
     ]
    },
    {
     "data": {
      "text/html": [
       "<div>\n",
       "<style scoped>\n",
       "    .dataframe tbody tr th:only-of-type {\n",
       "        vertical-align: middle;\n",
       "    }\n",
       "\n",
       "    .dataframe tbody tr th {\n",
       "        vertical-align: top;\n",
       "    }\n",
       "\n",
       "    .dataframe thead th {\n",
       "        text-align: right;\n",
       "    }\n",
       "</style>\n",
       "<table border=\"1\" class=\"dataframe\">\n",
       "  <thead>\n",
       "    <tr style=\"text-align: right;\">\n",
       "      <th></th>\n",
       "      <th>train-rmse-mean</th>\n",
       "      <th>train-rmse-std</th>\n",
       "      <th>test-rmse-mean</th>\n",
       "      <th>test-rmse-std</th>\n",
       "    </tr>\n",
       "  </thead>\n",
       "  <tbody>\n",
       "    <tr>\n",
       "      <th>0</th>\n",
       "      <td>8.561544</td>\n",
       "      <td>0.011442</td>\n",
       "      <td>8.562211</td>\n",
       "      <td>0.048557</td>\n",
       "    </tr>\n",
       "    <tr>\n",
       "      <th>1</th>\n",
       "      <td>7.819224</td>\n",
       "      <td>0.058598</td>\n",
       "      <td>7.821257</td>\n",
       "      <td>0.062035</td>\n",
       "    </tr>\n",
       "    <tr>\n",
       "      <th>2</th>\n",
       "      <td>7.220863</td>\n",
       "      <td>0.063109</td>\n",
       "      <td>7.223078</td>\n",
       "      <td>0.065964</td>\n",
       "    </tr>\n",
       "    <tr>\n",
       "      <th>3</th>\n",
       "      <td>6.675575</td>\n",
       "      <td>0.094375</td>\n",
       "      <td>6.676959</td>\n",
       "      <td>0.090145</td>\n",
       "    </tr>\n",
       "    <tr>\n",
       "      <th>4</th>\n",
       "      <td>6.161336</td>\n",
       "      <td>0.049625</td>\n",
       "      <td>6.162983</td>\n",
       "      <td>0.062025</td>\n",
       "    </tr>\n",
       "  </tbody>\n",
       "</table>\n",
       "</div>"
      ],
      "text/plain": [
       "   train-rmse-mean  train-rmse-std  test-rmse-mean  test-rmse-std\n",
       "0         8.561544        0.011442        8.562211       0.048557\n",
       "1         7.819224        0.058598        7.821257       0.062035\n",
       "2         7.220863        0.063109        7.223078       0.065964\n",
       "3         6.675575        0.094375        6.676959       0.090145\n",
       "4         6.161336        0.049625        6.162983       0.062025"
      ]
     },
     "execution_count": 83,
     "metadata": {},
     "output_type": "execute_result"
    }
   ],
   "source": [
    "params = {\"objective\":\"reg:linear\",'colsample_bytree': 0.3,'learning_rate': 0.1,\n",
    "                'max_depth': 5, 'alpha': 10}\n",
    "\n",
    "cv_results = xgb.cv(dtrain=data_dmatrix, params=params, nfold=5, num_boost_round=50, \\\n",
    "                    early_stopping_rounds=10,metrics=\"rmse\", as_pandas=True, seed=123)\n",
    "cv_results.head()"
   ]
  },
  {
   "cell_type": "code",
   "execution_count": 84,
   "metadata": {
    "colab": {
     "base_uri": "https://localhost:8080/"
    },
    "executionInfo": {
     "elapsed": 20,
     "status": "ok",
     "timestamp": 1666503083709,
     "user": {
      "displayName": "Debprasad Kundu",
      "userId": "13893367320446695825"
     },
     "user_tz": -330
    },
    "id": "MqdWK8ZLOSBR",
    "outputId": "609f5741-b0df-447a-bdca-14b5326b6469"
   },
   "outputs": [
    {
     "name": "stdout",
     "output_type": "stream",
     "text": [
      "49    2.436534\n",
      "Name: test-rmse-mean, dtype: float64\n"
     ]
    }
   ],
   "source": [
    "# the final boosting round metric\n",
    "print((cv_results[\"test-rmse-mean\"]).tail(1))"
   ]
  },
  {
   "cell_type": "code",
   "execution_count": 85,
   "metadata": {
    "colab": {
     "base_uri": "https://localhost:8080/",
     "height": 786
    },
    "executionInfo": {
     "elapsed": 2493,
     "status": "ok",
     "timestamp": 1666503086188,
     "user": {
      "displayName": "Debprasad Kundu",
      "userId": "13893367320446695825"
     },
     "user_tz": -330
    },
    "id": "WjwMmefUOSBS",
    "outputId": "7a57ac82-0117-47c5-c6da-e1e5c03c628c",
    "scrolled": false
   },
   "outputs": [
    {
     "name": "stdout",
     "output_type": "stream",
     "text": [
      "####################### Training Data Score ######################\n",
      "\n",
      "r square   0.831251488402075\n",
      "Adjusted r square:0.8303624024610954\n",
      "MAPE:14.973808402623934\n",
      "MSE: 2.882448603617814\n",
      "RMSE: 1.6977775483312925\n",
      "RMSLE: 0.16596335949026964\n",
      "\n",
      "####################### Testing Data Score ######################\n",
      "\n",
      "r square   0.6459758263148447\n",
      "Adjusted r square:0.6403204880770628\n",
      "MAPE:21.056729755515033\n",
      "MSE: 5.960165117597703\n",
      "RMSE: 2.4413449403141914\n",
      "RMSLE: 0.2333664396065485\n",
      "   predicted  actual\n",
      "0  12.463996    10.9\n",
      "1   5.154791     5.3\n",
      "2   6.922424     7.3\n",
      "3   7.412126     6.5\n",
      "4   5.610310     5.0\n"
     ]
    },
    {
     "data": {
      "image/png": "[encoded data removed]",
      "text/plain": [
       "<Figure size 360x360 with 1 Axes>"
      ]
     },
     "metadata": {
      "needs_background": "light"
     },
     "output_type": "display_data"
    }
   ],
   "source": [
    "Xgb = XGBRegressor()\n",
    "Xgb.fit(X_train,y_train)\n",
    "# pred_xgb = model_xgb.predict(X_test)\n",
    "test_scores(Xgb)"
   ]
  },
  {
   "cell_type": "code",
   "execution_count": 86,
   "metadata": {
    "colab": {
     "base_uri": "https://localhost:8080/"
    },
    "executionInfo": {
     "elapsed": 94266,
     "status": "ok",
     "timestamp": 1666503180448,
     "user": {
      "displayName": "Debprasad Kundu",
      "userId": "13893367320446695825"
     },
     "user_tz": -330
    },
    "id": "MWSKLLhwOSBS",
    "outputId": "551072a3-abb5-4821-f786-e379d93f5b2f"
   },
   "outputs": [
    {
     "name": "stdout",
     "output_type": "stream",
     "text": [
      "Tuned Xgboost Parameters: {'subsample': 0.7000000000000001, 'reg_alpha': 0.0029470517025518097, 'n_estimators': 400, 'max_depth': 5, 'learning_rate': 0.1, 'colsample_bytree': 0.1, 'colsample_bynode': 0.7000000000000001, 'colsample_bylevel': 0.9000000000000001}\n",
      "Best score is 0.6702948529718293\n"
     ]
    }
   ],
   "source": [
    "# Create the random grid\n",
    "para = {'n_estimators': range(100,500,100),\n",
    "               'max_depth': range(3,10,1),\n",
    "        'reg_alpha':np.logspace(-4, 0, 50),\n",
    "        'subsample': np.arange(0.1,1,0.2),\n",
    "        'colsample_bytree': np.arange(0.1,1,0.2),\n",
    "        'colsample_bylevel': np.arange(0.1,1,0.2),\n",
    "        'colsample_bynode': np.arange(0.1,1,0.2),\n",
    "       'learning_rate': np.arange(.05, 1, .05)}\n",
    "# Instantiate a Decision Forest classifier: Forest\n",
    "Xgb = XGBRegressor()\n",
    "\n",
    "# Instantiate the gridSearchCV object: Forest_cv\n",
    "xgb_cv = RandomizedSearchCV(Xgb, para, cv=5)\n",
    "\n",
    "# Fit it to the data\n",
    "xgb_cv.fit(X, y)\n",
    "\n",
    "# Print the tuned parameters and score\n",
    "print(\"Tuned Xgboost Parameters: {}\".format(xgb_cv.best_params_))\n",
    "print(\"Best score is {}\".format(xgb_cv.best_score_))\n"
   ]
  },
  {
   "cell_type": "code",
   "execution_count": 87,
   "metadata": {
    "colab": {
     "base_uri": "https://localhost:8080/",
     "height": 548
    },
    "executionInfo": {
     "elapsed": 1643,
     "status": "error",
     "timestamp": 1666503313953,
     "user": {
      "displayName": "Debprasad Kundu",
      "userId": "13893367320446695825"
     },
     "user_tz": -330
    },
    "id": "988kOmzqOSBT",
    "outputId": "e80e379d-de3e-41e2-cdfb-6d8ad2db92c1",
    "scrolled": false
   },
   "outputs": [
    {
     "name": "stdout",
     "output_type": "stream",
     "text": [
      "[0.01331371 0.00790716 0.01029696 0.01392816 0.01299997 0.0104322\n",
      " 0.0112596  0.01293606 0.01134921 0.01539272 0.01386619 0.01398415\n",
      " 0.01140983 0.01436057 0.01190361 0.01024576 0.01346429 0.01305547\n",
      " 0.00997069 0.00882086 0.011356   0.01706624 0.0130642  0.00967068\n",
      " 0.00983527 0.01307185 0.01125079 0.01842771 0.01715925 0.01396996\n",
      " 0.01075262 0.01390921 0.02139916 0.0276706  0.00998244 0.01199233\n",
      " 0.01697178 0.01206113 0.01221104 0.01415228 0.01314988 0.0178513\n",
      " 0.01271001 0.00832141 0.01235841 0.0142411  0.01547115 0.01383345\n",
      " 0.01617813 0.01230763 0.00943172 0.01796072 0.01815297 0.01629731\n",
      " 0.01535075 0.01776762 0.01362287 0.01438768 0.01085158 0.2028826 ]\n",
      "####################### Training Data Score ######################\n",
      "\n",
      "r square   0.6884008866182836\n",
      "Adjusted r square:0.686759163154734\n",
      "MAPE:19.46283391062575\n",
      "MSE: 5.3225265263123145\n",
      "RMSE: 2.307060147961538\n",
      "RMSLE: 0.21678814556888432\n",
      "\n",
      "####################### Testing Data Score ######################\n",
      "\n",
      "r square   0.6708495531678724\n",
      "Adjusted r square:0.6655915588095317\n",
      "MAPE:20.157338452689924\n",
      "MSE: 5.541404111559982\n",
      "RMSE: 2.3540187152102217\n",
      "RMSLE: 0.22370583502263397\n",
      "   predicted  actual\n",
      "0  11.304455    10.9\n",
      "1   4.897950     5.3\n",
      "2   7.916823     7.3\n",
      "3   6.674697     6.5\n",
      "4   5.602547     5.0\n"
     ]
    },
    {
     "data": {
      "image/png": "[encoded data removed]",
      "text/plain": [
       "<Figure size 360x360 with 1 Axes>"
      ]
     },
     "metadata": {
      "needs_background": "light"
     },
     "output_type": "display_data"
    }
   ],
   "source": [
    "# Instantiate a xgb regressor: xgb\n",
    "Xgb = XGBRegressor(subsample= 0.1, reg_alpha= 0.08685113737513521, n_estimators= 200, \\\n",
    "                   max_depth= 3, learning_rate=0.05, colsample_bytree= 0.7000000000000001, \\\n",
    "                   colsample_bynode=0.7000000000000001, colsample_bylevel=0.9000000000000001)\n",
    "\n",
    "# Fit the regressor to the data\n",
    "Xgb.fit(X_train,y_train)\n",
    "\n",
    "# Compute and print the coefficients\n",
    "xgb_features = Xgb.feature_importances_\n",
    "print(xgb_features)\n",
    "\n",
    "test_scores(Xgb)"
   ]
  },
  {
   "cell_type": "markdown",
   "metadata": {
    "id": "I_11qf7sOSBT"
   },
   "source": [
    "## Finalize model\n",
    "- Create standalone model on entire training dataset\n",
    "- Save model for later use"
   ]
  },
  {
   "cell_type": "code",
   "execution_count": 88,
   "metadata": {
    "executionInfo": {
     "elapsed": 30,
     "status": "ok",
     "timestamp": 1666503182947,
     "user": {
      "displayName": "Debprasad Kundu",
      "userId": "13893367320446695825"
     },
     "user_tz": -330
    },
    "id": "KICUvBSSOSBT"
   },
   "outputs": [],
   "source": [
    "def rmsle(y,y_):\n",
    "    log1 = np.nan_to_num(np.array([np.log(v + 1) for v in y]))\n",
    "    log2 = np.nan_to_num(np.array([np.log(v + 1) for v in y_]))\n",
    "    calc = (log1 - log2) ** 2\n",
    "    return np.sqrt(np.mean(calc))\n",
    "def score(y, y_):\n",
    "    print('r square  ', metrics.r2_score(y, y_))\n",
    "    print('Adjusted r square:{}'.format(1 - (1-metrics.r2_score(y, y_))*(len(y)-1)/(len(y)-X_train.shape[1]-1)))\n",
    "    print('MAPE:{}'.format(np.mean(np.abs((y - y_) / y))*100))\n",
    "    print('MSE:', metrics.mean_squared_error(y, y_))\n",
    "    print('RMSE:', np.sqrt(metrics.mean_squared_error(y, y_)))\n",
    "    print('RMSLE:',rmsle(y_test,y_pred))\n",
    "def scores(model):\n",
    "    print('############################# Training Data Score ##############################')\n",
    "    print()\n",
    "    #Predicting result on Training data\n",
    "    y_pred = model.predict(X)\n",
    "    score(y,y_pred)\n",
    "    \n",
    "    #Comparison Dataframe\n",
    "    model_eval = pd.DataFrame({'predicted':y_pred, 'actual': y})\n",
    "    print(model_eval.head())\n",
    "    #Scatter plot of Actual vs Predicted\n",
    "    ax = sns.lmplot(x=\"predicted\", y=\"actual\", data=model_eval)\n",
    "    \n",
    "    \n",
    "    "
   ]
  },
  {
   "cell_type": "code",
   "execution_count": 89,
   "metadata": {
    "colab": {
     "base_uri": "https://localhost:8080/"
    },
    "executionInfo": {
     "elapsed": 28,
     "status": "ok",
     "timestamp": 1666503182948,
     "user": {
      "displayName": "Debprasad Kundu",
      "userId": "13893367320446695825"
     },
     "user_tz": -330
    },
    "id": "1ls-D71fOSBU",
    "outputId": "12f1393f-4600-4b98-f7e4-2da17218b089",
    "scrolled": true
   },
   "outputs": [
    {
     "data": {
      "text/plain": [
       "Index(['passenger_count_1', 'passenger_count_2', 'passenger_count_3',\n",
       "       'passenger_count_4', 'passenger_count_5', 'year_2009', 'year_2010',\n",
       "       'year_2011', 'year_2012', 'year_2013', 'year_2014', 'month_1',\n",
       "       'month_2', 'month_3', 'month_4', 'month_5', 'month_6', 'month_7',\n",
       "       'month_8', 'month_9', 'month_10', 'month_11', 'day_of_week_0',\n",
       "       'day_of_week_1', 'day_of_week_2', 'day_of_week_3', 'day_of_week_4',\n",
       "       'day_of_week_5', 'hour_0', 'hour_1', 'hour_2', 'hour_3', 'hour_4',\n",
       "       'hour_5', 'hour_6', 'hour_7', 'hour_8', 'hour_9', 'hour_10', 'hour_11',\n",
       "       'hour_12', 'hour_13', 'hour_14', 'hour_15', 'hour_16', 'hour_17',\n",
       "       'hour_18', 'hour_19', 'hour_20', 'hour_21', 'hour_22',\n",
       "       'session_afternoon', 'session_evening', 'session_morning',\n",
       "       'session_night_PM', 'seasons_fall', 'seasons_spring', 'seasons_summer',\n",
       "       'week_weekend', 'great_circle', 'geodesic'],\n",
       "      dtype='object')"
      ]
     },
     "execution_count": 89,
     "metadata": {},
     "output_type": "execute_result"
    }
   ],
   "source": [
    "car_df_test.columns"
   ]
  },
  {
   "cell_type": "code",
   "execution_count": 90,
   "metadata": {
    "colab": {
     "base_uri": "https://localhost:8080/"
    },
    "executionInfo": {
     "elapsed": 27,
     "status": "ok",
     "timestamp": 1666503182949,
     "user": {
      "displayName": "Debprasad Kundu",
      "userId": "13893367320446695825"
     },
     "user_tz": -330
    },
    "id": "VSq68ma2OSBU",
    "outputId": "2746ebcb-8e0b-4586-a437-a75e4804377b",
    "scrolled": false
   },
   "outputs": [
    {
     "data": {
      "text/plain": [
       "Index(['fare_amount', 'passenger_count_1.0', 'passenger_count_2.0',\n",
       "       'passenger_count_3.0', 'passenger_count_4.0', 'passenger_count_5.0',\n",
       "       'year_2009', 'year_2010', 'year_2011', 'year_2012', 'year_2013',\n",
       "       'year_2014', 'month_1', 'month_2', 'month_3', 'month_4', 'month_5',\n",
       "       'month_6', 'month_7', 'month_8', 'month_9', 'month_10', 'month_11',\n",
       "       'day_of_week_0', 'day_of_week_1', 'day_of_week_2', 'day_of_week_3',\n",
       "       'day_of_week_4', 'day_of_week_5', 'hour_0', 'hour_1', 'hour_2',\n",
       "       'hour_3', 'hour_4', 'hour_5', 'hour_6', 'hour_7', 'hour_8', 'hour_9',\n",
       "       'hour_10', 'hour_11', 'hour_12', 'hour_13', 'hour_14', 'hour_15',\n",
       "       'hour_16', 'hour_17', 'hour_18', 'hour_19', 'hour_20', 'hour_21',\n",
       "       'hour_22', 'session_afternoon', 'session_evening', 'session_morning',\n",
       "       'session_night_PM', 'seasons_fall', 'seasons_spring', 'seasons_summer',\n",
       "       'week_weekend', 'great_circle', 'geodesic'],\n",
       "      dtype='object')"
      ]
     },
     "execution_count": 90,
     "metadata": {},
     "output_type": "execute_result"
    }
   ],
   "source": [
    "car_df_train.columns"
   ]
  },
  {
   "cell_type": "code",
   "execution_count": 92,
   "metadata": {
    "executionInfo": {
     "elapsed": 21,
     "status": "ok",
     "timestamp": 1666503182950,
     "user": {
      "displayName": "Debprasad Kundu",
      "userId": "13893367320446695825"
     },
     "user_tz": -330
    },
    "id": "PcQORdoCOSBU"
   },
   "outputs": [],
   "source": [
    "a=pd.read_csv(\"D:\\\\projects\\\\Self Project\\\\New York City Taxi Fare Prediction\\\\dataset\\\\test.csv\")\n",
    "test_pickup_datetime=a['pickup_datetime']"
   ]
  },
  {
   "cell_type": "code",
   "execution_count": 93,
   "metadata": {
    "executionInfo": {
     "elapsed": 20,
     "status": "ok",
     "timestamp": 1666503182950,
     "user": {
      "displayName": "Debprasad Kundu",
      "userId": "13893367320446695825"
     },
     "user_tz": -330
    },
    "id": "rTs7Xsn3OSBU"
   },
   "outputs": [],
   "source": [
    "car_df_test_1 = car_df_test.copy()"
   ]
  },
  {
   "cell_type": "code",
   "execution_count": 94,
   "metadata": {
    "executionInfo": {
     "elapsed": 20,
     "status": "ok",
     "timestamp": 1666503182951,
     "user": {
      "displayName": "Debprasad Kundu",
      "userId": "13893367320446695825"
     },
     "user_tz": -330
    },
    "id": "hpVgvwL7OSBV"
   },
   "outputs": [],
   "source": [
    "car_df_test_1 = car_df_test_1.rename(columns = {\"passenger_count_1\": \"passenger_count_1.0\",\n",
    "                    \"passenger_count_2\": \"passenger_count_2.0\",\n",
    "                    \"passenger_count_3\": \"passenger_count_3.0\",\n",
    "                    \"passenger_count_4\": \"passenger_count_4.0\",\n",
    "                    \"passenger_count_5\": \"passenger_count_5.0\"\n",
    "                    }) "
   ]
  },
  {
   "cell_type": "code",
   "execution_count": 95,
   "metadata": {
    "executionInfo": {
     "elapsed": 19,
     "status": "ok",
     "timestamp": 1666503182951,
     "user": {
      "displayName": "Debprasad Kundu",
      "userId": "13893367320446695825"
     },
     "user_tz": -330
    },
    "id": "koKHSTXXOSBV"
   },
   "outputs": [],
   "source": [
    "car_df_test_1 = car_df_test_1.drop('great_circle', axis=1)"
   ]
  },
  {
   "cell_type": "code",
   "execution_count": 96,
   "metadata": {
    "colab": {
     "base_uri": "https://localhost:8080/",
     "height": 803
    },
    "executionInfo": {
     "elapsed": 2922,
     "status": "ok",
     "timestamp": 1666503185854,
     "user": {
      "displayName": "Debprasad Kundu",
      "userId": "13893367320446695825"
     },
     "user_tz": -330
    },
    "id": "ipsIL03_OSBV",
    "outputId": "28c01d32-26c8-46de-ef55-a19d35dc3876",
    "scrolled": false
   },
   "outputs": [
    {
     "name": "stdout",
     "output_type": "stream",
     "text": [
      "[0.01222183 0.0128816  0.01372618 0.01305416 0.01371601 0.01495692\n",
      " 0.00804696 0.01278265 0.01107002 0.01209876 0.01597841 0.01135675\n",
      " 0.01160799 0.01633148 0.00954226 0.01611836 0.01356236 0.01514364\n",
      " 0.00904228 0.01165477 0.00948061 0.01401629 0.01435943 0.01244492\n",
      " 0.01322275 0.01693969 0.00921664 0.01223837 0.01433301 0.01075592\n",
      " 0.01339457 0.01247553 0.01644348 0.01044459 0.01150028 0.01039276\n",
      " 0.01121958 0.01516494 0.01018094 0.01373227 0.01443943 0.01038799\n",
      " 0.01242126 0.01200523 0.01465153 0.01592312 0.01475024 0.01218365\n",
      " 0.01281803 0.01274815 0.01322853 0.01529829 0.01296318 0.01656729\n",
      " 0.01439566 0.01613758 0.01112247 0.01628417 0.01486884 0.22995532]\n",
      "############################# Training Data Score ##############################\n",
      "\n",
      "r square   0.6858939188052144\n",
      "Adjusted r square:0.6846544341046761\n",
      "MAPE:19.57988869056554\n",
      "MSE: 5.346216729842913\n",
      "RMSE: 2.312188731449687\n",
      "RMSLE: 0.22430349579269615\n",
      "   predicted  actual\n",
      "0   5.656184     4.5\n",
      "1  16.353056    16.9\n",
      "2   6.572879     5.7\n",
      "3   9.251789     7.7\n",
      "4   8.031531     5.3\n"
     ]
    },
    {
     "data": {
      "image/png": "[encoded data removed]",
      "text/plain": [
       "<Figure size 360x360 with 1 Axes>"
      ]
     },
     "metadata": {
      "needs_background": "light"
     },
     "output_type": "display_data"
    }
   ],
   "source": [
    "# Instantiate a xgb regressor: xgb\n",
    "Xgb = XGBRegressor(subsample= 0.1, reg_alpha= 0.08685113737513521, n_estimators= 200, max_depth= 3, learning_rate=0.05, colsample_bytree= 0.7000000000000001, colsample_bynode=0.7000000000000001, colsample_bylevel=0.9000000000000001)\n",
    "\n",
    "# Fit the regressor to the data\n",
    "Xgb.fit(X,y)\n",
    "\n",
    "# Compute and print the coefficients\n",
    "xgb_features = Xgb.feature_importances_\n",
    "print(xgb_features)\n",
    "\n",
    "scores(Xgb)\n",
    "\n",
    "# Predictions\n",
    "pred = Xgb.predict(car_df_test_1.values)\n",
    "pred_results_wrt_date = pd.DataFrame({\"pickup_datetime\":test_pickup_datetime,\"fare_amount\" : pred})\n",
    "pred_results_wrt_date.to_csv(\"predictions_xgboost.csv\",index=False)"
   ]
  },
  {
   "cell_type": "code",
   "execution_count": 97,
   "metadata": {
    "colab": {
     "base_uri": "https://localhost:8080/",
     "height": 424
    },
    "executionInfo": {
     "elapsed": 35,
     "status": "ok",
     "timestamp": 1666503185856,
     "user": {
      "displayName": "Debprasad Kundu",
      "userId": "13893367320446695825"
     },
     "user_tz": -330
    },
    "id": "cAqfYesnOSBW",
    "outputId": "924bee59-c99a-4dfe-dcf1-c7e0aadb5234",
    "scrolled": true
   },
   "outputs": [
    {
     "data": {
      "text/html": [
       "<div>\n",
       "<style scoped>\n",
       "    .dataframe tbody tr th:only-of-type {\n",
       "        vertical-align: middle;\n",
       "    }\n",
       "\n",
       "    .dataframe tbody tr th {\n",
       "        vertical-align: top;\n",
       "    }\n",
       "\n",
       "    .dataframe thead th {\n",
       "        text-align: right;\n",
       "    }\n",
       "</style>\n",
       "<table border=\"1\" class=\"dataframe\">\n",
       "  <thead>\n",
       "    <tr style=\"text-align: right;\">\n",
       "      <th></th>\n",
       "      <th>pickup_datetime</th>\n",
       "      <th>fare_amount</th>\n",
       "    </tr>\n",
       "  </thead>\n",
       "  <tbody>\n",
       "    <tr>\n",
       "      <th>0</th>\n",
       "      <td>2015-01-27 13:08:24 UTC</td>\n",
       "      <td>5.891248</td>\n",
       "    </tr>\n",
       "    <tr>\n",
       "      <th>1</th>\n",
       "      <td>2015-01-27 13:08:24 UTC</td>\n",
       "      <td>5.779104</td>\n",
       "    </tr>\n",
       "    <tr>\n",
       "      <th>2</th>\n",
       "      <td>2011-10-08 11:53:44 UTC</td>\n",
       "      <td>6.103760</td>\n",
       "    </tr>\n",
       "    <tr>\n",
       "      <th>3</th>\n",
       "      <td>2012-12-01 21:12:12 UTC</td>\n",
       "      <td>4.968854</td>\n",
       "    </tr>\n",
       "    <tr>\n",
       "      <th>4</th>\n",
       "      <td>2012-12-01 21:12:12 UTC</td>\n",
       "      <td>4.567230</td>\n",
       "    </tr>\n",
       "    <tr>\n",
       "      <th>...</th>\n",
       "      <td>...</td>\n",
       "      <td>...</td>\n",
       "    </tr>\n",
       "    <tr>\n",
       "      <th>9909</th>\n",
       "      <td>2015-05-10 12:37:51 UTC</td>\n",
       "      <td>5.725497</td>\n",
       "    </tr>\n",
       "    <tr>\n",
       "      <th>9910</th>\n",
       "      <td>2015-01-12 17:05:51 UTC</td>\n",
       "      <td>5.566887</td>\n",
       "    </tr>\n",
       "    <tr>\n",
       "      <th>9911</th>\n",
       "      <td>2015-04-19 20:44:15 UTC</td>\n",
       "      <td>7.124854</td>\n",
       "    </tr>\n",
       "    <tr>\n",
       "      <th>9912</th>\n",
       "      <td>2015-01-31 01:05:19 UTC</td>\n",
       "      <td>4.982300</td>\n",
       "    </tr>\n",
       "    <tr>\n",
       "      <th>9913</th>\n",
       "      <td>2015-01-18 14:06:23 UTC</td>\n",
       "      <td>5.877065</td>\n",
       "    </tr>\n",
       "  </tbody>\n",
       "</table>\n",
       "<p>9914 rows × 2 columns</p>\n",
       "</div>"
      ],
      "text/plain": [
       "              pickup_datetime  fare_amount\n",
       "0     2015-01-27 13:08:24 UTC     5.891248\n",
       "1     2015-01-27 13:08:24 UTC     5.779104\n",
       "2     2011-10-08 11:53:44 UTC     6.103760\n",
       "3     2012-12-01 21:12:12 UTC     4.968854\n",
       "4     2012-12-01 21:12:12 UTC     4.567230\n",
       "...                       ...          ...\n",
       "9909  2015-05-10 12:37:51 UTC     5.725497\n",
       "9910  2015-01-12 17:05:51 UTC     5.566887\n",
       "9911  2015-04-19 20:44:15 UTC     7.124854\n",
       "9912  2015-01-31 01:05:19 UTC     4.982300\n",
       "9913  2015-01-18 14:06:23 UTC     5.877065\n",
       "\n",
       "[9914 rows x 2 columns]"
      ]
     },
     "execution_count": 97,
     "metadata": {},
     "output_type": "execute_result"
    }
   ],
   "source": [
    "pred_results_wrt_date"
   ]
  },
  {
   "cell_type": "code",
   "execution_count": 98,
   "metadata": {
    "colab": {
     "base_uri": "https://localhost:8080/"
    },
    "executionInfo": {
     "elapsed": 33,
     "status": "ok",
     "timestamp": 1666503185857,
     "user": {
      "displayName": "Debprasad Kundu",
      "userId": "13893367320446695825"
     },
     "user_tz": -330
    },
    "id": "5owDiZaXOSBW",
    "outputId": "ae578659-f60d-49ef-e48e-3cff161dbafe"
   },
   "outputs": [
    {
     "data": {
      "text/plain": [
       "['cab_fare_xgboost_model.pkl']"
      ]
     },
     "execution_count": 98,
     "metadata": {},
     "output_type": "execute_result"
    }
   ],
   "source": [
    "# Save the model as a pickle in a file \n",
    "joblib.dump(Xgb, 'cab_fare_xgboost_model.pkl') \n",
    "  \n",
    "# # Load the model from the file \n",
    "# Xgb_from_joblib = joblib.load('cab_fare_xgboost_model.pkl')  "
   ]
  },
  {
   "cell_type": "code",
   "execution_count": null,
   "metadata": {},
   "outputs": [],
   "source": []
  }
 ],
 "metadata": {
  "colab": {
   "provenance": []
  },
  "kernelspec": {
   "display_name": "Python 3 (ipykernel)",
   "language": "python",
   "name": "python3"
  },
  "language_info": {
   "codemirror_mode": {
    "name": "ipython",
    "version": 3
   },
   "file_extension": ".py",
   "mimetype": "text/x-python",
   "name": "python",
   "nbconvert_exporter": "python",
   "pygments_lexer": "ipython3",
   "version": "3.9.7"
  },
  "latex_envs": {
   "LaTeX_envs_menu_present": true,
   "autoclose": false,
   "autocomplete": true,
   "bibliofile": "biblio.bib",
   "cite_by": "apalike",
   "current_citInitial": 1,
   "eqLabelWithNumbers": true,
   "eqNumInitial": 1,
   "hotkeys": {
    "equation": "Ctrl-E",
    "itemize": "Ctrl-I"
   },
   "labels_anchors": false,
   "latex_user_defs": false,
   "report_style_numbering": false,
   "user_envs_cfg": false
  },
  "varInspector": {
   "cols": {
    "lenName": 16,
    "lenType": 16,
    "lenVar": 40
   },
   "kernels_config": {
    "python": {
     "delete_cmd_postfix": "",
     "delete_cmd_prefix": "del ",
     "library": "var_list.py",
     "varRefreshCmd": "print(var_dic_list())"
    },
    "r": {
     "delete_cmd_postfix": ") ",
     "delete_cmd_prefix": "rm(",
     "library": "var_list.r",
     "varRefreshCmd": "cat(var_dic_list()) "
    }
   },
   "oldHeight": 122,
   "position": {
    "height": "40px",
    "left": "1096px",
    "right": "20px",
    "top": "120px",
    "width": "250px"
   },
   "types_to_exclude": [
    "module",
    "function",
    "builtin_function_or_method",
    "instance",
    "_Feature"
   ],
   "varInspector_section_display": "none",
   "window_display": false
  }
 },
 "nbformat": 4,
 "nbformat_minor": 1
}
